{
  "nbformat": 4,
  "nbformat_minor": 0,
  "metadata": {
    "accelerator": "GPU",
    "colab": {
      "name": "Gender Detection ",
      "provenance": [],
      "collapsed_sections": [],
      "toc_visible": true
    },
    "kernelspec": {
      "display_name": "Python 3",
      "name": "python3"
    },
    "language_info": {
      "name": "python"
    },
    "widgets": {
      "application/vnd.jupyter.widget-state+json": {
        "8858513894614114a537204dea3f80e7": {
          "model_module": "@jupyter-widgets/controls",
          "model_name": "HBoxModel",
          "model_module_version": "1.5.0",
          "state": {
            "_view_name": "HBoxView",
            "_dom_classes": [],
            "_model_name": "HBoxModel",
            "_view_module": "@jupyter-widgets/controls",
            "_model_module_version": "1.5.0",
            "_view_count": null,
            "_view_module_version": "1.5.0",
            "box_style": "",
            "layout": "IPY_MODEL_5d6e58535788471a9a31eaa2dd21202f",
            "_model_module": "@jupyter-widgets/controls",
            "children": [
              "IPY_MODEL_50eb5d1045df488dad0bdcd89f16c4aa",
              "IPY_MODEL_001b6f3d1f06406bb90a5e9e1b9337b8"
            ]
          }
        },
        "5d6e58535788471a9a31eaa2dd21202f": {
          "model_module": "@jupyter-widgets/base",
          "model_name": "LayoutModel",
          "model_module_version": "1.2.0",
          "state": {
            "_view_name": "LayoutView",
            "grid_template_rows": null,
            "right": null,
            "justify_content": null,
            "_view_module": "@jupyter-widgets/base",
            "overflow": null,
            "_model_module_version": "1.2.0",
            "_view_count": null,
            "flex_flow": null,
            "width": null,
            "min_width": null,
            "border": null,
            "align_items": null,
            "bottom": null,
            "_model_module": "@jupyter-widgets/base",
            "top": null,
            "grid_column": null,
            "overflow_y": null,
            "overflow_x": null,
            "grid_auto_flow": null,
            "grid_area": null,
            "grid_template_columns": null,
            "flex": null,
            "_model_name": "LayoutModel",
            "justify_items": null,
            "grid_row": null,
            "max_height": null,
            "align_content": null,
            "visibility": null,
            "align_self": null,
            "height": null,
            "min_height": null,
            "padding": null,
            "grid_auto_rows": null,
            "grid_gap": null,
            "max_width": null,
            "order": null,
            "_view_module_version": "1.2.0",
            "grid_template_areas": null,
            "object_position": null,
            "object_fit": null,
            "grid_auto_columns": null,
            "margin": null,
            "display": null,
            "left": null
          }
        },
        "50eb5d1045df488dad0bdcd89f16c4aa": {
          "model_module": "@jupyter-widgets/controls",
          "model_name": "FloatProgressModel",
          "model_module_version": "1.5.0",
          "state": {
            "_view_name": "ProgressView",
            "style": "IPY_MODEL_cf72ad0ef99c4bc98f5fb8cc975bc3f1",
            "_dom_classes": [],
            "description": "train set: 100%",
            "_model_name": "FloatProgressModel",
            "bar_style": "success",
            "max": 100,
            "_view_module": "@jupyter-widgets/controls",
            "_model_module_version": "1.5.0",
            "value": 100,
            "_view_count": null,
            "_view_module_version": "1.5.0",
            "orientation": "horizontal",
            "min": 0,
            "description_tooltip": null,
            "_model_module": "@jupyter-widgets/controls",
            "layout": "IPY_MODEL_675a8bc42d674c3aaf84cdbb75957e16"
          }
        },
        "001b6f3d1f06406bb90a5e9e1b9337b8": {
          "model_module": "@jupyter-widgets/controls",
          "model_name": "HTMLModel",
          "model_module_version": "1.5.0",
          "state": {
            "_view_name": "HTMLView",
            "style": "IPY_MODEL_8bbfb98825bd44f4b9ad6bf32b1caed8",
            "_dom_classes": [],
            "description": "",
            "_model_name": "HTMLModel",
            "placeholder": "​",
            "_view_module": "@jupyter-widgets/controls",
            "_model_module_version": "1.5.0",
            "value": " 100/100 [13:40&lt;00:00,  8.20s/it]",
            "_view_count": null,
            "_view_module_version": "1.5.0",
            "description_tooltip": null,
            "_model_module": "@jupyter-widgets/controls",
            "layout": "IPY_MODEL_c213d9ff97384411afb6f2f6bc57f574"
          }
        },
        "cf72ad0ef99c4bc98f5fb8cc975bc3f1": {
          "model_module": "@jupyter-widgets/controls",
          "model_name": "ProgressStyleModel",
          "model_module_version": "1.5.0",
          "state": {
            "_view_name": "StyleView",
            "_model_name": "ProgressStyleModel",
            "description_width": "initial",
            "_view_module": "@jupyter-widgets/base",
            "_model_module_version": "1.5.0",
            "_view_count": null,
            "_view_module_version": "1.2.0",
            "bar_color": null,
            "_model_module": "@jupyter-widgets/controls"
          }
        },
        "675a8bc42d674c3aaf84cdbb75957e16": {
          "model_module": "@jupyter-widgets/base",
          "model_name": "LayoutModel",
          "model_module_version": "1.2.0",
          "state": {
            "_view_name": "LayoutView",
            "grid_template_rows": null,
            "right": null,
            "justify_content": null,
            "_view_module": "@jupyter-widgets/base",
            "overflow": null,
            "_model_module_version": "1.2.0",
            "_view_count": null,
            "flex_flow": null,
            "width": null,
            "min_width": null,
            "border": null,
            "align_items": null,
            "bottom": null,
            "_model_module": "@jupyter-widgets/base",
            "top": null,
            "grid_column": null,
            "overflow_y": null,
            "overflow_x": null,
            "grid_auto_flow": null,
            "grid_area": null,
            "grid_template_columns": null,
            "flex": null,
            "_model_name": "LayoutModel",
            "justify_items": null,
            "grid_row": null,
            "max_height": null,
            "align_content": null,
            "visibility": null,
            "align_self": null,
            "height": null,
            "min_height": null,
            "padding": null,
            "grid_auto_rows": null,
            "grid_gap": null,
            "max_width": null,
            "order": null,
            "_view_module_version": "1.2.0",
            "grid_template_areas": null,
            "object_position": null,
            "object_fit": null,
            "grid_auto_columns": null,
            "margin": null,
            "display": null,
            "left": null
          }
        },
        "8bbfb98825bd44f4b9ad6bf32b1caed8": {
          "model_module": "@jupyter-widgets/controls",
          "model_name": "DescriptionStyleModel",
          "model_module_version": "1.5.0",
          "state": {
            "_view_name": "StyleView",
            "_model_name": "DescriptionStyleModel",
            "description_width": "",
            "_view_module": "@jupyter-widgets/base",
            "_model_module_version": "1.5.0",
            "_view_count": null,
            "_view_module_version": "1.2.0",
            "_model_module": "@jupyter-widgets/controls"
          }
        },
        "c213d9ff97384411afb6f2f6bc57f574": {
          "model_module": "@jupyter-widgets/base",
          "model_name": "LayoutModel",
          "model_module_version": "1.2.0",
          "state": {
            "_view_name": "LayoutView",
            "grid_template_rows": null,
            "right": null,
            "justify_content": null,
            "_view_module": "@jupyter-widgets/base",
            "overflow": null,
            "_model_module_version": "1.2.0",
            "_view_count": null,
            "flex_flow": null,
            "width": null,
            "min_width": null,
            "border": null,
            "align_items": null,
            "bottom": null,
            "_model_module": "@jupyter-widgets/base",
            "top": null,
            "grid_column": null,
            "overflow_y": null,
            "overflow_x": null,
            "grid_auto_flow": null,
            "grid_area": null,
            "grid_template_columns": null,
            "flex": null,
            "_model_name": "LayoutModel",
            "justify_items": null,
            "grid_row": null,
            "max_height": null,
            "align_content": null,
            "visibility": null,
            "align_self": null,
            "height": null,
            "min_height": null,
            "padding": null,
            "grid_auto_rows": null,
            "grid_gap": null,
            "max_width": null,
            "order": null,
            "_view_module_version": "1.2.0",
            "grid_template_areas": null,
            "object_position": null,
            "object_fit": null,
            "grid_auto_columns": null,
            "margin": null,
            "display": null,
            "left": null
          }
        },
        "2d43ca23ba424c5e99beec86c9b30889": {
          "model_module": "@jupyter-widgets/controls",
          "model_name": "HBoxModel",
          "model_module_version": "1.5.0",
          "state": {
            "_view_name": "HBoxView",
            "_dom_classes": [],
            "_model_name": "HBoxModel",
            "_view_module": "@jupyter-widgets/controls",
            "_model_module_version": "1.5.0",
            "_view_count": null,
            "_view_module_version": "1.5.0",
            "box_style": "",
            "layout": "IPY_MODEL_4667ccca682e4376b11e77f027c26f35",
            "_model_module": "@jupyter-widgets/controls",
            "children": [
              "IPY_MODEL_d0f59e8e720e40eb8997b9141bb0f8ff",
              "IPY_MODEL_432e0c49ab274ec08879c790883af42a"
            ]
          }
        },
        "4667ccca682e4376b11e77f027c26f35": {
          "model_module": "@jupyter-widgets/base",
          "model_name": "LayoutModel",
          "model_module_version": "1.2.0",
          "state": {
            "_view_name": "LayoutView",
            "grid_template_rows": null,
            "right": null,
            "justify_content": null,
            "_view_module": "@jupyter-widgets/base",
            "overflow": null,
            "_model_module_version": "1.2.0",
            "_view_count": null,
            "flex_flow": null,
            "width": null,
            "min_width": null,
            "border": null,
            "align_items": null,
            "bottom": null,
            "_model_module": "@jupyter-widgets/base",
            "top": null,
            "grid_column": null,
            "overflow_y": null,
            "overflow_x": null,
            "grid_auto_flow": null,
            "grid_area": null,
            "grid_template_columns": null,
            "flex": null,
            "_model_name": "LayoutModel",
            "justify_items": null,
            "grid_row": null,
            "max_height": null,
            "align_content": null,
            "visibility": null,
            "align_self": null,
            "height": null,
            "min_height": null,
            "padding": null,
            "grid_auto_rows": null,
            "grid_gap": null,
            "max_width": null,
            "order": null,
            "_view_module_version": "1.2.0",
            "grid_template_areas": null,
            "object_position": null,
            "object_fit": null,
            "grid_auto_columns": null,
            "margin": null,
            "display": null,
            "left": null
          }
        },
        "d0f59e8e720e40eb8997b9141bb0f8ff": {
          "model_module": "@jupyter-widgets/controls",
          "model_name": "FloatProgressModel",
          "model_module_version": "1.5.0",
          "state": {
            "_view_name": "ProgressView",
            "style": "IPY_MODEL_a8c10ddf9bb34e5896bb44c7660a2591",
            "_dom_classes": [],
            "description": "test set: 100%",
            "_model_name": "FloatProgressModel",
            "bar_style": "success",
            "max": 40,
            "_view_module": "@jupyter-widgets/controls",
            "_model_module_version": "1.5.0",
            "value": 40,
            "_view_count": null,
            "_view_module_version": "1.5.0",
            "orientation": "horizontal",
            "min": 0,
            "description_tooltip": null,
            "_model_module": "@jupyter-widgets/controls",
            "layout": "IPY_MODEL_f54623cf0cda4bfe893cfdba7c190bd6"
          }
        },
        "432e0c49ab274ec08879c790883af42a": {
          "model_module": "@jupyter-widgets/controls",
          "model_name": "HTMLModel",
          "model_module_version": "1.5.0",
          "state": {
            "_view_name": "HTMLView",
            "style": "IPY_MODEL_c030e41f79e44c8cbac0fe1d5b563883",
            "_dom_classes": [],
            "description": "",
            "_model_name": "HTMLModel",
            "placeholder": "​",
            "_view_module": "@jupyter-widgets/controls",
            "_model_module_version": "1.5.0",
            "value": " 40/40 [05:21&lt;00:00,  8.04s/it]",
            "_view_count": null,
            "_view_module_version": "1.5.0",
            "description_tooltip": null,
            "_model_module": "@jupyter-widgets/controls",
            "layout": "IPY_MODEL_090ed262783f4786910586931f938365"
          }
        },
        "a8c10ddf9bb34e5896bb44c7660a2591": {
          "model_module": "@jupyter-widgets/controls",
          "model_name": "ProgressStyleModel",
          "model_module_version": "1.5.0",
          "state": {
            "_view_name": "StyleView",
            "_model_name": "ProgressStyleModel",
            "description_width": "initial",
            "_view_module": "@jupyter-widgets/base",
            "_model_module_version": "1.5.0",
            "_view_count": null,
            "_view_module_version": "1.2.0",
            "bar_color": null,
            "_model_module": "@jupyter-widgets/controls"
          }
        },
        "f54623cf0cda4bfe893cfdba7c190bd6": {
          "model_module": "@jupyter-widgets/base",
          "model_name": "LayoutModel",
          "model_module_version": "1.2.0",
          "state": {
            "_view_name": "LayoutView",
            "grid_template_rows": null,
            "right": null,
            "justify_content": null,
            "_view_module": "@jupyter-widgets/base",
            "overflow": null,
            "_model_module_version": "1.2.0",
            "_view_count": null,
            "flex_flow": null,
            "width": null,
            "min_width": null,
            "border": null,
            "align_items": null,
            "bottom": null,
            "_model_module": "@jupyter-widgets/base",
            "top": null,
            "grid_column": null,
            "overflow_y": null,
            "overflow_x": null,
            "grid_auto_flow": null,
            "grid_area": null,
            "grid_template_columns": null,
            "flex": null,
            "_model_name": "LayoutModel",
            "justify_items": null,
            "grid_row": null,
            "max_height": null,
            "align_content": null,
            "visibility": null,
            "align_self": null,
            "height": null,
            "min_height": null,
            "padding": null,
            "grid_auto_rows": null,
            "grid_gap": null,
            "max_width": null,
            "order": null,
            "_view_module_version": "1.2.0",
            "grid_template_areas": null,
            "object_position": null,
            "object_fit": null,
            "grid_auto_columns": null,
            "margin": null,
            "display": null,
            "left": null
          }
        },
        "c030e41f79e44c8cbac0fe1d5b563883": {
          "model_module": "@jupyter-widgets/controls",
          "model_name": "DescriptionStyleModel",
          "model_module_version": "1.5.0",
          "state": {
            "_view_name": "StyleView",
            "_model_name": "DescriptionStyleModel",
            "description_width": "",
            "_view_module": "@jupyter-widgets/base",
            "_model_module_version": "1.5.0",
            "_view_count": null,
            "_view_module_version": "1.2.0",
            "_model_module": "@jupyter-widgets/controls"
          }
        },
        "090ed262783f4786910586931f938365": {
          "model_module": "@jupyter-widgets/base",
          "model_name": "LayoutModel",
          "model_module_version": "1.2.0",
          "state": {
            "_view_name": "LayoutView",
            "grid_template_rows": null,
            "right": null,
            "justify_content": null,
            "_view_module": "@jupyter-widgets/base",
            "overflow": null,
            "_model_module_version": "1.2.0",
            "_view_count": null,
            "flex_flow": null,
            "width": null,
            "min_width": null,
            "border": null,
            "align_items": null,
            "bottom": null,
            "_model_module": "@jupyter-widgets/base",
            "top": null,
            "grid_column": null,
            "overflow_y": null,
            "overflow_x": null,
            "grid_auto_flow": null,
            "grid_area": null,
            "grid_template_columns": null,
            "flex": null,
            "_model_name": "LayoutModel",
            "justify_items": null,
            "grid_row": null,
            "max_height": null,
            "align_content": null,
            "visibility": null,
            "align_self": null,
            "height": null,
            "min_height": null,
            "padding": null,
            "grid_auto_rows": null,
            "grid_gap": null,
            "max_width": null,
            "order": null,
            "_view_module_version": "1.2.0",
            "grid_template_areas": null,
            "object_position": null,
            "object_fit": null,
            "grid_auto_columns": null,
            "margin": null,
            "display": null,
            "left": null
          }
        },
        "cce19c63650b431d98d7eb82df49131d": {
          "model_module": "@jupyter-widgets/controls",
          "model_name": "HBoxModel",
          "model_module_version": "1.5.0",
          "state": {
            "_view_name": "HBoxView",
            "_dom_classes": [],
            "_model_name": "HBoxModel",
            "_view_module": "@jupyter-widgets/controls",
            "_model_module_version": "1.5.0",
            "_view_count": null,
            "_view_module_version": "1.5.0",
            "box_style": "",
            "layout": "IPY_MODEL_f7044b517d324820b36654ba63dbeaba",
            "_model_module": "@jupyter-widgets/controls",
            "children": [
              "IPY_MODEL_d2136c2041134dcbb10d3ce77d56638c",
              "IPY_MODEL_cc0d970eb00d4901bad6d89a91f9b843"
            ]
          }
        },
        "f7044b517d324820b36654ba63dbeaba": {
          "model_module": "@jupyter-widgets/base",
          "model_name": "LayoutModel",
          "model_module_version": "1.2.0",
          "state": {
            "_view_name": "LayoutView",
            "grid_template_rows": null,
            "right": null,
            "justify_content": null,
            "_view_module": "@jupyter-widgets/base",
            "overflow": null,
            "_model_module_version": "1.2.0",
            "_view_count": null,
            "flex_flow": null,
            "width": null,
            "min_width": null,
            "border": null,
            "align_items": null,
            "bottom": null,
            "_model_module": "@jupyter-widgets/base",
            "top": null,
            "grid_column": null,
            "overflow_y": null,
            "overflow_x": null,
            "grid_auto_flow": null,
            "grid_area": null,
            "grid_template_columns": null,
            "flex": null,
            "_model_name": "LayoutModel",
            "justify_items": null,
            "grid_row": null,
            "max_height": null,
            "align_content": null,
            "visibility": null,
            "align_self": null,
            "height": null,
            "min_height": null,
            "padding": null,
            "grid_auto_rows": null,
            "grid_gap": null,
            "max_width": null,
            "order": null,
            "_view_module_version": "1.2.0",
            "grid_template_areas": null,
            "object_position": null,
            "object_fit": null,
            "grid_auto_columns": null,
            "margin": null,
            "display": null,
            "left": null
          }
        },
        "d2136c2041134dcbb10d3ce77d56638c": {
          "model_module": "@jupyter-widgets/controls",
          "model_name": "FloatProgressModel",
          "model_module_version": "1.5.0",
          "state": {
            "_view_name": "ProgressView",
            "style": "IPY_MODEL_a052a0fb632a426f8435e7e970f04ec7",
            "_dom_classes": [],
            "description": "epoch: 100%",
            "_model_name": "FloatProgressModel",
            "bar_style": "success",
            "max": 30,
            "_view_module": "@jupyter-widgets/controls",
            "_model_module_version": "1.5.0",
            "value": 30,
            "_view_count": null,
            "_view_module_version": "1.5.0",
            "orientation": "horizontal",
            "min": 0,
            "description_tooltip": null,
            "_model_module": "@jupyter-widgets/controls",
            "layout": "IPY_MODEL_5c3bc35d56a9491c9bd22e36f8a7f425"
          }
        },
        "cc0d970eb00d4901bad6d89a91f9b843": {
          "model_module": "@jupyter-widgets/controls",
          "model_name": "HTMLModel",
          "model_module_version": "1.5.0",
          "state": {
            "_view_name": "HTMLView",
            "style": "IPY_MODEL_d893cf2b675443eba6c1210ed9ac5dda",
            "_dom_classes": [],
            "description": "",
            "_model_name": "HTMLModel",
            "placeholder": "​",
            "_view_module": "@jupyter-widgets/controls",
            "_model_module_version": "1.5.0",
            "value": " 30/30 [24:39&lt;00:00, 49.33s/it]",
            "_view_count": null,
            "_view_module_version": "1.5.0",
            "description_tooltip": null,
            "_model_module": "@jupyter-widgets/controls",
            "layout": "IPY_MODEL_9a295701a61849d8b77e4c956666f926"
          }
        },
        "a052a0fb632a426f8435e7e970f04ec7": {
          "model_module": "@jupyter-widgets/controls",
          "model_name": "ProgressStyleModel",
          "model_module_version": "1.5.0",
          "state": {
            "_view_name": "StyleView",
            "_model_name": "ProgressStyleModel",
            "description_width": "initial",
            "_view_module": "@jupyter-widgets/base",
            "_model_module_version": "1.5.0",
            "_view_count": null,
            "_view_module_version": "1.2.0",
            "bar_color": null,
            "_model_module": "@jupyter-widgets/controls"
          }
        },
        "5c3bc35d56a9491c9bd22e36f8a7f425": {
          "model_module": "@jupyter-widgets/base",
          "model_name": "LayoutModel",
          "model_module_version": "1.2.0",
          "state": {
            "_view_name": "LayoutView",
            "grid_template_rows": null,
            "right": null,
            "justify_content": null,
            "_view_module": "@jupyter-widgets/base",
            "overflow": null,
            "_model_module_version": "1.2.0",
            "_view_count": null,
            "flex_flow": null,
            "width": null,
            "min_width": null,
            "border": null,
            "align_items": null,
            "bottom": null,
            "_model_module": "@jupyter-widgets/base",
            "top": null,
            "grid_column": null,
            "overflow_y": null,
            "overflow_x": null,
            "grid_auto_flow": null,
            "grid_area": null,
            "grid_template_columns": null,
            "flex": null,
            "_model_name": "LayoutModel",
            "justify_items": null,
            "grid_row": null,
            "max_height": null,
            "align_content": null,
            "visibility": null,
            "align_self": null,
            "height": null,
            "min_height": null,
            "padding": null,
            "grid_auto_rows": null,
            "grid_gap": null,
            "max_width": null,
            "order": null,
            "_view_module_version": "1.2.0",
            "grid_template_areas": null,
            "object_position": null,
            "object_fit": null,
            "grid_auto_columns": null,
            "margin": null,
            "display": null,
            "left": null
          }
        },
        "d893cf2b675443eba6c1210ed9ac5dda": {
          "model_module": "@jupyter-widgets/controls",
          "model_name": "DescriptionStyleModel",
          "model_module_version": "1.5.0",
          "state": {
            "_view_name": "StyleView",
            "_model_name": "DescriptionStyleModel",
            "description_width": "",
            "_view_module": "@jupyter-widgets/base",
            "_model_module_version": "1.5.0",
            "_view_count": null,
            "_view_module_version": "1.2.0",
            "_model_module": "@jupyter-widgets/controls"
          }
        },
        "9a295701a61849d8b77e4c956666f926": {
          "model_module": "@jupyter-widgets/base",
          "model_name": "LayoutModel",
          "model_module_version": "1.2.0",
          "state": {
            "_view_name": "LayoutView",
            "grid_template_rows": null,
            "right": null,
            "justify_content": null,
            "_view_module": "@jupyter-widgets/base",
            "overflow": null,
            "_model_module_version": "1.2.0",
            "_view_count": null,
            "flex_flow": null,
            "width": null,
            "min_width": null,
            "border": null,
            "align_items": null,
            "bottom": null,
            "_model_module": "@jupyter-widgets/base",
            "top": null,
            "grid_column": null,
            "overflow_y": null,
            "overflow_x": null,
            "grid_auto_flow": null,
            "grid_area": null,
            "grid_template_columns": null,
            "flex": null,
            "_model_name": "LayoutModel",
            "justify_items": null,
            "grid_row": null,
            "max_height": null,
            "align_content": null,
            "visibility": null,
            "align_self": null,
            "height": null,
            "min_height": null,
            "padding": null,
            "grid_auto_rows": null,
            "grid_gap": null,
            "max_width": null,
            "order": null,
            "_view_module_version": "1.2.0",
            "grid_template_areas": null,
            "object_position": null,
            "object_fit": null,
            "grid_auto_columns": null,
            "margin": null,
            "display": null,
            "left": null
          }
        },
        "1233026b7ed7446fb02f84d24ec84a0e": {
          "model_module": "@jupyter-widgets/controls",
          "model_name": "HBoxModel",
          "model_module_version": "1.5.0",
          "state": {
            "_view_name": "HBoxView",
            "_dom_classes": [],
            "_model_name": "HBoxModel",
            "_view_module": "@jupyter-widgets/controls",
            "_model_module_version": "1.5.0",
            "_view_count": null,
            "_view_module_version": "1.5.0",
            "box_style": "",
            "layout": "IPY_MODEL_5e27f666521344778fb91a7eec8fe758",
            "_model_module": "@jupyter-widgets/controls",
            "children": [
              "IPY_MODEL_a2b5cabe3843424fa2358b3b4b048b2e",
              "IPY_MODEL_ac4d6c359f044f5eb2eb973862276881"
            ]
          }
        },
        "5e27f666521344778fb91a7eec8fe758": {
          "model_module": "@jupyter-widgets/base",
          "model_name": "LayoutModel",
          "model_module_version": "1.2.0",
          "state": {
            "_view_name": "LayoutView",
            "grid_template_rows": null,
            "right": null,
            "justify_content": null,
            "_view_module": "@jupyter-widgets/base",
            "overflow": null,
            "_model_module_version": "1.2.0",
            "_view_count": null,
            "flex_flow": null,
            "width": null,
            "min_width": null,
            "border": null,
            "align_items": null,
            "bottom": null,
            "_model_module": "@jupyter-widgets/base",
            "top": null,
            "grid_column": null,
            "overflow_y": null,
            "overflow_x": null,
            "grid_auto_flow": null,
            "grid_area": null,
            "grid_template_columns": null,
            "flex": null,
            "_model_name": "LayoutModel",
            "justify_items": null,
            "grid_row": null,
            "max_height": null,
            "align_content": null,
            "visibility": null,
            "align_self": null,
            "height": null,
            "min_height": null,
            "padding": null,
            "grid_auto_rows": null,
            "grid_gap": null,
            "max_width": null,
            "order": null,
            "_view_module_version": "1.2.0",
            "grid_template_areas": null,
            "object_position": null,
            "object_fit": null,
            "grid_auto_columns": null,
            "margin": null,
            "display": null,
            "left": null
          }
        },
        "a2b5cabe3843424fa2358b3b4b048b2e": {
          "model_module": "@jupyter-widgets/controls",
          "model_name": "FloatProgressModel",
          "model_module_version": "1.5.0",
          "state": {
            "_view_name": "ProgressView",
            "style": "IPY_MODEL_e9980c878da04352bb36bd037809bbef",
            "_dom_classes": [],
            "description": "epoch: 100%",
            "_model_name": "FloatProgressModel",
            "bar_style": "success",
            "max": 30,
            "_view_module": "@jupyter-widgets/controls",
            "_model_module_version": "1.5.0",
            "value": 30,
            "_view_count": null,
            "_view_module_version": "1.5.0",
            "orientation": "horizontal",
            "min": 0,
            "description_tooltip": null,
            "_model_module": "@jupyter-widgets/controls",
            "layout": "IPY_MODEL_227e990906da40cb8d8da8f9d7b9842e"
          }
        },
        "ac4d6c359f044f5eb2eb973862276881": {
          "model_module": "@jupyter-widgets/controls",
          "model_name": "HTMLModel",
          "model_module_version": "1.5.0",
          "state": {
            "_view_name": "HTMLView",
            "style": "IPY_MODEL_dfbc1c06664348d3bc378e8d7f32f92b",
            "_dom_classes": [],
            "description": "",
            "_model_name": "HTMLModel",
            "placeholder": "​",
            "_view_module": "@jupyter-widgets/controls",
            "_model_module_version": "1.5.0",
            "value": " 30/30 [13:14&lt;00:00, 26.49s/it]",
            "_view_count": null,
            "_view_module_version": "1.5.0",
            "description_tooltip": null,
            "_model_module": "@jupyter-widgets/controls",
            "layout": "IPY_MODEL_9b05575bbd3e448f9e440f89278da085"
          }
        },
        "e9980c878da04352bb36bd037809bbef": {
          "model_module": "@jupyter-widgets/controls",
          "model_name": "ProgressStyleModel",
          "model_module_version": "1.5.0",
          "state": {
            "_view_name": "StyleView",
            "_model_name": "ProgressStyleModel",
            "description_width": "initial",
            "_view_module": "@jupyter-widgets/base",
            "_model_module_version": "1.5.0",
            "_view_count": null,
            "_view_module_version": "1.2.0",
            "bar_color": null,
            "_model_module": "@jupyter-widgets/controls"
          }
        },
        "227e990906da40cb8d8da8f9d7b9842e": {
          "model_module": "@jupyter-widgets/base",
          "model_name": "LayoutModel",
          "model_module_version": "1.2.0",
          "state": {
            "_view_name": "LayoutView",
            "grid_template_rows": null,
            "right": null,
            "justify_content": null,
            "_view_module": "@jupyter-widgets/base",
            "overflow": null,
            "_model_module_version": "1.2.0",
            "_view_count": null,
            "flex_flow": null,
            "width": null,
            "min_width": null,
            "border": null,
            "align_items": null,
            "bottom": null,
            "_model_module": "@jupyter-widgets/base",
            "top": null,
            "grid_column": null,
            "overflow_y": null,
            "overflow_x": null,
            "grid_auto_flow": null,
            "grid_area": null,
            "grid_template_columns": null,
            "flex": null,
            "_model_name": "LayoutModel",
            "justify_items": null,
            "grid_row": null,
            "max_height": null,
            "align_content": null,
            "visibility": null,
            "align_self": null,
            "height": null,
            "min_height": null,
            "padding": null,
            "grid_auto_rows": null,
            "grid_gap": null,
            "max_width": null,
            "order": null,
            "_view_module_version": "1.2.0",
            "grid_template_areas": null,
            "object_position": null,
            "object_fit": null,
            "grid_auto_columns": null,
            "margin": null,
            "display": null,
            "left": null
          }
        },
        "dfbc1c06664348d3bc378e8d7f32f92b": {
          "model_module": "@jupyter-widgets/controls",
          "model_name": "DescriptionStyleModel",
          "model_module_version": "1.5.0",
          "state": {
            "_view_name": "StyleView",
            "_model_name": "DescriptionStyleModel",
            "description_width": "",
            "_view_module": "@jupyter-widgets/base",
            "_model_module_version": "1.5.0",
            "_view_count": null,
            "_view_module_version": "1.2.0",
            "_model_module": "@jupyter-widgets/controls"
          }
        },
        "9b05575bbd3e448f9e440f89278da085": {
          "model_module": "@jupyter-widgets/base",
          "model_name": "LayoutModel",
          "model_module_version": "1.2.0",
          "state": {
            "_view_name": "LayoutView",
            "grid_template_rows": null,
            "right": null,
            "justify_content": null,
            "_view_module": "@jupyter-widgets/base",
            "overflow": null,
            "_model_module_version": "1.2.0",
            "_view_count": null,
            "flex_flow": null,
            "width": null,
            "min_width": null,
            "border": null,
            "align_items": null,
            "bottom": null,
            "_model_module": "@jupyter-widgets/base",
            "top": null,
            "grid_column": null,
            "overflow_y": null,
            "overflow_x": null,
            "grid_auto_flow": null,
            "grid_area": null,
            "grid_template_columns": null,
            "flex": null,
            "_model_name": "LayoutModel",
            "justify_items": null,
            "grid_row": null,
            "max_height": null,
            "align_content": null,
            "visibility": null,
            "align_self": null,
            "height": null,
            "min_height": null,
            "padding": null,
            "grid_auto_rows": null,
            "grid_gap": null,
            "max_width": null,
            "order": null,
            "_view_module_version": "1.2.0",
            "grid_template_areas": null,
            "object_position": null,
            "object_fit": null,
            "grid_auto_columns": null,
            "margin": null,
            "display": null,
            "left": null
          }
        },
        "cdb4ebb810544d1ea9e57844653fe3fb": {
          "model_module": "@jupyter-widgets/controls",
          "model_name": "HBoxModel",
          "model_module_version": "1.5.0",
          "state": {
            "_view_name": "HBoxView",
            "_dom_classes": [],
            "_model_name": "HBoxModel",
            "_view_module": "@jupyter-widgets/controls",
            "_model_module_version": "1.5.0",
            "_view_count": null,
            "_view_module_version": "1.5.0",
            "box_style": "",
            "layout": "IPY_MODEL_22132649914a46758037c14a133eee78",
            "_model_module": "@jupyter-widgets/controls",
            "children": [
              "IPY_MODEL_aa11865ad7a648f3a0755f2c97d756fd",
              "IPY_MODEL_ccf1cc99905e430e86efb9a41512de60"
            ]
          }
        },
        "22132649914a46758037c14a133eee78": {
          "model_module": "@jupyter-widgets/base",
          "model_name": "LayoutModel",
          "model_module_version": "1.2.0",
          "state": {
            "_view_name": "LayoutView",
            "grid_template_rows": null,
            "right": null,
            "justify_content": null,
            "_view_module": "@jupyter-widgets/base",
            "overflow": null,
            "_model_module_version": "1.2.0",
            "_view_count": null,
            "flex_flow": null,
            "width": null,
            "min_width": null,
            "border": null,
            "align_items": null,
            "bottom": null,
            "_model_module": "@jupyter-widgets/base",
            "top": null,
            "grid_column": null,
            "overflow_y": null,
            "overflow_x": null,
            "grid_auto_flow": null,
            "grid_area": null,
            "grid_template_columns": null,
            "flex": null,
            "_model_name": "LayoutModel",
            "justify_items": null,
            "grid_row": null,
            "max_height": null,
            "align_content": null,
            "visibility": null,
            "align_self": null,
            "height": null,
            "min_height": null,
            "padding": null,
            "grid_auto_rows": null,
            "grid_gap": null,
            "max_width": null,
            "order": null,
            "_view_module_version": "1.2.0",
            "grid_template_areas": null,
            "object_position": null,
            "object_fit": null,
            "grid_auto_columns": null,
            "margin": null,
            "display": null,
            "left": null
          }
        },
        "aa11865ad7a648f3a0755f2c97d756fd": {
          "model_module": "@jupyter-widgets/controls",
          "model_name": "FloatProgressModel",
          "model_module_version": "1.5.0",
          "state": {
            "_view_name": "ProgressView",
            "style": "IPY_MODEL_067b3a4c936e4905964bf4392936c618",
            "_dom_classes": [],
            "description": "epoch:   0%",
            "_model_name": "FloatProgressModel",
            "bar_style": "danger",
            "max": 100,
            "_view_module": "@jupyter-widgets/controls",
            "_model_module_version": "1.5.0",
            "value": 0,
            "_view_count": null,
            "_view_module_version": "1.5.0",
            "orientation": "horizontal",
            "min": 0,
            "description_tooltip": null,
            "_model_module": "@jupyter-widgets/controls",
            "layout": "IPY_MODEL_d10b57cfac1041dea25f72a197fd0c80"
          }
        },
        "ccf1cc99905e430e86efb9a41512de60": {
          "model_module": "@jupyter-widgets/controls",
          "model_name": "HTMLModel",
          "model_module_version": "1.5.0",
          "state": {
            "_view_name": "HTMLView",
            "style": "IPY_MODEL_1b5551cca5ae40cead575ea31d16e68e",
            "_dom_classes": [],
            "description": "",
            "_model_name": "HTMLModel",
            "placeholder": "​",
            "_view_module": "@jupyter-widgets/controls",
            "_model_module_version": "1.5.0",
            "value": " 0/100 [00:48&lt;?, ?it/s]",
            "_view_count": null,
            "_view_module_version": "1.5.0",
            "description_tooltip": null,
            "_model_module": "@jupyter-widgets/controls",
            "layout": "IPY_MODEL_1b874fb1f7ec4c92bdcb212ce2b46cad"
          }
        },
        "067b3a4c936e4905964bf4392936c618": {
          "model_module": "@jupyter-widgets/controls",
          "model_name": "ProgressStyleModel",
          "model_module_version": "1.5.0",
          "state": {
            "_view_name": "StyleView",
            "_model_name": "ProgressStyleModel",
            "description_width": "initial",
            "_view_module": "@jupyter-widgets/base",
            "_model_module_version": "1.5.0",
            "_view_count": null,
            "_view_module_version": "1.2.0",
            "bar_color": null,
            "_model_module": "@jupyter-widgets/controls"
          }
        },
        "d10b57cfac1041dea25f72a197fd0c80": {
          "model_module": "@jupyter-widgets/base",
          "model_name": "LayoutModel",
          "model_module_version": "1.2.0",
          "state": {
            "_view_name": "LayoutView",
            "grid_template_rows": null,
            "right": null,
            "justify_content": null,
            "_view_module": "@jupyter-widgets/base",
            "overflow": null,
            "_model_module_version": "1.2.0",
            "_view_count": null,
            "flex_flow": null,
            "width": null,
            "min_width": null,
            "border": null,
            "align_items": null,
            "bottom": null,
            "_model_module": "@jupyter-widgets/base",
            "top": null,
            "grid_column": null,
            "overflow_y": null,
            "overflow_x": null,
            "grid_auto_flow": null,
            "grid_area": null,
            "grid_template_columns": null,
            "flex": null,
            "_model_name": "LayoutModel",
            "justify_items": null,
            "grid_row": null,
            "max_height": null,
            "align_content": null,
            "visibility": null,
            "align_self": null,
            "height": null,
            "min_height": null,
            "padding": null,
            "grid_auto_rows": null,
            "grid_gap": null,
            "max_width": null,
            "order": null,
            "_view_module_version": "1.2.0",
            "grid_template_areas": null,
            "object_position": null,
            "object_fit": null,
            "grid_auto_columns": null,
            "margin": null,
            "display": null,
            "left": null
          }
        },
        "1b5551cca5ae40cead575ea31d16e68e": {
          "model_module": "@jupyter-widgets/controls",
          "model_name": "DescriptionStyleModel",
          "model_module_version": "1.5.0",
          "state": {
            "_view_name": "StyleView",
            "_model_name": "DescriptionStyleModel",
            "description_width": "",
            "_view_module": "@jupyter-widgets/base",
            "_model_module_version": "1.5.0",
            "_view_count": null,
            "_view_module_version": "1.2.0",
            "_model_module": "@jupyter-widgets/controls"
          }
        },
        "1b874fb1f7ec4c92bdcb212ce2b46cad": {
          "model_module": "@jupyter-widgets/base",
          "model_name": "LayoutModel",
          "model_module_version": "1.2.0",
          "state": {
            "_view_name": "LayoutView",
            "grid_template_rows": null,
            "right": null,
            "justify_content": null,
            "_view_module": "@jupyter-widgets/base",
            "overflow": null,
            "_model_module_version": "1.2.0",
            "_view_count": null,
            "flex_flow": null,
            "width": null,
            "min_width": null,
            "border": null,
            "align_items": null,
            "bottom": null,
            "_model_module": "@jupyter-widgets/base",
            "top": null,
            "grid_column": null,
            "overflow_y": null,
            "overflow_x": null,
            "grid_auto_flow": null,
            "grid_area": null,
            "grid_template_columns": null,
            "flex": null,
            "_model_name": "LayoutModel",
            "justify_items": null,
            "grid_row": null,
            "max_height": null,
            "align_content": null,
            "visibility": null,
            "align_self": null,
            "height": null,
            "min_height": null,
            "padding": null,
            "grid_auto_rows": null,
            "grid_gap": null,
            "max_width": null,
            "order": null,
            "_view_module_version": "1.2.0",
            "grid_template_areas": null,
            "object_position": null,
            "object_fit": null,
            "grid_auto_columns": null,
            "margin": null,
            "display": null,
            "left": null
          }
        },
        "7e4253e325dc44d3939eb281c4acb134": {
          "model_module": "@jupyter-widgets/controls",
          "model_name": "HBoxModel",
          "model_module_version": "1.5.0",
          "state": {
            "_view_name": "HBoxView",
            "_dom_classes": [],
            "_model_name": "HBoxModel",
            "_view_module": "@jupyter-widgets/controls",
            "_model_module_version": "1.5.0",
            "_view_count": null,
            "_view_module_version": "1.5.0",
            "box_style": "",
            "layout": "IPY_MODEL_7bf9d59bd1db43ed9d4961bd404d620d",
            "_model_module": "@jupyter-widgets/controls",
            "children": [
              "IPY_MODEL_07932bfcf436498e9509d57f46b86a74",
              "IPY_MODEL_ba716cdb3ce94cbbb010856ec7bcb673"
            ]
          }
        },
        "7bf9d59bd1db43ed9d4961bd404d620d": {
          "model_module": "@jupyter-widgets/base",
          "model_name": "LayoutModel",
          "model_module_version": "1.2.0",
          "state": {
            "_view_name": "LayoutView",
            "grid_template_rows": null,
            "right": null,
            "justify_content": null,
            "_view_module": "@jupyter-widgets/base",
            "overflow": null,
            "_model_module_version": "1.2.0",
            "_view_count": null,
            "flex_flow": null,
            "width": null,
            "min_width": null,
            "border": null,
            "align_items": null,
            "bottom": null,
            "_model_module": "@jupyter-widgets/base",
            "top": null,
            "grid_column": null,
            "overflow_y": null,
            "overflow_x": null,
            "grid_auto_flow": null,
            "grid_area": null,
            "grid_template_columns": null,
            "flex": null,
            "_model_name": "LayoutModel",
            "justify_items": null,
            "grid_row": null,
            "max_height": null,
            "align_content": null,
            "visibility": null,
            "align_self": null,
            "height": null,
            "min_height": null,
            "padding": null,
            "grid_auto_rows": null,
            "grid_gap": null,
            "max_width": null,
            "order": null,
            "_view_module_version": "1.2.0",
            "grid_template_areas": null,
            "object_position": null,
            "object_fit": null,
            "grid_auto_columns": null,
            "margin": null,
            "display": null,
            "left": null
          }
        },
        "07932bfcf436498e9509d57f46b86a74": {
          "model_module": "@jupyter-widgets/controls",
          "model_name": "FloatProgressModel",
          "model_module_version": "1.5.0",
          "state": {
            "_view_name": "ProgressView",
            "style": "IPY_MODEL_d4ee101476d84e1a8babbc6d1dd4b78d",
            "_dom_classes": [],
            "description": "epoch: 100%",
            "_model_name": "FloatProgressModel",
            "bar_style": "success",
            "max": 30,
            "_view_module": "@jupyter-widgets/controls",
            "_model_module_version": "1.5.0",
            "value": 30,
            "_view_count": null,
            "_view_module_version": "1.5.0",
            "orientation": "horizontal",
            "min": 0,
            "description_tooltip": null,
            "_model_module": "@jupyter-widgets/controls",
            "layout": "IPY_MODEL_5830fbf3ed044a62a11ac555850dfadb"
          }
        },
        "ba716cdb3ce94cbbb010856ec7bcb673": {
          "model_module": "@jupyter-widgets/controls",
          "model_name": "HTMLModel",
          "model_module_version": "1.5.0",
          "state": {
            "_view_name": "HTMLView",
            "style": "IPY_MODEL_63a5f6cdf1064b279c0eaeca0ca3aac1",
            "_dom_classes": [],
            "description": "",
            "_model_name": "HTMLModel",
            "placeholder": "​",
            "_view_module": "@jupyter-widgets/controls",
            "_model_module_version": "1.5.0",
            "value": " 30/30 [00:33&lt;00:00,  1.12s/it]",
            "_view_count": null,
            "_view_module_version": "1.5.0",
            "description_tooltip": null,
            "_model_module": "@jupyter-widgets/controls",
            "layout": "IPY_MODEL_a9e1689e7fde45f18c27cf185d4a6baa"
          }
        },
        "d4ee101476d84e1a8babbc6d1dd4b78d": {
          "model_module": "@jupyter-widgets/controls",
          "model_name": "ProgressStyleModel",
          "model_module_version": "1.5.0",
          "state": {
            "_view_name": "StyleView",
            "_model_name": "ProgressStyleModel",
            "description_width": "initial",
            "_view_module": "@jupyter-widgets/base",
            "_model_module_version": "1.5.0",
            "_view_count": null,
            "_view_module_version": "1.2.0",
            "bar_color": null,
            "_model_module": "@jupyter-widgets/controls"
          }
        },
        "5830fbf3ed044a62a11ac555850dfadb": {
          "model_module": "@jupyter-widgets/base",
          "model_name": "LayoutModel",
          "model_module_version": "1.2.0",
          "state": {
            "_view_name": "LayoutView",
            "grid_template_rows": null,
            "right": null,
            "justify_content": null,
            "_view_module": "@jupyter-widgets/base",
            "overflow": null,
            "_model_module_version": "1.2.0",
            "_view_count": null,
            "flex_flow": null,
            "width": null,
            "min_width": null,
            "border": null,
            "align_items": null,
            "bottom": null,
            "_model_module": "@jupyter-widgets/base",
            "top": null,
            "grid_column": null,
            "overflow_y": null,
            "overflow_x": null,
            "grid_auto_flow": null,
            "grid_area": null,
            "grid_template_columns": null,
            "flex": null,
            "_model_name": "LayoutModel",
            "justify_items": null,
            "grid_row": null,
            "max_height": null,
            "align_content": null,
            "visibility": null,
            "align_self": null,
            "height": null,
            "min_height": null,
            "padding": null,
            "grid_auto_rows": null,
            "grid_gap": null,
            "max_width": null,
            "order": null,
            "_view_module_version": "1.2.0",
            "grid_template_areas": null,
            "object_position": null,
            "object_fit": null,
            "grid_auto_columns": null,
            "margin": null,
            "display": null,
            "left": null
          }
        },
        "63a5f6cdf1064b279c0eaeca0ca3aac1": {
          "model_module": "@jupyter-widgets/controls",
          "model_name": "DescriptionStyleModel",
          "model_module_version": "1.5.0",
          "state": {
            "_view_name": "StyleView",
            "_model_name": "DescriptionStyleModel",
            "description_width": "",
            "_view_module": "@jupyter-widgets/base",
            "_model_module_version": "1.5.0",
            "_view_count": null,
            "_view_module_version": "1.2.0",
            "_model_module": "@jupyter-widgets/controls"
          }
        },
        "a9e1689e7fde45f18c27cf185d4a6baa": {
          "model_module": "@jupyter-widgets/base",
          "model_name": "LayoutModel",
          "model_module_version": "1.2.0",
          "state": {
            "_view_name": "LayoutView",
            "grid_template_rows": null,
            "right": null,
            "justify_content": null,
            "_view_module": "@jupyter-widgets/base",
            "overflow": null,
            "_model_module_version": "1.2.0",
            "_view_count": null,
            "flex_flow": null,
            "width": null,
            "min_width": null,
            "border": null,
            "align_items": null,
            "bottom": null,
            "_model_module": "@jupyter-widgets/base",
            "top": null,
            "grid_column": null,
            "overflow_y": null,
            "overflow_x": null,
            "grid_auto_flow": null,
            "grid_area": null,
            "grid_template_columns": null,
            "flex": null,
            "_model_name": "LayoutModel",
            "justify_items": null,
            "grid_row": null,
            "max_height": null,
            "align_content": null,
            "visibility": null,
            "align_self": null,
            "height": null,
            "min_height": null,
            "padding": null,
            "grid_auto_rows": null,
            "grid_gap": null,
            "max_width": null,
            "order": null,
            "_view_module_version": "1.2.0",
            "grid_template_areas": null,
            "object_position": null,
            "object_fit": null,
            "grid_auto_columns": null,
            "margin": null,
            "display": null,
            "left": null
          }
        },
        "eaa0a5f8a3484c4a81a6aee154a45b6d": {
          "model_module": "@jupyter-widgets/controls",
          "model_name": "HBoxModel",
          "model_module_version": "1.5.0",
          "state": {
            "_view_name": "HBoxView",
            "_dom_classes": [],
            "_model_name": "HBoxModel",
            "_view_module": "@jupyter-widgets/controls",
            "_model_module_version": "1.5.0",
            "_view_count": null,
            "_view_module_version": "1.5.0",
            "box_style": "",
            "layout": "IPY_MODEL_5bbba1db19bd431c814e8d5cb7456335",
            "_model_module": "@jupyter-widgets/controls",
            "children": [
              "IPY_MODEL_f7ba763007c04496bdb6143befc6a1c5",
              "IPY_MODEL_e03780677772433a8fdb1d987120faa4"
            ]
          }
        },
        "5bbba1db19bd431c814e8d5cb7456335": {
          "model_module": "@jupyter-widgets/base",
          "model_name": "LayoutModel",
          "model_module_version": "1.2.0",
          "state": {
            "_view_name": "LayoutView",
            "grid_template_rows": null,
            "right": null,
            "justify_content": null,
            "_view_module": "@jupyter-widgets/base",
            "overflow": null,
            "_model_module_version": "1.2.0",
            "_view_count": null,
            "flex_flow": null,
            "width": null,
            "min_width": null,
            "border": null,
            "align_items": null,
            "bottom": null,
            "_model_module": "@jupyter-widgets/base",
            "top": null,
            "grid_column": null,
            "overflow_y": null,
            "overflow_x": null,
            "grid_auto_flow": null,
            "grid_area": null,
            "grid_template_columns": null,
            "flex": null,
            "_model_name": "LayoutModel",
            "justify_items": null,
            "grid_row": null,
            "max_height": null,
            "align_content": null,
            "visibility": null,
            "align_self": null,
            "height": null,
            "min_height": null,
            "padding": null,
            "grid_auto_rows": null,
            "grid_gap": null,
            "max_width": null,
            "order": null,
            "_view_module_version": "1.2.0",
            "grid_template_areas": null,
            "object_position": null,
            "object_fit": null,
            "grid_auto_columns": null,
            "margin": null,
            "display": null,
            "left": null
          }
        },
        "f7ba763007c04496bdb6143befc6a1c5": {
          "model_module": "@jupyter-widgets/controls",
          "model_name": "FloatProgressModel",
          "model_module_version": "1.5.0",
          "state": {
            "_view_name": "ProgressView",
            "style": "IPY_MODEL_6e90a3ce74644104ae337db3cd15f1b8",
            "_dom_classes": [],
            "description": "epoch: 100%",
            "_model_name": "FloatProgressModel",
            "bar_style": "success",
            "max": 30,
            "_view_module": "@jupyter-widgets/controls",
            "_model_module_version": "1.5.0",
            "value": 30,
            "_view_count": null,
            "_view_module_version": "1.5.0",
            "orientation": "horizontal",
            "min": 0,
            "description_tooltip": null,
            "_model_module": "@jupyter-widgets/controls",
            "layout": "IPY_MODEL_919e7e29aef1434888ea84e24f8c7410"
          }
        },
        "e03780677772433a8fdb1d987120faa4": {
          "model_module": "@jupyter-widgets/controls",
          "model_name": "HTMLModel",
          "model_module_version": "1.5.0",
          "state": {
            "_view_name": "HTMLView",
            "style": "IPY_MODEL_42e8d3aa8a874d2eab2114f0d4032b51",
            "_dom_classes": [],
            "description": "",
            "_model_name": "HTMLModel",
            "placeholder": "​",
            "_view_module": "@jupyter-widgets/controls",
            "_model_module_version": "1.5.0",
            "value": " 30/30 [02:10&lt;00:00,  4.35s/it]",
            "_view_count": null,
            "_view_module_version": "1.5.0",
            "description_tooltip": null,
            "_model_module": "@jupyter-widgets/controls",
            "layout": "IPY_MODEL_afae0344b96047029855d80f355465cb"
          }
        },
        "6e90a3ce74644104ae337db3cd15f1b8": {
          "model_module": "@jupyter-widgets/controls",
          "model_name": "ProgressStyleModel",
          "model_module_version": "1.5.0",
          "state": {
            "_view_name": "StyleView",
            "_model_name": "ProgressStyleModel",
            "description_width": "initial",
            "_view_module": "@jupyter-widgets/base",
            "_model_module_version": "1.5.0",
            "_view_count": null,
            "_view_module_version": "1.2.0",
            "bar_color": null,
            "_model_module": "@jupyter-widgets/controls"
          }
        },
        "919e7e29aef1434888ea84e24f8c7410": {
          "model_module": "@jupyter-widgets/base",
          "model_name": "LayoutModel",
          "model_module_version": "1.2.0",
          "state": {
            "_view_name": "LayoutView",
            "grid_template_rows": null,
            "right": null,
            "justify_content": null,
            "_view_module": "@jupyter-widgets/base",
            "overflow": null,
            "_model_module_version": "1.2.0",
            "_view_count": null,
            "flex_flow": null,
            "width": null,
            "min_width": null,
            "border": null,
            "align_items": null,
            "bottom": null,
            "_model_module": "@jupyter-widgets/base",
            "top": null,
            "grid_column": null,
            "overflow_y": null,
            "overflow_x": null,
            "grid_auto_flow": null,
            "grid_area": null,
            "grid_template_columns": null,
            "flex": null,
            "_model_name": "LayoutModel",
            "justify_items": null,
            "grid_row": null,
            "max_height": null,
            "align_content": null,
            "visibility": null,
            "align_self": null,
            "height": null,
            "min_height": null,
            "padding": null,
            "grid_auto_rows": null,
            "grid_gap": null,
            "max_width": null,
            "order": null,
            "_view_module_version": "1.2.0",
            "grid_template_areas": null,
            "object_position": null,
            "object_fit": null,
            "grid_auto_columns": null,
            "margin": null,
            "display": null,
            "left": null
          }
        },
        "42e8d3aa8a874d2eab2114f0d4032b51": {
          "model_module": "@jupyter-widgets/controls",
          "model_name": "DescriptionStyleModel",
          "model_module_version": "1.5.0",
          "state": {
            "_view_name": "StyleView",
            "_model_name": "DescriptionStyleModel",
            "description_width": "",
            "_view_module": "@jupyter-widgets/base",
            "_model_module_version": "1.5.0",
            "_view_count": null,
            "_view_module_version": "1.2.0",
            "_model_module": "@jupyter-widgets/controls"
          }
        },
        "afae0344b96047029855d80f355465cb": {
          "model_module": "@jupyter-widgets/base",
          "model_name": "LayoutModel",
          "model_module_version": "1.2.0",
          "state": {
            "_view_name": "LayoutView",
            "grid_template_rows": null,
            "right": null,
            "justify_content": null,
            "_view_module": "@jupyter-widgets/base",
            "overflow": null,
            "_model_module_version": "1.2.0",
            "_view_count": null,
            "flex_flow": null,
            "width": null,
            "min_width": null,
            "border": null,
            "align_items": null,
            "bottom": null,
            "_model_module": "@jupyter-widgets/base",
            "top": null,
            "grid_column": null,
            "overflow_y": null,
            "overflow_x": null,
            "grid_auto_flow": null,
            "grid_area": null,
            "grid_template_columns": null,
            "flex": null,
            "_model_name": "LayoutModel",
            "justify_items": null,
            "grid_row": null,
            "max_height": null,
            "align_content": null,
            "visibility": null,
            "align_self": null,
            "height": null,
            "min_height": null,
            "padding": null,
            "grid_auto_rows": null,
            "grid_gap": null,
            "max_width": null,
            "order": null,
            "_view_module_version": "1.2.0",
            "grid_template_areas": null,
            "object_position": null,
            "object_fit": null,
            "grid_auto_columns": null,
            "margin": null,
            "display": null,
            "left": null
          }
        },
        "8f570b7dd4be4f9ca1f82fb38f2b6b27": {
          "model_module": "@jupyter-widgets/controls",
          "model_name": "HBoxModel",
          "model_module_version": "1.5.0",
          "state": {
            "_view_name": "HBoxView",
            "_dom_classes": [],
            "_model_name": "HBoxModel",
            "_view_module": "@jupyter-widgets/controls",
            "_model_module_version": "1.5.0",
            "_view_count": null,
            "_view_module_version": "1.5.0",
            "box_style": "",
            "layout": "IPY_MODEL_bdf14f859d004d87a1b2b2ea95309a08",
            "_model_module": "@jupyter-widgets/controls",
            "children": [
              "IPY_MODEL_13a9b5e0c97043e6b801ddbe3734c8c5",
              "IPY_MODEL_9a868d35aa974285b7e5a4f93692984c"
            ]
          }
        },
        "bdf14f859d004d87a1b2b2ea95309a08": {
          "model_module": "@jupyter-widgets/base",
          "model_name": "LayoutModel",
          "model_module_version": "1.2.0",
          "state": {
            "_view_name": "LayoutView",
            "grid_template_rows": null,
            "right": null,
            "justify_content": null,
            "_view_module": "@jupyter-widgets/base",
            "overflow": null,
            "_model_module_version": "1.2.0",
            "_view_count": null,
            "flex_flow": null,
            "width": null,
            "min_width": null,
            "border": null,
            "align_items": null,
            "bottom": null,
            "_model_module": "@jupyter-widgets/base",
            "top": null,
            "grid_column": null,
            "overflow_y": null,
            "overflow_x": null,
            "grid_auto_flow": null,
            "grid_area": null,
            "grid_template_columns": null,
            "flex": null,
            "_model_name": "LayoutModel",
            "justify_items": null,
            "grid_row": null,
            "max_height": null,
            "align_content": null,
            "visibility": null,
            "align_self": null,
            "height": null,
            "min_height": null,
            "padding": null,
            "grid_auto_rows": null,
            "grid_gap": null,
            "max_width": null,
            "order": null,
            "_view_module_version": "1.2.0",
            "grid_template_areas": null,
            "object_position": null,
            "object_fit": null,
            "grid_auto_columns": null,
            "margin": null,
            "display": null,
            "left": null
          }
        },
        "13a9b5e0c97043e6b801ddbe3734c8c5": {
          "model_module": "@jupyter-widgets/controls",
          "model_name": "FloatProgressModel",
          "model_module_version": "1.5.0",
          "state": {
            "_view_name": "ProgressView",
            "style": "IPY_MODEL_a16a0c59d9c04fb69643ea057623fda1",
            "_dom_classes": [],
            "description": "epoch: 100%",
            "_model_name": "FloatProgressModel",
            "bar_style": "success",
            "max": 20,
            "_view_module": "@jupyter-widgets/controls",
            "_model_module_version": "1.5.0",
            "value": 20,
            "_view_count": null,
            "_view_module_version": "1.5.0",
            "orientation": "horizontal",
            "min": 0,
            "description_tooltip": null,
            "_model_module": "@jupyter-widgets/controls",
            "layout": "IPY_MODEL_39a1fcb87e63483cbbc647d3dd4b8191"
          }
        },
        "9a868d35aa974285b7e5a4f93692984c": {
          "model_module": "@jupyter-widgets/controls",
          "model_name": "HTMLModel",
          "model_module_version": "1.5.0",
          "state": {
            "_view_name": "HTMLView",
            "style": "IPY_MODEL_3b600134a90a4f60acc9c659b355a3d9",
            "_dom_classes": [],
            "description": "",
            "_model_name": "HTMLModel",
            "placeholder": "​",
            "_view_module": "@jupyter-widgets/controls",
            "_model_module_version": "1.5.0",
            "value": " 20/20 [09:00&lt;00:00, 27.02s/it]",
            "_view_count": null,
            "_view_module_version": "1.5.0",
            "description_tooltip": null,
            "_model_module": "@jupyter-widgets/controls",
            "layout": "IPY_MODEL_2bc9be1088684d10b51ac1902d47a2a2"
          }
        },
        "a16a0c59d9c04fb69643ea057623fda1": {
          "model_module": "@jupyter-widgets/controls",
          "model_name": "ProgressStyleModel",
          "model_module_version": "1.5.0",
          "state": {
            "_view_name": "StyleView",
            "_model_name": "ProgressStyleModel",
            "description_width": "initial",
            "_view_module": "@jupyter-widgets/base",
            "_model_module_version": "1.5.0",
            "_view_count": null,
            "_view_module_version": "1.2.0",
            "bar_color": null,
            "_model_module": "@jupyter-widgets/controls"
          }
        },
        "39a1fcb87e63483cbbc647d3dd4b8191": {
          "model_module": "@jupyter-widgets/base",
          "model_name": "LayoutModel",
          "model_module_version": "1.2.0",
          "state": {
            "_view_name": "LayoutView",
            "grid_template_rows": null,
            "right": null,
            "justify_content": null,
            "_view_module": "@jupyter-widgets/base",
            "overflow": null,
            "_model_module_version": "1.2.0",
            "_view_count": null,
            "flex_flow": null,
            "width": null,
            "min_width": null,
            "border": null,
            "align_items": null,
            "bottom": null,
            "_model_module": "@jupyter-widgets/base",
            "top": null,
            "grid_column": null,
            "overflow_y": null,
            "overflow_x": null,
            "grid_auto_flow": null,
            "grid_area": null,
            "grid_template_columns": null,
            "flex": null,
            "_model_name": "LayoutModel",
            "justify_items": null,
            "grid_row": null,
            "max_height": null,
            "align_content": null,
            "visibility": null,
            "align_self": null,
            "height": null,
            "min_height": null,
            "padding": null,
            "grid_auto_rows": null,
            "grid_gap": null,
            "max_width": null,
            "order": null,
            "_view_module_version": "1.2.0",
            "grid_template_areas": null,
            "object_position": null,
            "object_fit": null,
            "grid_auto_columns": null,
            "margin": null,
            "display": null,
            "left": null
          }
        },
        "3b600134a90a4f60acc9c659b355a3d9": {
          "model_module": "@jupyter-widgets/controls",
          "model_name": "DescriptionStyleModel",
          "model_module_version": "1.5.0",
          "state": {
            "_view_name": "StyleView",
            "_model_name": "DescriptionStyleModel",
            "description_width": "",
            "_view_module": "@jupyter-widgets/base",
            "_model_module_version": "1.5.0",
            "_view_count": null,
            "_view_module_version": "1.2.0",
            "_model_module": "@jupyter-widgets/controls"
          }
        },
        "2bc9be1088684d10b51ac1902d47a2a2": {
          "model_module": "@jupyter-widgets/base",
          "model_name": "LayoutModel",
          "model_module_version": "1.2.0",
          "state": {
            "_view_name": "LayoutView",
            "grid_template_rows": null,
            "right": null,
            "justify_content": null,
            "_view_module": "@jupyter-widgets/base",
            "overflow": null,
            "_model_module_version": "1.2.0",
            "_view_count": null,
            "flex_flow": null,
            "width": null,
            "min_width": null,
            "border": null,
            "align_items": null,
            "bottom": null,
            "_model_module": "@jupyter-widgets/base",
            "top": null,
            "grid_column": null,
            "overflow_y": null,
            "overflow_x": null,
            "grid_auto_flow": null,
            "grid_area": null,
            "grid_template_columns": null,
            "flex": null,
            "_model_name": "LayoutModel",
            "justify_items": null,
            "grid_row": null,
            "max_height": null,
            "align_content": null,
            "visibility": null,
            "align_self": null,
            "height": null,
            "min_height": null,
            "padding": null,
            "grid_auto_rows": null,
            "grid_gap": null,
            "max_width": null,
            "order": null,
            "_view_module_version": "1.2.0",
            "grid_template_areas": null,
            "object_position": null,
            "object_fit": null,
            "grid_auto_columns": null,
            "margin": null,
            "display": null,
            "left": null
          }
        },
        "1810082368d34346b8978287c3e7e2e9": {
          "model_module": "@jupyter-widgets/controls",
          "model_name": "HBoxModel",
          "model_module_version": "1.5.0",
          "state": {
            "_view_name": "HBoxView",
            "_dom_classes": [],
            "_model_name": "HBoxModel",
            "_view_module": "@jupyter-widgets/controls",
            "_model_module_version": "1.5.0",
            "_view_count": null,
            "_view_module_version": "1.5.0",
            "box_style": "",
            "layout": "IPY_MODEL_7baedfc3b50d434d8dd6d731e9ae52f4",
            "_model_module": "@jupyter-widgets/controls",
            "children": [
              "IPY_MODEL_0b6300aa06c14cfd81d936fe9615af3b",
              "IPY_MODEL_ac27e98c7d2d4f89aab758e8c9526bd7"
            ]
          }
        },
        "7baedfc3b50d434d8dd6d731e9ae52f4": {
          "model_module": "@jupyter-widgets/base",
          "model_name": "LayoutModel",
          "model_module_version": "1.2.0",
          "state": {
            "_view_name": "LayoutView",
            "grid_template_rows": null,
            "right": null,
            "justify_content": null,
            "_view_module": "@jupyter-widgets/base",
            "overflow": null,
            "_model_module_version": "1.2.0",
            "_view_count": null,
            "flex_flow": null,
            "width": null,
            "min_width": null,
            "border": null,
            "align_items": null,
            "bottom": null,
            "_model_module": "@jupyter-widgets/base",
            "top": null,
            "grid_column": null,
            "overflow_y": null,
            "overflow_x": null,
            "grid_auto_flow": null,
            "grid_area": null,
            "grid_template_columns": null,
            "flex": null,
            "_model_name": "LayoutModel",
            "justify_items": null,
            "grid_row": null,
            "max_height": null,
            "align_content": null,
            "visibility": null,
            "align_self": null,
            "height": null,
            "min_height": null,
            "padding": null,
            "grid_auto_rows": null,
            "grid_gap": null,
            "max_width": null,
            "order": null,
            "_view_module_version": "1.2.0",
            "grid_template_areas": null,
            "object_position": null,
            "object_fit": null,
            "grid_auto_columns": null,
            "margin": null,
            "display": null,
            "left": null
          }
        },
        "0b6300aa06c14cfd81d936fe9615af3b": {
          "model_module": "@jupyter-widgets/controls",
          "model_name": "FloatProgressModel",
          "model_module_version": "1.5.0",
          "state": {
            "_view_name": "ProgressView",
            "style": "IPY_MODEL_8755d157160344e88951defd5154e27d",
            "_dom_classes": [],
            "description": "epoch: 100%",
            "_model_name": "FloatProgressModel",
            "bar_style": "success",
            "max": 20,
            "_view_module": "@jupyter-widgets/controls",
            "_model_module_version": "1.5.0",
            "value": 20,
            "_view_count": null,
            "_view_module_version": "1.5.0",
            "orientation": "horizontal",
            "min": 0,
            "description_tooltip": null,
            "_model_module": "@jupyter-widgets/controls",
            "layout": "IPY_MODEL_fc7aea0922064863bd429be61ed3f877"
          }
        },
        "ac27e98c7d2d4f89aab758e8c9526bd7": {
          "model_module": "@jupyter-widgets/controls",
          "model_name": "HTMLModel",
          "model_module_version": "1.5.0",
          "state": {
            "_view_name": "HTMLView",
            "style": "IPY_MODEL_8d95426223c344b4ab03729459c7330e",
            "_dom_classes": [],
            "description": "",
            "_model_name": "HTMLModel",
            "placeholder": "​",
            "_view_module": "@jupyter-widgets/controls",
            "_model_module_version": "1.5.0",
            "value": " 20/20 [08:21&lt;00:00, 25.06s/it]",
            "_view_count": null,
            "_view_module_version": "1.5.0",
            "description_tooltip": null,
            "_model_module": "@jupyter-widgets/controls",
            "layout": "IPY_MODEL_77c2b531f45544ef87c8765fd4543847"
          }
        },
        "8755d157160344e88951defd5154e27d": {
          "model_module": "@jupyter-widgets/controls",
          "model_name": "ProgressStyleModel",
          "model_module_version": "1.5.0",
          "state": {
            "_view_name": "StyleView",
            "_model_name": "ProgressStyleModel",
            "description_width": "initial",
            "_view_module": "@jupyter-widgets/base",
            "_model_module_version": "1.5.0",
            "_view_count": null,
            "_view_module_version": "1.2.0",
            "bar_color": null,
            "_model_module": "@jupyter-widgets/controls"
          }
        },
        "fc7aea0922064863bd429be61ed3f877": {
          "model_module": "@jupyter-widgets/base",
          "model_name": "LayoutModel",
          "model_module_version": "1.2.0",
          "state": {
            "_view_name": "LayoutView",
            "grid_template_rows": null,
            "right": null,
            "justify_content": null,
            "_view_module": "@jupyter-widgets/base",
            "overflow": null,
            "_model_module_version": "1.2.0",
            "_view_count": null,
            "flex_flow": null,
            "width": null,
            "min_width": null,
            "border": null,
            "align_items": null,
            "bottom": null,
            "_model_module": "@jupyter-widgets/base",
            "top": null,
            "grid_column": null,
            "overflow_y": null,
            "overflow_x": null,
            "grid_auto_flow": null,
            "grid_area": null,
            "grid_template_columns": null,
            "flex": null,
            "_model_name": "LayoutModel",
            "justify_items": null,
            "grid_row": null,
            "max_height": null,
            "align_content": null,
            "visibility": null,
            "align_self": null,
            "height": null,
            "min_height": null,
            "padding": null,
            "grid_auto_rows": null,
            "grid_gap": null,
            "max_width": null,
            "order": null,
            "_view_module_version": "1.2.0",
            "grid_template_areas": null,
            "object_position": null,
            "object_fit": null,
            "grid_auto_columns": null,
            "margin": null,
            "display": null,
            "left": null
          }
        },
        "8d95426223c344b4ab03729459c7330e": {
          "model_module": "@jupyter-widgets/controls",
          "model_name": "DescriptionStyleModel",
          "model_module_version": "1.5.0",
          "state": {
            "_view_name": "StyleView",
            "_model_name": "DescriptionStyleModel",
            "description_width": "",
            "_view_module": "@jupyter-widgets/base",
            "_model_module_version": "1.5.0",
            "_view_count": null,
            "_view_module_version": "1.2.0",
            "_model_module": "@jupyter-widgets/controls"
          }
        },
        "77c2b531f45544ef87c8765fd4543847": {
          "model_module": "@jupyter-widgets/base",
          "model_name": "LayoutModel",
          "model_module_version": "1.2.0",
          "state": {
            "_view_name": "LayoutView",
            "grid_template_rows": null,
            "right": null,
            "justify_content": null,
            "_view_module": "@jupyter-widgets/base",
            "overflow": null,
            "_model_module_version": "1.2.0",
            "_view_count": null,
            "flex_flow": null,
            "width": null,
            "min_width": null,
            "border": null,
            "align_items": null,
            "bottom": null,
            "_model_module": "@jupyter-widgets/base",
            "top": null,
            "grid_column": null,
            "overflow_y": null,
            "overflow_x": null,
            "grid_auto_flow": null,
            "grid_area": null,
            "grid_template_columns": null,
            "flex": null,
            "_model_name": "LayoutModel",
            "justify_items": null,
            "grid_row": null,
            "max_height": null,
            "align_content": null,
            "visibility": null,
            "align_self": null,
            "height": null,
            "min_height": null,
            "padding": null,
            "grid_auto_rows": null,
            "grid_gap": null,
            "max_width": null,
            "order": null,
            "_view_module_version": "1.2.0",
            "grid_template_areas": null,
            "object_position": null,
            "object_fit": null,
            "grid_auto_columns": null,
            "margin": null,
            "display": null,
            "left": null
          }
        },
        "edff4c1fd0be44d0a2a9f3c7a58055f1": {
          "model_module": "@jupyter-widgets/controls",
          "model_name": "HBoxModel",
          "model_module_version": "1.5.0",
          "state": {
            "_view_name": "HBoxView",
            "_dom_classes": [],
            "_model_name": "HBoxModel",
            "_view_module": "@jupyter-widgets/controls",
            "_model_module_version": "1.5.0",
            "_view_count": null,
            "_view_module_version": "1.5.0",
            "box_style": "",
            "layout": "IPY_MODEL_72907c8360904482bee398f866919526",
            "_model_module": "@jupyter-widgets/controls",
            "children": [
              "IPY_MODEL_1207cffa1bf64a32b54e2e3f6d8989bf",
              "IPY_MODEL_b9a6abc121e6449d93adbe0086ffb1ca"
            ]
          }
        },
        "72907c8360904482bee398f866919526": {
          "model_module": "@jupyter-widgets/base",
          "model_name": "LayoutModel",
          "model_module_version": "1.2.0",
          "state": {
            "_view_name": "LayoutView",
            "grid_template_rows": null,
            "right": null,
            "justify_content": null,
            "_view_module": "@jupyter-widgets/base",
            "overflow": null,
            "_model_module_version": "1.2.0",
            "_view_count": null,
            "flex_flow": null,
            "width": null,
            "min_width": null,
            "border": null,
            "align_items": null,
            "bottom": null,
            "_model_module": "@jupyter-widgets/base",
            "top": null,
            "grid_column": null,
            "overflow_y": null,
            "overflow_x": null,
            "grid_auto_flow": null,
            "grid_area": null,
            "grid_template_columns": null,
            "flex": null,
            "_model_name": "LayoutModel",
            "justify_items": null,
            "grid_row": null,
            "max_height": null,
            "align_content": null,
            "visibility": null,
            "align_self": null,
            "height": null,
            "min_height": null,
            "padding": null,
            "grid_auto_rows": null,
            "grid_gap": null,
            "max_width": null,
            "order": null,
            "_view_module_version": "1.2.0",
            "grid_template_areas": null,
            "object_position": null,
            "object_fit": null,
            "grid_auto_columns": null,
            "margin": null,
            "display": null,
            "left": null
          }
        },
        "1207cffa1bf64a32b54e2e3f6d8989bf": {
          "model_module": "@jupyter-widgets/controls",
          "model_name": "FloatProgressModel",
          "model_module_version": "1.5.0",
          "state": {
            "_view_name": "ProgressView",
            "style": "IPY_MODEL_c1f91ce5815b49d09d65d8a9d6dfbccf",
            "_dom_classes": [],
            "description": "epoch: 100%",
            "_model_name": "FloatProgressModel",
            "bar_style": "success",
            "max": 20,
            "_view_module": "@jupyter-widgets/controls",
            "_model_module_version": "1.5.0",
            "value": 20,
            "_view_count": null,
            "_view_module_version": "1.5.0",
            "orientation": "horizontal",
            "min": 0,
            "description_tooltip": null,
            "_model_module": "@jupyter-widgets/controls",
            "layout": "IPY_MODEL_976b2548e50c4fcd98e641fdbe440512"
          }
        },
        "b9a6abc121e6449d93adbe0086ffb1ca": {
          "model_module": "@jupyter-widgets/controls",
          "model_name": "HTMLModel",
          "model_module_version": "1.5.0",
          "state": {
            "_view_name": "HTMLView",
            "style": "IPY_MODEL_4cfd84da99ac42acb7c36e9ad2ccc600",
            "_dom_classes": [],
            "description": "",
            "_model_name": "HTMLModel",
            "placeholder": "​",
            "_view_module": "@jupyter-widgets/controls",
            "_model_module_version": "1.5.0",
            "value": " 20/20 [07:42&lt;00:00, 23.11s/it]",
            "_view_count": null,
            "_view_module_version": "1.5.0",
            "description_tooltip": null,
            "_model_module": "@jupyter-widgets/controls",
            "layout": "IPY_MODEL_3bfe1988503f4a86ac27eb60d2b2d56f"
          }
        },
        "c1f91ce5815b49d09d65d8a9d6dfbccf": {
          "model_module": "@jupyter-widgets/controls",
          "model_name": "ProgressStyleModel",
          "model_module_version": "1.5.0",
          "state": {
            "_view_name": "StyleView",
            "_model_name": "ProgressStyleModel",
            "description_width": "initial",
            "_view_module": "@jupyter-widgets/base",
            "_model_module_version": "1.5.0",
            "_view_count": null,
            "_view_module_version": "1.2.0",
            "bar_color": null,
            "_model_module": "@jupyter-widgets/controls"
          }
        },
        "976b2548e50c4fcd98e641fdbe440512": {
          "model_module": "@jupyter-widgets/base",
          "model_name": "LayoutModel",
          "model_module_version": "1.2.0",
          "state": {
            "_view_name": "LayoutView",
            "grid_template_rows": null,
            "right": null,
            "justify_content": null,
            "_view_module": "@jupyter-widgets/base",
            "overflow": null,
            "_model_module_version": "1.2.0",
            "_view_count": null,
            "flex_flow": null,
            "width": null,
            "min_width": null,
            "border": null,
            "align_items": null,
            "bottom": null,
            "_model_module": "@jupyter-widgets/base",
            "top": null,
            "grid_column": null,
            "overflow_y": null,
            "overflow_x": null,
            "grid_auto_flow": null,
            "grid_area": null,
            "grid_template_columns": null,
            "flex": null,
            "_model_name": "LayoutModel",
            "justify_items": null,
            "grid_row": null,
            "max_height": null,
            "align_content": null,
            "visibility": null,
            "align_self": null,
            "height": null,
            "min_height": null,
            "padding": null,
            "grid_auto_rows": null,
            "grid_gap": null,
            "max_width": null,
            "order": null,
            "_view_module_version": "1.2.0",
            "grid_template_areas": null,
            "object_position": null,
            "object_fit": null,
            "grid_auto_columns": null,
            "margin": null,
            "display": null,
            "left": null
          }
        },
        "4cfd84da99ac42acb7c36e9ad2ccc600": {
          "model_module": "@jupyter-widgets/controls",
          "model_name": "DescriptionStyleModel",
          "model_module_version": "1.5.0",
          "state": {
            "_view_name": "StyleView",
            "_model_name": "DescriptionStyleModel",
            "description_width": "",
            "_view_module": "@jupyter-widgets/base",
            "_model_module_version": "1.5.0",
            "_view_count": null,
            "_view_module_version": "1.2.0",
            "_model_module": "@jupyter-widgets/controls"
          }
        },
        "3bfe1988503f4a86ac27eb60d2b2d56f": {
          "model_module": "@jupyter-widgets/base",
          "model_name": "LayoutModel",
          "model_module_version": "1.2.0",
          "state": {
            "_view_name": "LayoutView",
            "grid_template_rows": null,
            "right": null,
            "justify_content": null,
            "_view_module": "@jupyter-widgets/base",
            "overflow": null,
            "_model_module_version": "1.2.0",
            "_view_count": null,
            "flex_flow": null,
            "width": null,
            "min_width": null,
            "border": null,
            "align_items": null,
            "bottom": null,
            "_model_module": "@jupyter-widgets/base",
            "top": null,
            "grid_column": null,
            "overflow_y": null,
            "overflow_x": null,
            "grid_auto_flow": null,
            "grid_area": null,
            "grid_template_columns": null,
            "flex": null,
            "_model_name": "LayoutModel",
            "justify_items": null,
            "grid_row": null,
            "max_height": null,
            "align_content": null,
            "visibility": null,
            "align_self": null,
            "height": null,
            "min_height": null,
            "padding": null,
            "grid_auto_rows": null,
            "grid_gap": null,
            "max_width": null,
            "order": null,
            "_view_module_version": "1.2.0",
            "grid_template_areas": null,
            "object_position": null,
            "object_fit": null,
            "grid_auto_columns": null,
            "margin": null,
            "display": null,
            "left": null
          }
        },
        "3559358d58f44545ae87e3b4b91c7b1e": {
          "model_module": "@jupyter-widgets/controls",
          "model_name": "HBoxModel",
          "model_module_version": "1.5.0",
          "state": {
            "_view_name": "HBoxView",
            "_dom_classes": [],
            "_model_name": "HBoxModel",
            "_view_module": "@jupyter-widgets/controls",
            "_model_module_version": "1.5.0",
            "_view_count": null,
            "_view_module_version": "1.5.0",
            "box_style": "",
            "layout": "IPY_MODEL_d2061a82f6e743eba33de73536a907f2",
            "_model_module": "@jupyter-widgets/controls",
            "children": [
              "IPY_MODEL_4aca05babf464b3387d625dc9e3f94aa",
              "IPY_MODEL_54770b9109864f8081bc41c6f7a18616"
            ]
          }
        },
        "d2061a82f6e743eba33de73536a907f2": {
          "model_module": "@jupyter-widgets/base",
          "model_name": "LayoutModel",
          "model_module_version": "1.2.0",
          "state": {
            "_view_name": "LayoutView",
            "grid_template_rows": null,
            "right": null,
            "justify_content": null,
            "_view_module": "@jupyter-widgets/base",
            "overflow": null,
            "_model_module_version": "1.2.0",
            "_view_count": null,
            "flex_flow": null,
            "width": null,
            "min_width": null,
            "border": null,
            "align_items": null,
            "bottom": null,
            "_model_module": "@jupyter-widgets/base",
            "top": null,
            "grid_column": null,
            "overflow_y": null,
            "overflow_x": null,
            "grid_auto_flow": null,
            "grid_area": null,
            "grid_template_columns": null,
            "flex": null,
            "_model_name": "LayoutModel",
            "justify_items": null,
            "grid_row": null,
            "max_height": null,
            "align_content": null,
            "visibility": null,
            "align_self": null,
            "height": null,
            "min_height": null,
            "padding": null,
            "grid_auto_rows": null,
            "grid_gap": null,
            "max_width": null,
            "order": null,
            "_view_module_version": "1.2.0",
            "grid_template_areas": null,
            "object_position": null,
            "object_fit": null,
            "grid_auto_columns": null,
            "margin": null,
            "display": null,
            "left": null
          }
        },
        "4aca05babf464b3387d625dc9e3f94aa": {
          "model_module": "@jupyter-widgets/controls",
          "model_name": "FloatProgressModel",
          "model_module_version": "1.5.0",
          "state": {
            "_view_name": "ProgressView",
            "style": "IPY_MODEL_9c78b1323e164ded8e26c547734cff5c",
            "_dom_classes": [],
            "description": "epoch: 100%",
            "_model_name": "FloatProgressModel",
            "bar_style": "success",
            "max": 20,
            "_view_module": "@jupyter-widgets/controls",
            "_model_module_version": "1.5.0",
            "value": 20,
            "_view_count": null,
            "_view_module_version": "1.5.0",
            "orientation": "horizontal",
            "min": 0,
            "description_tooltip": null,
            "_model_module": "@jupyter-widgets/controls",
            "layout": "IPY_MODEL_b98153f017d6490d82beaa2c136f79f4"
          }
        },
        "54770b9109864f8081bc41c6f7a18616": {
          "model_module": "@jupyter-widgets/controls",
          "model_name": "HTMLModel",
          "model_module_version": "1.5.0",
          "state": {
            "_view_name": "HTMLView",
            "style": "IPY_MODEL_a3b6d51bb2ce4902a36cb52e00b8be41",
            "_dom_classes": [],
            "description": "",
            "_model_name": "HTMLModel",
            "placeholder": "​",
            "_view_module": "@jupyter-widgets/controls",
            "_model_module_version": "1.5.0",
            "value": " 20/20 [07:03&lt;00:00, 21.17s/it]",
            "_view_count": null,
            "_view_module_version": "1.5.0",
            "description_tooltip": null,
            "_model_module": "@jupyter-widgets/controls",
            "layout": "IPY_MODEL_79177da6bf5a4f4aaf0a435401697e8a"
          }
        },
        "9c78b1323e164ded8e26c547734cff5c": {
          "model_module": "@jupyter-widgets/controls",
          "model_name": "ProgressStyleModel",
          "model_module_version": "1.5.0",
          "state": {
            "_view_name": "StyleView",
            "_model_name": "ProgressStyleModel",
            "description_width": "initial",
            "_view_module": "@jupyter-widgets/base",
            "_model_module_version": "1.5.0",
            "_view_count": null,
            "_view_module_version": "1.2.0",
            "bar_color": null,
            "_model_module": "@jupyter-widgets/controls"
          }
        },
        "b98153f017d6490d82beaa2c136f79f4": {
          "model_module": "@jupyter-widgets/base",
          "model_name": "LayoutModel",
          "model_module_version": "1.2.0",
          "state": {
            "_view_name": "LayoutView",
            "grid_template_rows": null,
            "right": null,
            "justify_content": null,
            "_view_module": "@jupyter-widgets/base",
            "overflow": null,
            "_model_module_version": "1.2.0",
            "_view_count": null,
            "flex_flow": null,
            "width": null,
            "min_width": null,
            "border": null,
            "align_items": null,
            "bottom": null,
            "_model_module": "@jupyter-widgets/base",
            "top": null,
            "grid_column": null,
            "overflow_y": null,
            "overflow_x": null,
            "grid_auto_flow": null,
            "grid_area": null,
            "grid_template_columns": null,
            "flex": null,
            "_model_name": "LayoutModel",
            "justify_items": null,
            "grid_row": null,
            "max_height": null,
            "align_content": null,
            "visibility": null,
            "align_self": null,
            "height": null,
            "min_height": null,
            "padding": null,
            "grid_auto_rows": null,
            "grid_gap": null,
            "max_width": null,
            "order": null,
            "_view_module_version": "1.2.0",
            "grid_template_areas": null,
            "object_position": null,
            "object_fit": null,
            "grid_auto_columns": null,
            "margin": null,
            "display": null,
            "left": null
          }
        },
        "a3b6d51bb2ce4902a36cb52e00b8be41": {
          "model_module": "@jupyter-widgets/controls",
          "model_name": "DescriptionStyleModel",
          "model_module_version": "1.5.0",
          "state": {
            "_view_name": "StyleView",
            "_model_name": "DescriptionStyleModel",
            "description_width": "",
            "_view_module": "@jupyter-widgets/base",
            "_model_module_version": "1.5.0",
            "_view_count": null,
            "_view_module_version": "1.2.0",
            "_model_module": "@jupyter-widgets/controls"
          }
        },
        "79177da6bf5a4f4aaf0a435401697e8a": {
          "model_module": "@jupyter-widgets/base",
          "model_name": "LayoutModel",
          "model_module_version": "1.2.0",
          "state": {
            "_view_name": "LayoutView",
            "grid_template_rows": null,
            "right": null,
            "justify_content": null,
            "_view_module": "@jupyter-widgets/base",
            "overflow": null,
            "_model_module_version": "1.2.0",
            "_view_count": null,
            "flex_flow": null,
            "width": null,
            "min_width": null,
            "border": null,
            "align_items": null,
            "bottom": null,
            "_model_module": "@jupyter-widgets/base",
            "top": null,
            "grid_column": null,
            "overflow_y": null,
            "overflow_x": null,
            "grid_auto_flow": null,
            "grid_area": null,
            "grid_template_columns": null,
            "flex": null,
            "_model_name": "LayoutModel",
            "justify_items": null,
            "grid_row": null,
            "max_height": null,
            "align_content": null,
            "visibility": null,
            "align_self": null,
            "height": null,
            "min_height": null,
            "padding": null,
            "grid_auto_rows": null,
            "grid_gap": null,
            "max_width": null,
            "order": null,
            "_view_module_version": "1.2.0",
            "grid_template_areas": null,
            "object_position": null,
            "object_fit": null,
            "grid_auto_columns": null,
            "margin": null,
            "display": null,
            "left": null
          }
        }
      }
    }
  },
  "cells": [
    {
      "cell_type": "markdown",
      "metadata": {
        "id": "N3mbKEY9TvEe"
      },
      "source": [
        "connect to my drive"
      ]
    },
    {
      "cell_type": "code",
      "metadata": {
        "colab": {
          "base_uri": "https://localhost:8080/"
        },
        "id": "us6goxKSTH1i",
        "outputId": "9717a176-b050-4972-f8bd-5efbac575603"
      },
      "source": [
        "from google.colab import drive\n",
        "drive.mount('/content/drive')"
      ],
      "execution_count": null,
      "outputs": [
        {
          "output_type": "stream",
          "text": [
            "Mounted at /content/drive\n"
          ],
          "name": "stdout"
        }
      ]
    },
    {
      "cell_type": "code",
      "metadata": {
        "colab": {
          "base_uri": "https://localhost:8080/"
        },
        "id": "BDGjReLvUNST",
        "outputId": "14a1a3ca-990f-4e1f-9853-342237b5fdad"
      },
      "source": [
        "%cd /content/drive/MyDrive/My_Codes/DeepLearning/ex1_GenderDetection/"
      ],
      "execution_count": null,
      "outputs": [
        {
          "output_type": "stream",
          "text": [
            "/content/drive/MyDrive/My_Codes/DeepLearning/ex1_GenderDetection\n"
          ],
          "name": "stdout"
        }
      ]
    },
    {
      "cell_type": "markdown",
      "metadata": {
        "id": "HxRKv6ErVwAB"
      },
      "source": [
        "# unzip data"
      ]
    },
    {
      "cell_type": "code",
      "metadata": {
        "id": "wFi0Ah42Vy5P"
      },
      "source": [
        "# !tar -xvf dataset/UTKface_inthewild/part1.tar.gz -C dataset\n",
        "# !tar -xvf dataset/UTKface_inthewild/part2.tar.gz -C dataset\n",
        "# !tar -xvf dataset/UTKface_inthewild/part3.tar.gz -C dataset\n",
        "\n",
        "# !tar -xvf UTKFace.tar.gz \n",
        "# !tar -xvf dataset2/crop_part1.tar.gz -C dataset2\n"
      ],
      "execution_count": null,
      "outputs": []
    },
    {
      "cell_type": "markdown",
      "metadata": {
        "id": "WBmem6RKUpV9"
      },
      "source": [
        "# load train and test data "
      ]
    },
    {
      "cell_type": "code",
      "metadata": {
        "colab": {
          "base_uri": "https://localhost:8080/"
        },
        "id": "FiixUJ0d2Qln",
        "outputId": "fa68bcca-4cdc-4407-8170-192122523978"
      },
      "source": [
        "pip install tqdm"
      ],
      "execution_count": null,
      "outputs": [
        {
          "output_type": "stream",
          "text": [
            "Requirement already satisfied: tqdm in /usr/local/lib/python3.7/dist-packages (4.41.1)\n"
          ],
          "name": "stdout"
        }
      ]
    },
    {
      "cell_type": "code",
      "metadata": {
        "id": "RldxxdT5vJYs"
      },
      "source": [
        "import os\n",
        "import numpy as np\n",
        "import shutil\n",
        "from tqdm import tqdm, tqdm_notebook\n",
        "\n",
        "def splitdata(root_dir, src):\n",
        "\n",
        "  # os.makedirs(root_dir +'/train')\n",
        "  # os.makedirs(root_dir +'/train/female')\n",
        "  # os.makedirs(root_dir +'/train/male')\n",
        "  os.makedirs(root_dir +'/vak')\n",
        "  os.makedirs(root_dir +'/vak/female')\n",
        "  os.makedirs(root_dir +'/vak/male')\n",
        "  # os.makedirs(root_dir +'/test')\n",
        "  # os.makedirs(root_dir +'/test/female')\n",
        "  # os.makedirs(root_dir +'/test/male')\n",
        "\n",
        "  # Creating partitions of the data after shuffeling\n",
        "\n",
        "  allFileNames = os.listdir(src)\n",
        "  np.random.shuffle(allFileNames)\n",
        "  train_FileNames, val_FileNames, test_FileNames = np.split(np.array(allFileNames),\n",
        "                                                            [int(len(allFileNames)*0.7), int(len(allFileNames)*0.85)])\n",
        "\n",
        "\n",
        "  train_FileNames = [src+'/'+ name for name in train_FileNames.tolist()]\n",
        "  val_FileNames = [src+'/' + name for name in val_FileNames.tolist()]\n",
        "  test_FileNames = [src+'/' + name for name in test_FileNames.tolist()]\n",
        "\n",
        "  print('Total images: ', len(allFileNames))\n",
        "  print('Training: ', len(train_FileNames))\n",
        "  print('Validation: ', len(val_FileNames))\n",
        "  print('Testing: ', len(test_FileNames))\n",
        "\n",
        "  # Copy-pasting images\n",
        "  # for name in tqdm_notebook(train_FileNames):\n",
        "  #   if name.split('/')[1].split('_')[1]=='1':\n",
        "  #     shutil.copy(name, root_dir +\"/train/male\")\n",
        "  #   else:\n",
        "  #     shutil.copy(name, root_dir +\"/train/female\")\n",
        "\n",
        "  for name in tqdm_notebook(val_FileNames):\n",
        "    if name.split('/')[1].split('_')[1]=='1':\n",
        "      shutil.copy(name, root_dir +\"/vak/male\")\n",
        "    else:\n",
        "      shutil.copy(name, root_dir +\"/vak/female\")\n",
        "\n",
        "  for name in tqdm_notebook(test_FileNames):\n",
        "    if name.split('/')[1].split('_')[1]=='1':\n",
        "      shutil.copy(name, root_dir +\"/test/male\")\n",
        "    else:\n",
        "      shutil.copy(name, root_dir +\"/test/female\")"
      ],
      "execution_count": null,
      "outputs": []
    },
    {
      "cell_type": "code",
      "metadata": {
        "id": "hp-cX3_WOrOx"
      },
      "source": [
        "# # Creating Train / Val / Test folders (One time use)\n",
        "# %cd /content/drive/MyDrive/My_Codes/DeepLearning/ex1_GenderDetection/dataset2\n",
        "# root_dir = 'datasetcroppart1'\n",
        "# src = \"crop_part1\" # Folder to copy images from\n",
        "# splitdata(root_dir=root_dir, src=src)\n",
        "\n",
        "# %cd /content/drive/MyDrive/My_Codes/DeepLearning/ex1_GenderDetection/dataset\n",
        "# root_dir = 'dataset1'\n",
        "# src = \"part1\" # Folder to copy images from\n",
        "# # x = os.listdir(src)\n",
        "# splitdata(root_dir=root_dir, src=src)"
      ],
      "execution_count": null,
      "outputs": []
    },
    {
      "cell_type": "code",
      "metadata": {
        "colab": {
          "base_uri": "https://localhost:8080/"
        },
        "id": "58vYR4L7bWDd",
        "outputId": "cbb6e194-cd82-4af0-e41c-32f66480f229"
      },
      "source": [
        "%cd /content/drive/MyDrive/My_Codes/DeepLearning/ex1_GenderDetection/dataset2"
      ],
      "execution_count": null,
      "outputs": [
        {
          "output_type": "stream",
          "text": [
            "/content/drive/MyDrive/My_Codes/DeepLearning/ex1_GenderDetection/dataset2\n"
          ],
          "name": "stdout"
        }
      ]
    },
    {
      "cell_type": "markdown",
      "metadata": {
        "id": "5OXevWMwQGSa"
      },
      "source": [
        "# create dataset"
      ]
    },
    {
      "cell_type": "code",
      "metadata": {
        "id": "86_d-IJOUqap"
      },
      "source": [
        "import numpy as np\n",
        "import matplotlib.pyplot as plt\n",
        "import scipy\n",
        "from PIL import Image\n",
        "from scipy import ndimage\n",
        "# -------------------------------------\n",
        "from keras.preprocessing.image import ImageDataGenerator"
      ],
      "execution_count": null,
      "outputs": []
    },
    {
      "cell_type": "code",
      "metadata": {
        "colab": {
          "base_uri": "https://localhost:8080/"
        },
        "id": "RiuKHJpcD0vy",
        "outputId": "9243960f-dfd1-4324-c2d0-fd567f5f736e"
      },
      "source": [
        "%cd /content/drive/MyDrive/My_Codes/DeepLearning/ex1_GenderDetection/dataset/setpart1"
      ],
      "execution_count": null,
      "outputs": [
        {
          "output_type": "stream",
          "text": [
            "/content/drive/MyDrive/My_Codes/DeepLearning/ex1_GenderDetection/dataset/setpart1\n"
          ],
          "name": "stdout"
        }
      ]
    },
    {
      "cell_type": "code",
      "metadata": {
        "colab": {
          "base_uri": "https://localhost:8080/"
        },
        "id": "Q_pC5zcYDtcB",
        "outputId": "83241dd6-8ac0-4de9-cc2f-0f0a7480a3de"
      },
      "source": [
        "# create generator\n",
        "datagen = ImageDataGenerator(rescale=1. / 255)\n",
        "# prepare an iterators for each dataset\n",
        "IMG_HEIGHT = 128\n",
        "IMG_WIDTH = 128\n",
        "train_it = datagen.flow_from_directory('train/', class_mode='binary',target_size=(IMG_HEIGHT, IMG_WIDTH),)\n",
        "val_it = datagen.flow_from_directory('vak/', class_mode='binary',target_size=(IMG_HEIGHT, IMG_WIDTH),)\n",
        "test_it = datagen.flow_from_directory('test/', class_mode='binary',target_size=(IMG_HEIGHT, IMG_WIDTH),)\n",
        "# confirm the iterator works\n",
        "# batchX, batchy = train_it.next()\n",
        "# print('Batch shape=%s, min=%.3f, max=%.3f' % (batchX.shape, batchX.min(), batchX.max()))"
      ],
      "execution_count": null,
      "outputs": [
        {
          "output_type": "stream",
          "text": [
            "Found 16246 images belonging to 2 classes.\n",
            "Found 3129 images belonging to 2 classes.\n",
            "Found 3129 images belonging to 2 classes.\n"
          ],
          "name": "stdout"
        }
      ]
    },
    {
      "cell_type": "code",
      "metadata": {
        "colab": {
          "base_uri": "https://localhost:8080/",
          "height": 246,
          "referenced_widgets": [
            "8858513894614114a537204dea3f80e7",
            "5d6e58535788471a9a31eaa2dd21202f",
            "50eb5d1045df488dad0bdcd89f16c4aa",
            "001b6f3d1f06406bb90a5e9e1b9337b8",
            "cf72ad0ef99c4bc98f5fb8cc975bc3f1",
            "675a8bc42d674c3aaf84cdbb75957e16",
            "8bbfb98825bd44f4b9ad6bf32b1caed8",
            "c213d9ff97384411afb6f2f6bc57f574",
            "2d43ca23ba424c5e99beec86c9b30889",
            "4667ccca682e4376b11e77f027c26f35",
            "d0f59e8e720e40eb8997b9141bb0f8ff",
            "432e0c49ab274ec08879c790883af42a",
            "a8c10ddf9bb34e5896bb44c7660a2591",
            "f54623cf0cda4bfe893cfdba7c190bd6",
            "c030e41f79e44c8cbac0fe1d5b563883",
            "090ed262783f4786910586931f938365"
          ]
        },
        "id": "yLDG0dx_GDDV",
        "outputId": "db927b01-0a40-49a6-c5ef-79a87326630c"
      },
      "source": [
        "# train set\n",
        "train_set_x_orig = []\n",
        "train_set_y = []\n",
        "# for i in tqdm_notebook(range(train_it.__len__()), desc='train set'):\n",
        "for i in tqdm_notebook(range(100), desc='train set'):\n",
        "  batchX, batchy = train_it.next()\n",
        "  train_set_x_orig.append(batchX)\n",
        "  train_set_y.append(batchy)\n",
        "# train_set_x_orig = np.concatenate([train_it.next()[0] for i in tqdm_notebook(range(train_it.__len__()), desc='train x')])\n",
        "# test set\n",
        "test_set_x_orig = []\n",
        "test_set_y = []\n",
        "# for i in tqdm_notebook(range(test_it.__len__()), desc='test set'):\n",
        "for i in tqdm_notebook(range(40), desc='test set'):\n",
        "  batchX, batchy = test_it.next()\n",
        "  test_set_x_orig.append(batchX)\n",
        "  test_set_y.append(batchy)\n",
        "# test_set_x_orig =np.concatenate([test_it.next()[0] for i in tqdm_notebook(range(test_it.__len__()),desc = 'test x')])\n",
        "\n"
      ],
      "execution_count": null,
      "outputs": [
        {
          "output_type": "stream",
          "text": [
            "/usr/local/lib/python3.7/dist-packages/ipykernel_launcher.py:5: TqdmDeprecationWarning: This function will be removed in tqdm==5.0.0\n",
            "Please use `tqdm.notebook.tqdm` instead of `tqdm.tqdm_notebook`\n",
            "  \"\"\"\n"
          ],
          "name": "stderr"
        },
        {
          "output_type": "display_data",
          "data": {
            "application/vnd.jupyter.widget-view+json": {
              "model_id": "8858513894614114a537204dea3f80e7",
              "version_minor": 0,
              "version_major": 2
            },
            "text/plain": [
              "HBox(children=(FloatProgress(value=0.0, description='train set', style=ProgressStyle(description_width='initia…"
            ]
          },
          "metadata": {
            "tags": []
          }
        },
        {
          "output_type": "stream",
          "text": [
            "\n"
          ],
          "name": "stdout"
        },
        {
          "output_type": "stream",
          "text": [
            "/usr/local/lib/python3.7/dist-packages/ipykernel_launcher.py:14: TqdmDeprecationWarning: This function will be removed in tqdm==5.0.0\n",
            "Please use `tqdm.notebook.tqdm` instead of `tqdm.tqdm_notebook`\n",
            "  \n"
          ],
          "name": "stderr"
        },
        {
          "output_type": "display_data",
          "data": {
            "application/vnd.jupyter.widget-view+json": {
              "model_id": "2d43ca23ba424c5e99beec86c9b30889",
              "version_minor": 0,
              "version_major": 2
            },
            "text/plain": [
              "HBox(children=(FloatProgress(value=0.0, description='test set', max=40.0, style=ProgressStyle(description_widt…"
            ]
          },
          "metadata": {
            "tags": []
          }
        },
        {
          "output_type": "stream",
          "text": [
            "\n"
          ],
          "name": "stdout"
        }
      ]
    },
    {
      "cell_type": "code",
      "metadata": {
        "id": "VWRo-KULcqbs"
      },
      "source": [
        "import cv2\n",
        "# @vectorize(['int64(int64, int64)'], target='cuda')\n",
        "def create_dataset(img_folder):\n",
        "  img_data_array=[]\n",
        "  class_name=[]\n",
        "  sh = []\n",
        "  IMG_HEIGHT = 64\n",
        "  IMG_WIDTH = 64\n",
        "  i=0\n",
        "  # for file in tqdm_notebook(os.listdir(os.path.join(img_folder)),desc='loop'):\n",
        "  for file in tqdm_notebook(os.listdir(os.path.join(img_folder)),desc='loop'):\n",
        "    i +=1\n",
        "    image_path= os.path.join(img_folder, file)\n",
        "    image= cv2.imread( image_path,cv2.COLOR_BGR2RGB)\n",
        "    # sh.append(image.shape)\n",
        "    image=cv2.resize(image, (IMG_HEIGHT, IMG_WIDTH),interpolation = cv2.INTER_AREA)\n",
        "    image=np.array(image)\n",
        "    image = image.astype('float32')\n",
        "    image /= 255. \n",
        "    img_data_array.append(image)\n",
        "    class_name.append(1 if file.split('_')[1]=='1'else 0)\n",
        "    if i == 100:\n",
        "      break\n",
        "  return np.array(img_data_array), np.array(class_name,ndmin=2)\n",
        "# extract the image array and class name\n",
        "# shape is ((200, 200, 3))"
      ],
      "execution_count": null,
      "outputs": []
    },
    {
      "cell_type": "code",
      "metadata": {
        "id": "g9IOQSmRqgS_"
      },
      "source": [
        "# %cd /content/drive/MyDrive/My_Codes/DeepLearning/ex1_GenderDetection/dataset\n",
        "# train_set_x_orig, train_set_y = create_dataset(r'part3')\n",
        "# # test_set_x_orig, test_set_y = create_dataset(r'dataset1/test')\n",
        "# classes = np.array(('man' ,'woman'))\n",
        "\n",
        "\n"
      ],
      "execution_count": null,
      "outputs": []
    },
    {
      "cell_type": "code",
      "metadata": {
        "id": "j5NKM6VDQsSb"
      },
      "source": [
        "train_set_x_orig = np.concatenate(train_set_x_orig)\n",
        "train_set_y = np.array(np.concatenate(train_set_y) ,ndmin=2)\n",
        "train_set_y = train_set_y.astype('int16')\n",
        "# --------------------------------------------------------\n",
        "test_set_x_orig_arr = np.concatenate(test_set_x_orig)\n",
        "test_set_y_arr = np.array(np.concatenate(test_set_y),ndmin=2) \n",
        "test_set_y_arr = test_set_y_arr.astype('int16')\n"
      ],
      "execution_count": null,
      "outputs": []
    },
    {
      "cell_type": "code",
      "metadata": {
        "id": "WF2KbmQlineS",
        "colab": {
          "base_uri": "https://localhost:8080/",
          "height": 322
        },
        "outputId": "1410d176-c910-4a7e-f383-b9b1ecda3bf4"
      },
      "source": [
        "# Example of a picture\n",
        "classes = np.array(('man' ,'woman'))\n",
        "print(classes)\n",
        "index = 64\n",
        "plt.imshow(train_set_x_orig[index])\n",
        "print(train_set_y[:,index])\n",
        "print (\"y = \" + str(train_set_y[:,index]) + \", it's a '\" + classes[np.squeeze(train_set_y[:,index])] +  \"' picture.\")"
      ],
      "execution_count": null,
      "outputs": [
        {
          "output_type": "stream",
          "text": [
            "['man' 'woman']\n",
            "[1]\n",
            "y = [1], it's a 'woman' picture.\n"
          ],
          "name": "stdout"
        },
        {
          "output_type": "display_data",
          "data": {
            "image/png": "[encoded data removed]",
            "text/plain": [
              "<Figure size 432x288 with 1 Axes>"
            ]
          },
          "metadata": {
            "tags": [],
            "needs_background": "light"
          }
        }
      ]
    },
    {
      "cell_type": "code",
      "metadata": {
        "id": "UOA8pssxraP3",
        "colab": {
          "base_uri": "https://localhost:8080/"
        },
        "outputId": "cf626994-f00f-45f1-e31f-bf94fc0242c7"
      },
      "source": [
        "### Check the shape ### (≈ 3 lines of code)\n",
        "m_train = train_set_x_orig.shape[0]\n",
        "m_test = test_set_x_orig_arr.shape[0]\n",
        "num_px = train_set_x_orig.shape[1]\n",
        "### END CODE HERE ###\n",
        "\n",
        "print (\"Number of training examples: m_train = \" + str(m_train))\n",
        "print (\"Number of testing examples: m_test = \" + str(m_test))\n",
        "print (\"Height/Width of each image: num_px = \" + str(num_px))\n",
        "print (\"Each image is of size: (\" + str(num_px) + \", \" + str(num_px) + \", 3)\")\n",
        "print (\"train_set_x shape: \" + str(train_set_x_orig.shape))\n",
        "print (\"train_set_y shape: \" + str(train_set_y.shape))\n",
        "print (\"test_set_x shape: \" + str(test_set_x_orig_arr.shape))\n",
        "print (\"test_set_y shape: \" + str(test_set_y_arr.shape))"
      ],
      "execution_count": null,
      "outputs": [
        {
          "output_type": "stream",
          "text": [
            "Number of training examples: m_train = 3200\n",
            "Number of testing examples: m_test = 1280\n",
            "Height/Width of each image: num_px = 128\n",
            "Each image is of size: (128, 128, 3)\n",
            "train_set_x shape: (3200, 128, 128, 3)\n",
            "train_set_y shape: (1, 3200)\n",
            "test_set_x shape: (1280, 128, 128, 3)\n",
            "test_set_y shape: (1, 1280)\n"
          ],
          "name": "stdout"
        }
      ]
    },
    {
      "cell_type": "code",
      "metadata": {
        "id": "rcbKGoBqr8Ak",
        "colab": {
          "base_uri": "https://localhost:8080/"
        },
        "outputId": "00f09b10-247c-4d1a-ce76-8812b7e1c21b"
      },
      "source": [
        "# Reshape the training and test examples\n",
        "\n",
        "### reshape ### (≈ 2 lines of code)\n",
        "train_set_x_flatten = train_set_x_orig.reshape(train_set_x_orig.shape[1]*train_set_x_orig.shape[2]*train_set_x_orig.shape[3],train_set_x_orig.shape[0])\n",
        "test_set_x_flatten = test_set_x_orig_arr.reshape(test_set_x_orig_arr.shape[0],-1).T\n",
        "### END CODE HERE ###\n",
        "\n",
        "print (\"train_set_x_flatten shape: \" + str(train_set_x_flatten.shape))\n",
        "print (\"train_set_y shape: \" + str(train_set_y.shape))\n",
        "print (\"test_set_x_flatten shape: \" + str(test_set_x_flatten.shape))\n",
        "print (\"test_set_y shape: \" + str(test_set_y_arr.shape))\n",
        "print (\"sanity check after reshaping: \" + str(train_set_x_flatten[0:5,0]))"
      ],
      "execution_count": null,
      "outputs": [
        {
          "output_type": "stream",
          "text": [
            "train_set_x_flatten shape: (49152, 3200)\n",
            "train_set_y shape: (1, 3200)\n",
            "test_set_x_flatten shape: (49152, 1280)\n",
            "test_set_y shape: (1, 1280)\n",
            "sanity check after reshaping: [0.2627451  0.63529414 0.34117648 0.8431373  0.9921569 ]\n"
          ],
          "name": "stdout"
        }
      ]
    },
    {
      "cell_type": "code",
      "metadata": {
        "id": "QQGWDYbps_qU"
      },
      "source": [
        "train_set_x = train_set_x_flatten\n",
        "train_set_y = train_set_y\n",
        "test_set_x = test_set_x_flatten\n",
        "test_set_y = test_set_y_arr"
      ],
      "execution_count": null,
      "outputs": []
    },
    {
      "cell_type": "markdown",
      "metadata": {
        "id": "ujoZBztm7olT"
      },
      "source": [
        "convert to onehot encoding"
      ]
    },
    {
      "cell_type": "code",
      "metadata": {
        "id": "dgj48AA87q0R"
      },
      "source": [
        "class_onehot = [[0,1],[1,0]]\n",
        "train_set_y_onehot_temp = []\n",
        "indexs = (train_set_y==1)*1\n",
        "\n",
        "for i in range(train_set_y.shape[1]):\n",
        "  train_set_y_onehot_temp.append(class_onehot[indexs[0,i]])\n",
        "\n",
        "test_set_y_onehot_temp = []\n",
        "indexs = (test_set_y==1)*1\n",
        "\n",
        "for i in range(test_set_y.shape[1]):\n",
        "  test_set_y_onehot_temp.append(class_onehot[indexs[0,i]])"
      ],
      "execution_count": null,
      "outputs": []
    },
    {
      "cell_type": "code",
      "metadata": {
        "id": "KlY_FJZw9pe7"
      },
      "source": [
        "train_set_y_onehot = np.array(train_set_y_onehot_temp)\n",
        "test_set_y_onehot = np.array(test_set_y_onehot_temp)"
      ],
      "execution_count": null,
      "outputs": []
    },
    {
      "cell_type": "code",
      "metadata": {
        "id": "NY5nWc4n-35A",
        "colab": {
          "base_uri": "https://localhost:8080/"
        },
        "outputId": "338771a5-e5c4-48c8-a9d7-4230bb9638c8"
      },
      "source": [
        "print(test_set_y_onehot.shape)\n",
        "train_set_y_onehot.shape"
      ],
      "execution_count": null,
      "outputs": [
        {
          "output_type": "stream",
          "text": [
            "(1280, 2)\n"
          ],
          "name": "stdout"
        },
        {
          "output_type": "execute_result",
          "data": {
            "text/plain": [
              "(3200, 2)"
            ]
          },
          "metadata": {
            "tags": []
          },
          "execution_count": 135
        }
      ]
    },
    {
      "cell_type": "code",
      "metadata": {
        "id": "HI8clxnd_GNQ"
      },
      "source": [
        "train_set_x"
      ],
      "execution_count": null,
      "outputs": []
    },
    {
      "cell_type": "markdown",
      "metadata": {
        "id": "bwnrOE36Qwvj"
      },
      "source": [
        "# fuctions to create network"
      ]
    },
    {
      "cell_type": "code",
      "metadata": {
        "id": "-GIH9apAtEXo"
      },
      "source": [
        "# sigmoid\n",
        "\n",
        "def sigmoid(z):\n",
        "    \"\"\"\n",
        "    Compute the sigmoid of z\n",
        "\n",
        "    Arguments:\n",
        "    z -- A scalar or numpy array of any size.\n",
        "\n",
        "    Return:\n",
        "    s -- sigmoid(z)\n",
        "    \"\"\"\n",
        "\n",
        "    s = 1/(1+np.exp(-z))\n",
        "    \n",
        "    return s,(z)\n",
        "\n",
        "def sigmoid_derivative(dA, activation_param):\n",
        "  z = activation_param[0]\n",
        "  A,z = sigmoid(z)\n",
        "  dz = dA*A*(1-A)\n",
        "  return dz\n",
        "\n",
        "# -------------------------------------------------------------------\n",
        "# relu\n",
        "def relu(z):\n",
        "  \"\"\"\n",
        "  Compute the relu of z\n",
        "\n",
        "  Return:\n",
        "  s -- relu(z)\n",
        "  \"\"\"\n",
        "\n",
        "  s=np.maximum(z,0) \n",
        "  \n",
        "\n",
        "  return s, (z)\n",
        "\n",
        "# -------------------------------------------------------------------\n",
        "def relu_derivative(dA,activation_param):\n",
        "  Z = activation_param[0]\n",
        "  s, Z = relu(Z)\n",
        "  dz = np.multiply(dA, np.int64(s > 0))\n",
        "  return dz\n",
        "# -------------------------------------------------------------------\n",
        "# tanh\n",
        "def tanh(Z):\n",
        "  s = np.tanh(Z)\n",
        "  return s, (Z)\n",
        "\n",
        "def tanh_gradient(dA, activation_param):\n",
        "  Z = activation_param[0]\n",
        "  s, Z = tanh(Z)\n",
        "  return dA * (1 - np.square(s))\n",
        "\n",
        "# softmax\n",
        "def softmax(Z):\n",
        "  expZ = np.exp(Z - np.max(Z))\n",
        "  A = expZ / expZ.sum(axis=0, keepdims=True)\n",
        "  return A, (Z)\n",
        "\n",
        "def softmax_derivative(dA, activation_param):\n",
        "  print(dA.shape)\n",
        "  Z = activation_param[0]\n",
        "  s, Z = softmax(Z)\n",
        "  print(s.shape)\n",
        "  s = np.reshape(s, (1, -1))\n",
        "  print(s.shape)\n",
        "  dz_1 = s * np.identity(s.size) - np.multiply(s.T,s)\n",
        "  print(dz_1.shape)\n",
        "  dz = np.multiply(dA,dz_1)\n",
        "  print(dz.shape)\n",
        "  return dz\n",
        "\n",
        "def leaky(z):\n",
        "  A = (z<=0) * 0.1*z + (z > 0) * 1 * z\n",
        "  return A, (z)\n",
        "\n",
        "def leaky_derivative(dA, activation_param):\n",
        "  Z = activation_param[0]\n",
        "  dz_1 = 0.01 * (Z<=0) + 1 * (Z>0)\n",
        "  dz = np.multiply(dA, dz_1)\n",
        "  return dz\n",
        "\n",
        "\n",
        "\n",
        "# initialize_with_zeros\n",
        "\n",
        "def initialize_parameters(layers_dim):\n",
        "    \"\"\"\n",
        "    This function creates a vector of zeros of shape (num neuron, previouse num neuron ) for w and initializes b for each neuron to 0.\n",
        "    \n",
        "    Argument:\n",
        "    layers_dim -- size of the w vector we want (or number of parameters for each layer in this case)\n",
        "    \n",
        "    Returns:\n",
        "    w -- initialized vector of shape (dim_current_layer, dim_previouse_layer)\n",
        "    b -- initialized scalar (corresponds to the bias)\n",
        "    \"\"\"\n",
        "    np.random.seed(1)\n",
        "    params_net = {}\n",
        "    for i in range(1, len(layers_dim)):\n",
        "      params_net['W'+ str(i)] = np.random.randn(layers_dim[i],layers_dim[i-1]) * 0.01\n",
        "      params_net['b'+ str(i)] = np.zeros(shape=(layers_dim[i],1))\n",
        "    # for key, value in params_net.items() :\n",
        "    #   print(value.shape)\n",
        "    return params_net\n",
        "# -------------------------------------------------------------------\n",
        "\n",
        "def linear_output(A,W,b):\n",
        "  Z = np.dot(W,A)+b\n",
        "  cache = (A,W,b)\n",
        "  return Z, cache\n",
        "# -------------------------------------------------------------------\n",
        "def activation_output(A_prev, W, b, activation):\n",
        "  \n",
        "  Z, linear_cache = linear_output(A_prev, W, b)\n",
        "\n",
        "  if activation == 'sigmoid':\n",
        "    A, activation_cache = sigmoid(Z)\n",
        "  elif activation == 'relu':\n",
        "    A, activation_cache = relu(Z)\n",
        "  elif activation == 'tanh':\n",
        "    A, activation_cache = tanh(Z)\n",
        "  elif activation == 'softmax':\n",
        "    A, activation_cache = softmax(Z)\n",
        "  elif activation == 'leaky':\n",
        "    A, activation_cache = leaky(Z)\n",
        "\n",
        "\n",
        "  return A, (linear_cache, activation_cache)\n",
        "# -------------------------------------------------------------------\n",
        "# propagate\n",
        "\n",
        "def propagate(params_net, X, activation_func,activ_out):\n",
        "    \"\"\"\n",
        "    Implement the cost function and its gradient for the propagation explained above\n",
        "\n",
        "    Arguments:\n",
        "    w -- weights, a numpy array of size (num_px * num_px * 3, 1)\n",
        "    b -- bias, a scalar\n",
        "    X -- data of size (num_px * num_px * 3, number of examples)\n",
        "    Y -- true \"label\" vector (containing 0 if non-cat, 1 if cat) of size (1, number of examples)\n",
        "\n",
        "    Return:\n",
        "    cost -- negative log-likelihood cost for logistic regression\n",
        "    dw -- gradient of the loss with respect to w, thus same shape as w\n",
        "    db -- gradient of the loss with respect to b, thus same shape as b\n",
        "    \n",
        "    \"\"\"\n",
        "    \n",
        "    # FORWARD PROPAGATION (FROM X TO COST)\n",
        "    caches = []\n",
        "    A = X\n",
        "    num_layer = len(params_net) // 2    \n",
        "    for i in range(1,num_layer):\n",
        "      A_prev = A\n",
        "      A, cache = activation_output(A_prev=A_prev, W=params_net['W'+str(i)], b=params_net['b'+str(i)],activation=activation_func)\n",
        "      caches.append(cache) \n",
        "      \n",
        "    # output layer\n",
        "    A_out , cache = activation_output(A_prev=A, W=params_net['W'+str(num_layer)], b=params_net['b'+str(num_layer)],activation=activ_out)\n",
        "    caches.append(cache)\n",
        "    return A_out, caches\n",
        "# -------------------------------------------------------------------\n",
        "# cross entropy\n",
        "def compute_cost(A_output,Y, activation_func,activ_out):\n",
        "  # number of data\n",
        "  m = Y.shape[1]\n",
        "  cost = 0\n",
        "  if activ_out == 'sigmoid':\n",
        "    cost = -np.mean(np.multiply(Y,np.log(A_output))+np.multiply((1-Y),np.log(1-A_output)))                # compute cost\n",
        "  elif activ_out == 'softmax':\n",
        "    cost = -np.mean(Y * np.log(A_output.T+ 1e-8))\n",
        "  # cost = np.squeeze(cost)\n",
        "  return cost\n",
        "\n",
        "# -------------------------------------------------------------------\n",
        "def linear_derivative(dZ, linear_param):\n",
        "  A_prev,w,b = linear_param\n",
        "  m = A_prev.shape[1]\n",
        "  dW = (1/m)*np.dot(dZ,A_prev.T)\n",
        "  db = (1/m)*np.sum(dZ, axis=1, keepdims=True)\n",
        "  dA_prev = np.dot(w.T, dZ)\n",
        "  return dA_prev, dW, db\n",
        "# -------------------------------------------------------------------\n",
        "def activ_derivative(dA, cache, activation):\n",
        "  linear_cache, activation_cache = cache\n",
        "\n",
        "  if activation == 'sigmoid':\n",
        "    dz = sigmoid_derivative(dA, activation_cache)\n",
        "    dA_prev, dw, db = linear_derivative(dz, linear_cache)\n",
        "  elif activation == 'relu':\n",
        "    dz = relu_derivative(dA, activation_cache)\n",
        "    dA_prev, dw, db = linear_derivative(dz, linear_cache)\n",
        "  elif activation == 'tanh':\n",
        "    dz = tanh_gradient(dA, activation_cache)\n",
        "    dA_prev, dw, db = linear_derivative(dz, linear_cache)\n",
        "  elif activation == 'softmax':\n",
        "    dz = softmax_derivative(dA, activation_cache)\n",
        "    dA_prev, dw, db = linear_derivative(dz, linear_cache)\n",
        "  elif activation == 'leaky':\n",
        "    dz = leaky_derivative(dA, activation_cache)\n",
        "    dA_prev, dw, db = linear_derivative(dz, linear_cache)\n",
        "\n",
        "  return dA_prev, dw, db\n",
        "# -------------------------------------------------------------------\n",
        "def backpropagate(A_output,Y,caches,activation_func,activ_out):\n",
        "  grads={}\n",
        "  # dA = -(np.divide(Y, A_output)-np.divide(1-Y, 1-A_output))\n",
        "  L = len(caches)\n",
        "  current_cache = caches[-1]\n",
        "  if activ_out == 'sigmoid':\n",
        "    Y = Y.reshape(A_output.shape)\n",
        "    dA = np.divide(A_output - Y, np.multiply(A_output, 1 - A_output))\n",
        "    grads[\"dA\"+str(L-1)], grads[\"dW\"+str(L)], grads[\"db\"+str(L)] = activ_derivative(dA,current_cache,activ_out)\n",
        "  elif activ_out == 'softmax':\n",
        "    dz = A_output - Y.T\n",
        "    grads[\"dA\"+str(L-1)], grads[\"dW\"+str(L)], grads[\"db\"+str(L)] = linear_derivative(dz, current_cache[0])\n",
        "  \n",
        "  for l in range(L - 1, 0, -1):\n",
        "        current_cache = caches[l-1]\n",
        "        dA_prev_temp, dW_temp, db_temp = activ_derivative(grads[\"dA\" + str(l)], current_cache,activation_func)\n",
        "        grads[\"dA\" + str(l-1)] = dA_prev_temp\n",
        "        grads[\"dW\" + str(l)] = dW_temp\n",
        "        grads[\"db\" + str(l)] = db_temp\n",
        "        \n",
        "  return grads\n",
        "\n",
        "# -------------------------------------------------------------------\n",
        "def update_parameters(parameters, grads, learning_rate):\n",
        "    \n",
        "    L = len(parameters) // 2 # number of layers in the neural network\n",
        "\n",
        "    for l in range(1, L + 1):\n",
        "        parameters[\"W\" + str(l)] = parameters['W' + str(l)] - learning_rate * grads['dW' + str(l)]\n",
        "        parameters[\"b\" + str(l)] = parameters['b' + str(l)] - learning_rate * grads['db' + str(l)]\n",
        "        \n",
        "    return parameters\n",
        "# -------------------------------------------------------------------\n",
        "\n",
        "\n"
      ],
      "execution_count": null,
      "outputs": []
    },
    {
      "cell_type": "markdown",
      "metadata": {
        "id": "Pk88f1k4igos"
      },
      "source": [
        "test my code"
      ]
    },
    {
      "cell_type": "code",
      "metadata": {
        "id": "IgUcQg6j-3H2",
        "colab": {
          "base_uri": "https://localhost:8080/",
          "height": 392
        },
        "outputId": "86b4a6c9-f1fa-4c4c-81db-3d308eea8fa4"
      },
      "source": [
        "# w, b, X, Y = np.array([[1.],[2.]]), 2., np.array([[1.,2.,-1.],[3.,4.,-3.2]]), np.array([[1,0,1]])\n",
        "# params = {}\n",
        "# params['W1']=w.T\n",
        "# params['b1']=b\n",
        "# A_out, caches = propagate(params, X, Y,'softmax')\n",
        "# cost = compute_cost(A_out,Y,'relu')\n",
        "# grads = backpropagate(A_out, Y, caches, activation_func='relu')\n",
        "# print(grads)\n",
        "# print (\"cost = \" + str(cost))"
      ],
      "execution_count": null,
      "outputs": [
        {
          "output_type": "error",
          "ename": "ValueError",
          "evalue": "ignored",
          "traceback": [
            "\u001b[0;31m---------------------------------------------------------------------------\u001b[0m",
            "\u001b[0;31mValueError\u001b[0m                                Traceback (most recent call last)",
            "\u001b[0;32m<ipython-input-29-e310c8f6b94c>\u001b[0m in \u001b[0;36m<module>\u001b[0;34m()\u001b[0m\n\u001b[1;32m      3\u001b[0m \u001b[0mparams\u001b[0m\u001b[0;34m[\u001b[0m\u001b[0;34m'W1'\u001b[0m\u001b[0;34m]\u001b[0m\u001b[0;34m=\u001b[0m\u001b[0mw\u001b[0m\u001b[0;34m.\u001b[0m\u001b[0mT\u001b[0m\u001b[0;34m\u001b[0m\u001b[0;34m\u001b[0m\u001b[0m\n\u001b[1;32m      4\u001b[0m \u001b[0mparams\u001b[0m\u001b[0;34m[\u001b[0m\u001b[0;34m'b1'\u001b[0m\u001b[0;34m]\u001b[0m\u001b[0;34m=\u001b[0m\u001b[0mb\u001b[0m\u001b[0;34m\u001b[0m\u001b[0;34m\u001b[0m\u001b[0m\n\u001b[0;32m----> 5\u001b[0;31m \u001b[0mA_out\u001b[0m\u001b[0;34m,\u001b[0m \u001b[0mcaches\u001b[0m \u001b[0;34m=\u001b[0m \u001b[0mpropagate\u001b[0m\u001b[0;34m(\u001b[0m\u001b[0mparams\u001b[0m\u001b[0;34m,\u001b[0m \u001b[0mX\u001b[0m\u001b[0;34m,\u001b[0m \u001b[0mY\u001b[0m\u001b[0;34m,\u001b[0m\u001b[0;34m'softmax'\u001b[0m\u001b[0;34m)\u001b[0m\u001b[0;34m\u001b[0m\u001b[0;34m\u001b[0m\u001b[0m\n\u001b[0m\u001b[1;32m      6\u001b[0m \u001b[0mcost\u001b[0m \u001b[0;34m=\u001b[0m \u001b[0mcompute_cost\u001b[0m\u001b[0;34m(\u001b[0m\u001b[0mA_out\u001b[0m\u001b[0;34m,\u001b[0m\u001b[0mY\u001b[0m\u001b[0;34m,\u001b[0m\u001b[0;34m'relu'\u001b[0m\u001b[0;34m)\u001b[0m\u001b[0;34m\u001b[0m\u001b[0;34m\u001b[0m\u001b[0m\n\u001b[1;32m      7\u001b[0m \u001b[0mgrads\u001b[0m \u001b[0;34m=\u001b[0m \u001b[0mbackpropagate\u001b[0m\u001b[0;34m(\u001b[0m\u001b[0mA_out\u001b[0m\u001b[0;34m,\u001b[0m \u001b[0mY\u001b[0m\u001b[0;34m,\u001b[0m \u001b[0mcaches\u001b[0m\u001b[0;34m,\u001b[0m \u001b[0mactivation_func\u001b[0m\u001b[0;34m=\u001b[0m\u001b[0;34m'relu'\u001b[0m\u001b[0;34m)\u001b[0m\u001b[0;34m\u001b[0m\u001b[0;34m\u001b[0m\u001b[0m\n",
            "\u001b[0;32m<ipython-input-27-a8ca1f23f7a2>\u001b[0m in \u001b[0;36mpropagate\u001b[0;34m(params_net, X, activation_func, activ_out)\u001b[0m\n\u001b[1;32m    161\u001b[0m \u001b[0;34m\u001b[0m\u001b[0m\n\u001b[1;32m    162\u001b[0m     \u001b[0;31m# output layer\u001b[0m\u001b[0;34m\u001b[0m\u001b[0;34m\u001b[0m\u001b[0;34m\u001b[0m\u001b[0m\n\u001b[0;32m--> 163\u001b[0;31m     \u001b[0mA_out\u001b[0m \u001b[0;34m,\u001b[0m \u001b[0mcache\u001b[0m \u001b[0;34m=\u001b[0m \u001b[0mactivation_output\u001b[0m\u001b[0;34m(\u001b[0m\u001b[0mA_prev\u001b[0m\u001b[0;34m=\u001b[0m\u001b[0mA\u001b[0m\u001b[0;34m,\u001b[0m \u001b[0mW\u001b[0m\u001b[0;34m=\u001b[0m\u001b[0mparams_net\u001b[0m\u001b[0;34m[\u001b[0m\u001b[0;34m'W'\u001b[0m\u001b[0;34m+\u001b[0m\u001b[0mstr\u001b[0m\u001b[0;34m(\u001b[0m\u001b[0mnum_layer\u001b[0m\u001b[0;34m)\u001b[0m\u001b[0;34m]\u001b[0m\u001b[0;34m,\u001b[0m \u001b[0mb\u001b[0m\u001b[0;34m=\u001b[0m\u001b[0mparams_net\u001b[0m\u001b[0;34m[\u001b[0m\u001b[0;34m'b'\u001b[0m\u001b[0;34m+\u001b[0m\u001b[0mstr\u001b[0m\u001b[0;34m(\u001b[0m\u001b[0mnum_layer\u001b[0m\u001b[0;34m)\u001b[0m\u001b[0;34m]\u001b[0m\u001b[0;34m,\u001b[0m\u001b[0mactivation\u001b[0m\u001b[0;34m=\u001b[0m\u001b[0mactiv_out\u001b[0m\u001b[0;34m)\u001b[0m\u001b[0;34m\u001b[0m\u001b[0;34m\u001b[0m\u001b[0m\n\u001b[0m\u001b[1;32m    164\u001b[0m     \u001b[0mcaches\u001b[0m\u001b[0;34m.\u001b[0m\u001b[0mappend\u001b[0m\u001b[0;34m(\u001b[0m\u001b[0mcache\u001b[0m\u001b[0;34m)\u001b[0m\u001b[0;34m\u001b[0m\u001b[0;34m\u001b[0m\u001b[0m\n\u001b[1;32m    165\u001b[0m     \u001b[0mprint\u001b[0m\u001b[0;34m(\u001b[0m\u001b[0mA_out\u001b[0m\u001b[0;34m.\u001b[0m\u001b[0mshape\u001b[0m\u001b[0;34m)\u001b[0m\u001b[0;34m\u001b[0m\u001b[0;34m\u001b[0m\u001b[0m\n",
            "\u001b[0;32m<ipython-input-27-a8ca1f23f7a2>\u001b[0m in \u001b[0;36mactivation_output\u001b[0;34m(A_prev, W, b, activation)\u001b[0m\n\u001b[1;32m    123\u001b[0m     \u001b[0mA\u001b[0m\u001b[0;34m,\u001b[0m \u001b[0mactivation_cache\u001b[0m \u001b[0;34m=\u001b[0m \u001b[0mtanh\u001b[0m\u001b[0;34m(\u001b[0m\u001b[0mZ\u001b[0m\u001b[0;34m)\u001b[0m\u001b[0;34m\u001b[0m\u001b[0;34m\u001b[0m\u001b[0m\n\u001b[1;32m    124\u001b[0m   \u001b[0;32melif\u001b[0m \u001b[0mactivation\u001b[0m \u001b[0;34m==\u001b[0m \u001b[0;34m'softmax'\u001b[0m\u001b[0;34m:\u001b[0m\u001b[0;34m\u001b[0m\u001b[0;34m\u001b[0m\u001b[0m\n\u001b[0;32m--> 125\u001b[0;31m     \u001b[0mA\u001b[0m\u001b[0;34m,\u001b[0m \u001b[0mactivation_cache\u001b[0m \u001b[0;34m=\u001b[0m \u001b[0msoftmax\u001b[0m\u001b[0;34m(\u001b[0m\u001b[0mZ\u001b[0m\u001b[0;34m)\u001b[0m\u001b[0;34m\u001b[0m\u001b[0;34m\u001b[0m\u001b[0m\n\u001b[0m\u001b[1;32m    126\u001b[0m   \u001b[0;32melif\u001b[0m \u001b[0mactivation\u001b[0m \u001b[0;34m==\u001b[0m \u001b[0;34m'leaky'\u001b[0m\u001b[0;34m:\u001b[0m\u001b[0;34m\u001b[0m\u001b[0;34m\u001b[0m\u001b[0m\n\u001b[1;32m    127\u001b[0m     \u001b[0mA\u001b[0m\u001b[0;34m,\u001b[0m \u001b[0mactivation_cache\u001b[0m \u001b[0;34m=\u001b[0m \u001b[0mleaky\u001b[0m\u001b[0;34m(\u001b[0m\u001b[0mZ\u001b[0m\u001b[0;34m)\u001b[0m\u001b[0;34m\u001b[0m\u001b[0;34m\u001b[0m\u001b[0m\n",
            "\u001b[0;31mValueError\u001b[0m: not enough values to unpack (expected 2, got 1)"
          ]
        }
      ]
    },
    {
      "cell_type": "markdown",
      "metadata": {
        "id": "WmcoFEaYSgBw"
      },
      "source": [
        "# Model"
      ]
    },
    {
      "cell_type": "code",
      "metadata": {
        "id": "ChCrVn33f5TC"
      },
      "source": [
        "dm = train_set_x.shape[0]\n",
        "\n",
        "def L_layer_model(X, Y, layers_dims, learning_rate = 0.0075, num_iterations = 1000, print_cost=False, num_print=100, activation_func = 'relu',activ_out='sigmoid'):\n",
        "\n",
        "    np.random.seed(1)\n",
        "    costs = []   \n",
        "    accuracy_train = []\n",
        "    \n",
        "    parameters = initialize_parameters(layers_dims)\n",
        "    activation_out = 'softmax'\n",
        "    for i in tqdm_notebook(range(0, num_iterations),desc='epoch'):\n",
        "\n",
        "        # Forward propagation: [LINEAR -> RELU]*(L-1) -> LINEAR -> SIGMOID.\n",
        "        AL, caches = propagate(parameters, X, activation_func,activ_out)\n",
        "        \n",
        "        # Compute cost\n",
        "        cost = compute_cost(AL, Y, activation_func,activ_out)\n",
        "        # Print the cost every n\n",
        "        if print_cost and i % num_print == 0:\n",
        "            print (\"Cost after iteration %i: %f\" %(i, cost))\n",
        "            acc = accuracy(X, parameters, Y, activation_func,activ_out)\n",
        "            accuracy_train.append(acc)\n",
        "            costs.append(cost)\n",
        "    \n",
        "        # Backward propagation\n",
        "        grads = backpropagate(AL, Y, caches, activation_func,activ_out)\n",
        " \n",
        "        # Update parameters\n",
        "        parameters = update_parameters(parameters, grads, learning_rate)\n",
        "\n",
        "             \n",
        "\n",
        "            \n",
        "    # plot the cost\n",
        "    plt.plot(np.squeeze(costs))\n",
        "    plt.ylabel('cost')\n",
        "    plt.xlabel(f'iterations (per {num_print})')\n",
        "    plt.title(\"Learning rate =\" + str(learning_rate))\n",
        "    plt.show()\n",
        "\n",
        "    # plot the accuracy\n",
        "    plt.plot(np.squeeze(accuracy_train))\n",
        "    plt.ylabel('train accuracy')\n",
        "    plt.xlabel(f'iterations (per {num_print})')\n",
        "    plt.title(\"Learning rate =\" + str(learning_rate))\n",
        "    plt.show()\n",
        "    \n",
        "    return parameters\n",
        "\n",
        "def accuracy(X, parameters, y, activation_fn,activ_out):\n",
        "    probs, caches = propagate(parameters,X, activation_fn,activ_out)\n",
        "    if activ_out == 'sigmoid':\n",
        "      labels = (probs >= 0.5) * 1\n",
        "      accuracy = np.mean(labels == y) * 100\n",
        "    elif activ_out == 'softmax':\n",
        "      y_hat = np.argmax(probs, axis=0)\n",
        "      y = np.argmax(y, axis=1)\n",
        "      accuracy = (y_hat == y).mean()\n",
        "      accuracy = accuracy * 100\n",
        "    return accuracy\n",
        "  \n"
      ],
      "execution_count": null,
      "outputs": []
    },
    {
      "cell_type": "markdown",
      "metadata": {
        "id": "hklp_YOdKeEf"
      },
      "source": [
        "# train on dataset"
      ]
    },
    {
      "cell_type": "code",
      "metadata": {
        "id": "w52hpG0K3LeS",
        "colab": {
          "base_uri": "https://localhost:8080/"
        },
        "outputId": "b5db1754-8e09-4730-bf05-3ef7ed779cf9"
      },
      "source": [
        "print(np.sum(train_set_y == 1))\n",
        "np.sum(train_set_y == 0)"
      ],
      "execution_count": null,
      "outputs": [
        {
          "output_type": "stream",
          "text": [
            "1641\n"
          ],
          "name": "stdout"
        },
        {
          "output_type": "execute_result",
          "data": {
            "text/plain": [
              "1559"
            ]
          },
          "metadata": {
            "tags": []
          },
          "execution_count": 31
        }
      ]
    },
    {
      "cell_type": "markdown",
      "metadata": {
        "id": "vLGuNFexqjp2"
      },
      "source": [
        "**size = 3,64,64**\n",
        "\n",
        "**activation function for output : softmax**\n",
        "\n",
        "**activation function for hidden layer : relu**\n",
        "\n",
        "**number of layer = 7**\n"
      ]
    },
    {
      "cell_type": "code",
      "metadata": {
        "id": "dV-MeK5LnoHK",
        "colab": {
          "base_uri": "https://localhost:8080/",
          "height": 968,
          "referenced_widgets": [
            "cce19c63650b431d98d7eb82df49131d",
            "f7044b517d324820b36654ba63dbeaba",
            "d2136c2041134dcbb10d3ce77d56638c",
            "cc0d970eb00d4901bad6d89a91f9b843",
            "a052a0fb632a426f8435e7e970f04ec7",
            "5c3bc35d56a9491c9bd22e36f8a7f425",
            "d893cf2b675443eba6c1210ed9ac5dda",
            "9a295701a61849d8b77e4c956666f926"
          ]
        },
        "outputId": "0df33549-f321-46e1-db44-e9dd0e43525d"
      },
      "source": [
        "# Print training progess and show loss graph\n",
        "layers_dims = [dm,600 ,256, 256, 64,2] \n",
        "parameters1  = L_layer_model(train_set_x, train_set_y_onehot, layers_dims,learning_rate = 0.5, num_iterations =30 , print_cost = True,num_print=2, activation_func='relu',activ_out='softmax')"
      ],
      "execution_count": null,
      "outputs": [
        {
          "output_type": "stream",
          "text": [
            "/usr/local/lib/python3.7/dist-packages/ipykernel_launcher.py:11: TqdmDeprecationWarning: This function will be removed in tqdm==5.0.0\n",
            "Please use `tqdm.notebook.tqdm` instead of `tqdm.tqdm_notebook`\n",
            "  # This is added back by InteractiveShellApp.init_path()\n"
          ],
          "name": "stderr"
        },
        {
          "output_type": "display_data",
          "data": {
            "application/vnd.jupyter.widget-view+json": {
              "model_id": "cce19c63650b431d98d7eb82df49131d",
              "version_minor": 0,
              "version_major": 2
            },
            "text/plain": [
              "HBox(children=(FloatProgress(value=0.0, description='epoch', max=30.0, style=ProgressStyle(description_width='…"
            ]
          },
          "metadata": {
            "tags": []
          }
        },
        {
          "output_type": "stream",
          "text": [
            "Cost after iteration 0: 0.346573\n",
            "Cost after iteration 2: 0.346461\n",
            "Cost after iteration 4: 0.346426\n",
            "Cost after iteration 6: 0.346415\n",
            "Cost after iteration 8: 0.346411\n",
            "Cost after iteration 10: 0.346410\n",
            "Cost after iteration 12: 0.346410\n",
            "Cost after iteration 14: 0.346410\n",
            "Cost after iteration 16: 0.346410\n",
            "Cost after iteration 18: 0.346410\n",
            "Cost after iteration 20: 0.346410\n",
            "Cost after iteration 22: 0.346410\n",
            "Cost after iteration 24: 0.346410\n",
            "Cost after iteration 26: 0.346410\n",
            "Cost after iteration 28: 0.346410\n",
            "\n"
          ],
          "name": "stdout"
        },
        {
          "output_type": "display_data",
          "data": {
            "image/png": "[encoded data removed]",
            "text/plain": [
              "<Figure size 432x288 with 1 Axes>"
            ]
          },
          "metadata": {
            "tags": [],
            "needs_background": "light"
          }
        },
        {
          "output_type": "display_data",
          "data": {
            "image/png": "[encoded data removed]",
            "text/plain": [
              "<Figure size 432x288 with 1 Axes>"
            ]
          },
          "metadata": {
            "tags": [],
            "needs_background": "light"
          }
        }
      ]
    },
    {
      "cell_type": "code",
      "metadata": {
        "colab": {
          "base_uri": "https://localhost:8080/"
        },
        "id": "HOVReY_t600V",
        "outputId": "a6f8c4c0-223c-48a5-e044-16958ecf3915"
      },
      "source": [
        "acc_test = accuracy(test_set_x, parameters1, test_set_y_onehot, activation_fn=\"relu\",activ_out='softmax')\n",
        "acc_train = accuracy(train_set_x, parameters1, train_set_y_onehot, activation_fn=\"relu\",activ_out='softmax')\n",
        "print(f'test : {acc_test}')\n",
        "print(f'train : {acc_train}')\n",
        "# print((np.exp(test_set_y_onehot[0:1,:]-np.max(test_set_y_onehot[0:1,:])))/ (np.exp(test_set_y_onehot[0:1,:]-np.max(test_set_y_onehot[0:1,:]))).sum(axis=1, keepdims=True))"
      ],
      "execution_count": null,
      "outputs": [
        {
          "output_type": "stream",
          "text": [
            "test : 49.375\n",
            "train : 51.28125\n"
          ],
          "name": "stdout"
        }
      ]
    },
    {
      "cell_type": "markdown",
      "metadata": {
        "id": "znjaLKL1r6fV"
      },
      "source": [
        "**size = 3,64,64**\n",
        "\n",
        "**activation function for output : sigmoid**\n",
        "\n",
        "**activation function for hidden layer : relu**\n",
        "\n",
        "**number of layer = 7**\n"
      ]
    },
    {
      "cell_type": "code",
      "metadata": {
        "colab": {
          "base_uri": "https://localhost:8080/",
          "height": 968,
          "referenced_widgets": [
            "1233026b7ed7446fb02f84d24ec84a0e",
            "5e27f666521344778fb91a7eec8fe758",
            "a2b5cabe3843424fa2358b3b4b048b2e",
            "ac4d6c359f044f5eb2eb973862276881",
            "e9980c878da04352bb36bd037809bbef",
            "227e990906da40cb8d8da8f9d7b9842e",
            "dfbc1c06664348d3bc378e8d7f32f92b",
            "9b05575bbd3e448f9e440f89278da085"
          ]
        },
        "id": "N-jVPUrLsG3A",
        "outputId": "acc93141-0cd8-4050-ea02-d3879e787623"
      },
      "source": [
        "# Print training progess and show loss graph\n",
        "layers_dims = [dm,600 ,256, 256, 64,1] \n",
        "parameters2  = L_layer_model(train_set_x, train_set_y, layers_dims,learning_rate = 0.5, num_iterations =30 , print_cost = True,num_print=2, activation_func='relu',activ_out='sigmoid')"
      ],
      "execution_count": null,
      "outputs": [
        {
          "output_type": "stream",
          "text": [
            "/usr/local/lib/python3.7/dist-packages/ipykernel_launcher.py:11: TqdmDeprecationWarning: This function will be removed in tqdm==5.0.0\n",
            "Please use `tqdm.notebook.tqdm` instead of `tqdm.tqdm_notebook`\n",
            "  # This is added back by InteractiveShellApp.init_path()\n"
          ],
          "name": "stderr"
        },
        {
          "output_type": "display_data",
          "data": {
            "application/vnd.jupyter.widget-view+json": {
              "model_id": "1233026b7ed7446fb02f84d24ec84a0e",
              "version_minor": 0,
              "version_major": 2
            },
            "text/plain": [
              "HBox(children=(FloatProgress(value=0.0, description='epoch', max=30.0, style=ProgressStyle(description_width='…"
            ]
          },
          "metadata": {
            "tags": []
          }
        },
        {
          "output_type": "stream",
          "text": [
            "Cost after iteration 0: 0.693147\n",
            "Cost after iteration 2: 0.693011\n",
            "Cost after iteration 4: 0.692931\n",
            "Cost after iteration 6: 0.692885\n",
            "Cost after iteration 8: 0.692857\n",
            "Cost after iteration 10: 0.692841\n",
            "Cost after iteration 12: 0.692832\n",
            "Cost after iteration 14: 0.692827\n",
            "Cost after iteration 16: 0.692824\n",
            "Cost after iteration 18: 0.692822\n",
            "Cost after iteration 20: 0.692821\n",
            "Cost after iteration 22: 0.692820\n",
            "Cost after iteration 24: 0.692820\n",
            "Cost after iteration 26: 0.692819\n",
            "Cost after iteration 28: 0.692819\n",
            "\n"
          ],
          "name": "stdout"
        },
        {
          "output_type": "display_data",
          "data": {
            "image/png": "[encoded data removed]",
            "text/plain": [
              "<Figure size 432x288 with 1 Axes>"
            ]
          },
          "metadata": {
            "tags": [],
            "needs_background": "light"
          }
        },
        {
          "output_type": "display_data",
          "data": {
            "image/png": "[encoded data removed]",
            "text/plain": [
              "<Figure size 432x288 with 1 Axes>"
            ]
          },
          "metadata": {
            "tags": [],
            "needs_background": "light"
          }
        }
      ]
    },
    {
      "cell_type": "code",
      "metadata": {
        "colab": {
          "base_uri": "https://localhost:8080/"
        },
        "id": "Qmokt8kosiAr",
        "outputId": "b0441228-0a1e-45a9-c299-eed67625aa17"
      },
      "source": [
        "acc_test = accuracy(test_set_x, parameters2, test_set_y, activation_fn=\"relu\",activ_out='sigmoid')\n",
        "acc_train = accuracy(train_set_x, parameters2, train_set_y, activation_fn=\"relu\",activ_out='sigmoid')\n",
        "print(f'test : {acc_test}')\n",
        "print(f'train : {acc_train}')"
      ],
      "execution_count": null,
      "outputs": [
        {
          "output_type": "stream",
          "text": [
            "test : 49.375\n",
            "train : 51.28125\n"
          ],
          "name": "stdout"
        }
      ]
    },
    {
      "cell_type": "markdown",
      "metadata": {
        "id": "86TS6auk0JfH"
      },
      "source": [
        "# compare different number of layers"
      ]
    },
    {
      "cell_type": "code",
      "metadata": {
        "colab": {
          "base_uri": "https://localhost:8080/",
          "height": 536,
          "referenced_widgets": [
            "cdb4ebb810544d1ea9e57844653fe3fb",
            "22132649914a46758037c14a133eee78",
            "aa11865ad7a648f3a0755f2c97d756fd",
            "ccf1cc99905e430e86efb9a41512de60",
            "067b3a4c936e4905964bf4392936c618",
            "d10b57cfac1041dea25f72a197fd0c80",
            "1b5551cca5ae40cead575ea31d16e68e",
            "1b874fb1f7ec4c92bdcb212ce2b46cad"
          ]
        },
        "id": "hcoaA3650QkT",
        "outputId": "df0d6fa0-6c54-42a0-cc19-da07494a3f19"
      },
      "source": [
        "# Print training progess and show loss graph\n",
        "layers_dims = [dm,3000 ,1000, 64,64,10,1] \n",
        "parameters4  = L_layer_model(train_set_x, train_set_y, layers_dims,learning_rate = 0.6, num_iterations =100 , print_cost = True,num_print=5, activation_func='leaky',activ_out='sigmoid')"
      ],
      "execution_count": null,
      "outputs": [
        {
          "output_type": "stream",
          "text": [
            "/usr/local/lib/python3.7/dist-packages/ipykernel_launcher.py:11: TqdmDeprecationWarning: This function will be removed in tqdm==5.0.0\n",
            "Please use `tqdm.notebook.tqdm` instead of `tqdm.tqdm_notebook`\n",
            "  # This is added back by InteractiveShellApp.init_path()\n"
          ],
          "name": "stderr"
        },
        {
          "output_type": "display_data",
          "data": {
            "application/vnd.jupyter.widget-view+json": {
              "model_id": "cdb4ebb810544d1ea9e57844653fe3fb",
              "version_minor": 0,
              "version_major": 2
            },
            "text/plain": [
              "HBox(children=(FloatProgress(value=0.0, description='epoch', style=ProgressStyle(description_width='initial'))…"
            ]
          },
          "metadata": {
            "tags": []
          }
        },
        {
          "output_type": "stream",
          "text": [
            "Cost after iteration 0: 0.693147\n"
          ],
          "name": "stdout"
        },
        {
          "output_type": "error",
          "ename": "KeyboardInterrupt",
          "evalue": "ignored",
          "traceback": [
            "\u001b[0;31m---------------------------------------------------------------------------\u001b[0m",
            "\u001b[0;31mKeyboardInterrupt\u001b[0m                         Traceback (most recent call last)",
            "\u001b[0;32m<ipython-input-141-920b0ea46da4>\u001b[0m in \u001b[0;36m<module>\u001b[0;34m()\u001b[0m\n\u001b[1;32m      1\u001b[0m \u001b[0;31m# Print training progess and show loss graph\u001b[0m\u001b[0;34m\u001b[0m\u001b[0;34m\u001b[0m\u001b[0;34m\u001b[0m\u001b[0m\n\u001b[1;32m      2\u001b[0m \u001b[0mlayers_dims\u001b[0m \u001b[0;34m=\u001b[0m \u001b[0;34m[\u001b[0m\u001b[0mdm\u001b[0m\u001b[0;34m,\u001b[0m\u001b[0;36m3000\u001b[0m \u001b[0;34m,\u001b[0m\u001b[0;36m1000\u001b[0m\u001b[0;34m,\u001b[0m \u001b[0;36m64\u001b[0m\u001b[0;34m,\u001b[0m\u001b[0;36m64\u001b[0m\u001b[0;34m,\u001b[0m\u001b[0;36m10\u001b[0m\u001b[0;34m,\u001b[0m\u001b[0;36m1\u001b[0m\u001b[0;34m]\u001b[0m\u001b[0;34m\u001b[0m\u001b[0;34m\u001b[0m\u001b[0m\n\u001b[0;32m----> 3\u001b[0;31m \u001b[0mparameters4\u001b[0m  \u001b[0;34m=\u001b[0m \u001b[0mL_layer_model\u001b[0m\u001b[0;34m(\u001b[0m\u001b[0mtrain_set_x\u001b[0m\u001b[0;34m,\u001b[0m \u001b[0mtrain_set_y\u001b[0m\u001b[0;34m,\u001b[0m \u001b[0mlayers_dims\u001b[0m\u001b[0;34m,\u001b[0m\u001b[0mlearning_rate\u001b[0m \u001b[0;34m=\u001b[0m \u001b[0;36m0.6\u001b[0m\u001b[0;34m,\u001b[0m \u001b[0mnum_iterations\u001b[0m \u001b[0;34m=\u001b[0m\u001b[0;36m100\u001b[0m \u001b[0;34m,\u001b[0m \u001b[0mprint_cost\u001b[0m \u001b[0;34m=\u001b[0m \u001b[0;32mTrue\u001b[0m\u001b[0;34m,\u001b[0m\u001b[0mnum_print\u001b[0m\u001b[0;34m=\u001b[0m\u001b[0;36m5\u001b[0m\u001b[0;34m,\u001b[0m \u001b[0mactivation_func\u001b[0m\u001b[0;34m=\u001b[0m\u001b[0;34m'leaky'\u001b[0m\u001b[0;34m,\u001b[0m\u001b[0mactiv_out\u001b[0m\u001b[0;34m=\u001b[0m\u001b[0;34m'sigmoid'\u001b[0m\u001b[0;34m)\u001b[0m\u001b[0;34m\u001b[0m\u001b[0;34m\u001b[0m\u001b[0m\n\u001b[0m",
            "\u001b[0;32m<ipython-input-137-801be9fc4181>\u001b[0m in \u001b[0;36mL_layer_model\u001b[0;34m(X, Y, layers_dims, learning_rate, num_iterations, print_cost, num_print, activation_func, activ_out)\u001b[0m\n\u001b[1;32m     19\u001b[0m         \u001b[0;32mif\u001b[0m \u001b[0mprint_cost\u001b[0m \u001b[0;32mand\u001b[0m \u001b[0mi\u001b[0m \u001b[0;34m%\u001b[0m \u001b[0mnum_print\u001b[0m \u001b[0;34m==\u001b[0m \u001b[0;36m0\u001b[0m\u001b[0;34m:\u001b[0m\u001b[0;34m\u001b[0m\u001b[0;34m\u001b[0m\u001b[0m\n\u001b[1;32m     20\u001b[0m             \u001b[0mprint\u001b[0m \u001b[0;34m(\u001b[0m\u001b[0;34m\"Cost after iteration %i: %f\"\u001b[0m \u001b[0;34m%\u001b[0m\u001b[0;34m(\u001b[0m\u001b[0mi\u001b[0m\u001b[0;34m,\u001b[0m \u001b[0mcost\u001b[0m\u001b[0;34m)\u001b[0m\u001b[0;34m)\u001b[0m\u001b[0;34m\u001b[0m\u001b[0;34m\u001b[0m\u001b[0m\n\u001b[0;32m---> 21\u001b[0;31m             \u001b[0macc\u001b[0m \u001b[0;34m=\u001b[0m \u001b[0maccuracy\u001b[0m\u001b[0;34m(\u001b[0m\u001b[0mX\u001b[0m\u001b[0;34m,\u001b[0m \u001b[0mparameters\u001b[0m\u001b[0;34m,\u001b[0m \u001b[0mY\u001b[0m\u001b[0;34m,\u001b[0m \u001b[0mactivation_func\u001b[0m\u001b[0;34m,\u001b[0m\u001b[0mactiv_out\u001b[0m\u001b[0;34m)\u001b[0m\u001b[0;34m\u001b[0m\u001b[0;34m\u001b[0m\u001b[0m\n\u001b[0m\u001b[1;32m     22\u001b[0m             \u001b[0maccuracy_train\u001b[0m\u001b[0;34m.\u001b[0m\u001b[0mappend\u001b[0m\u001b[0;34m(\u001b[0m\u001b[0macc\u001b[0m\u001b[0;34m)\u001b[0m\u001b[0;34m\u001b[0m\u001b[0;34m\u001b[0m\u001b[0m\n\u001b[1;32m     23\u001b[0m             \u001b[0mcosts\u001b[0m\u001b[0;34m.\u001b[0m\u001b[0mappend\u001b[0m\u001b[0;34m(\u001b[0m\u001b[0mcost\u001b[0m\u001b[0;34m)\u001b[0m\u001b[0;34m\u001b[0m\u001b[0;34m\u001b[0m\u001b[0m\n",
            "\u001b[0;32m<ipython-input-137-801be9fc4181>\u001b[0m in \u001b[0;36maccuracy\u001b[0;34m(X, parameters, y, activation_fn, activ_out)\u001b[0m\n\u001b[1;32m     49\u001b[0m \u001b[0;34m\u001b[0m\u001b[0m\n\u001b[1;32m     50\u001b[0m \u001b[0;32mdef\u001b[0m \u001b[0maccuracy\u001b[0m\u001b[0;34m(\u001b[0m\u001b[0mX\u001b[0m\u001b[0;34m,\u001b[0m \u001b[0mparameters\u001b[0m\u001b[0;34m,\u001b[0m \u001b[0my\u001b[0m\u001b[0;34m,\u001b[0m \u001b[0mactivation_fn\u001b[0m\u001b[0;34m,\u001b[0m\u001b[0mactiv_out\u001b[0m\u001b[0;34m)\u001b[0m\u001b[0;34m:\u001b[0m\u001b[0;34m\u001b[0m\u001b[0;34m\u001b[0m\u001b[0m\n\u001b[0;32m---> 51\u001b[0;31m     \u001b[0mprobs\u001b[0m\u001b[0;34m,\u001b[0m \u001b[0mcaches\u001b[0m \u001b[0;34m=\u001b[0m \u001b[0mpropagate\u001b[0m\u001b[0;34m(\u001b[0m\u001b[0mparameters\u001b[0m\u001b[0;34m,\u001b[0m\u001b[0mX\u001b[0m\u001b[0;34m,\u001b[0m \u001b[0mactivation_fn\u001b[0m\u001b[0;34m,\u001b[0m\u001b[0mactiv_out\u001b[0m\u001b[0;34m)\u001b[0m\u001b[0;34m\u001b[0m\u001b[0;34m\u001b[0m\u001b[0m\n\u001b[0m\u001b[1;32m     52\u001b[0m     \u001b[0;32mif\u001b[0m \u001b[0mactiv_out\u001b[0m \u001b[0;34m==\u001b[0m \u001b[0;34m'sigmoid'\u001b[0m\u001b[0;34m:\u001b[0m\u001b[0;34m\u001b[0m\u001b[0;34m\u001b[0m\u001b[0m\n\u001b[1;32m     53\u001b[0m       \u001b[0mlabels\u001b[0m \u001b[0;34m=\u001b[0m \u001b[0;34m(\u001b[0m\u001b[0mprobs\u001b[0m \u001b[0;34m>=\u001b[0m \u001b[0;36m0.5\u001b[0m\u001b[0;34m)\u001b[0m \u001b[0;34m*\u001b[0m \u001b[0;36m1\u001b[0m\u001b[0;34m\u001b[0m\u001b[0;34m\u001b[0m\u001b[0m\n",
            "\u001b[0;32m<ipython-input-90-dcdeafac9730>\u001b[0m in \u001b[0;36mpropagate\u001b[0;34m(params_net, X, activation_func, activ_out)\u001b[0m\n\u001b[1;32m    156\u001b[0m     \u001b[0;32mfor\u001b[0m \u001b[0mi\u001b[0m \u001b[0;32min\u001b[0m \u001b[0mrange\u001b[0m\u001b[0;34m(\u001b[0m\u001b[0;36m1\u001b[0m\u001b[0;34m,\u001b[0m\u001b[0mnum_layer\u001b[0m\u001b[0;34m)\u001b[0m\u001b[0;34m:\u001b[0m\u001b[0;34m\u001b[0m\u001b[0;34m\u001b[0m\u001b[0m\n\u001b[1;32m    157\u001b[0m       \u001b[0mA_prev\u001b[0m \u001b[0;34m=\u001b[0m \u001b[0mA\u001b[0m\u001b[0;34m\u001b[0m\u001b[0;34m\u001b[0m\u001b[0m\n\u001b[0;32m--> 158\u001b[0;31m       \u001b[0mA\u001b[0m\u001b[0;34m,\u001b[0m \u001b[0mcache\u001b[0m \u001b[0;34m=\u001b[0m \u001b[0mactivation_output\u001b[0m\u001b[0;34m(\u001b[0m\u001b[0mA_prev\u001b[0m\u001b[0;34m=\u001b[0m\u001b[0mA_prev\u001b[0m\u001b[0;34m,\u001b[0m \u001b[0mW\u001b[0m\u001b[0;34m=\u001b[0m\u001b[0mparams_net\u001b[0m\u001b[0;34m[\u001b[0m\u001b[0;34m'W'\u001b[0m\u001b[0;34m+\u001b[0m\u001b[0mstr\u001b[0m\u001b[0;34m(\u001b[0m\u001b[0mi\u001b[0m\u001b[0;34m)\u001b[0m\u001b[0;34m]\u001b[0m\u001b[0;34m,\u001b[0m \u001b[0mb\u001b[0m\u001b[0;34m=\u001b[0m\u001b[0mparams_net\u001b[0m\u001b[0;34m[\u001b[0m\u001b[0;34m'b'\u001b[0m\u001b[0;34m+\u001b[0m\u001b[0mstr\u001b[0m\u001b[0;34m(\u001b[0m\u001b[0mi\u001b[0m\u001b[0;34m)\u001b[0m\u001b[0;34m]\u001b[0m\u001b[0;34m,\u001b[0m\u001b[0mactivation\u001b[0m\u001b[0;34m=\u001b[0m\u001b[0mactivation_func\u001b[0m\u001b[0;34m)\u001b[0m\u001b[0;34m\u001b[0m\u001b[0;34m\u001b[0m\u001b[0m\n\u001b[0m\u001b[1;32m    159\u001b[0m       \u001b[0mcaches\u001b[0m\u001b[0;34m.\u001b[0m\u001b[0mappend\u001b[0m\u001b[0;34m(\u001b[0m\u001b[0mcache\u001b[0m\u001b[0;34m)\u001b[0m\u001b[0;34m\u001b[0m\u001b[0;34m\u001b[0m\u001b[0m\n\u001b[1;32m    160\u001b[0m \u001b[0;34m\u001b[0m\u001b[0m\n",
            "\u001b[0;32m<ipython-input-90-dcdeafac9730>\u001b[0m in \u001b[0;36mactivation_output\u001b[0;34m(A_prev, W, b, activation)\u001b[0m\n\u001b[1;32m    115\u001b[0m \u001b[0;32mdef\u001b[0m \u001b[0mactivation_output\u001b[0m\u001b[0;34m(\u001b[0m\u001b[0mA_prev\u001b[0m\u001b[0;34m,\u001b[0m \u001b[0mW\u001b[0m\u001b[0;34m,\u001b[0m \u001b[0mb\u001b[0m\u001b[0;34m,\u001b[0m \u001b[0mactivation\u001b[0m\u001b[0;34m)\u001b[0m\u001b[0;34m:\u001b[0m\u001b[0;34m\u001b[0m\u001b[0;34m\u001b[0m\u001b[0m\n\u001b[1;32m    116\u001b[0m \u001b[0;34m\u001b[0m\u001b[0m\n\u001b[0;32m--> 117\u001b[0;31m   \u001b[0mZ\u001b[0m\u001b[0;34m,\u001b[0m \u001b[0mlinear_cache\u001b[0m \u001b[0;34m=\u001b[0m \u001b[0mlinear_output\u001b[0m\u001b[0;34m(\u001b[0m\u001b[0mA_prev\u001b[0m\u001b[0;34m,\u001b[0m \u001b[0mW\u001b[0m\u001b[0;34m,\u001b[0m \u001b[0mb\u001b[0m\u001b[0;34m)\u001b[0m\u001b[0;34m\u001b[0m\u001b[0;34m\u001b[0m\u001b[0m\n\u001b[0m\u001b[1;32m    118\u001b[0m \u001b[0;34m\u001b[0m\u001b[0m\n\u001b[1;32m    119\u001b[0m   \u001b[0;32mif\u001b[0m \u001b[0mactivation\u001b[0m \u001b[0;34m==\u001b[0m \u001b[0;34m'sigmoid'\u001b[0m\u001b[0;34m:\u001b[0m\u001b[0;34m\u001b[0m\u001b[0;34m\u001b[0m\u001b[0m\n",
            "\u001b[0;32m<ipython-input-90-dcdeafac9730>\u001b[0m in \u001b[0;36mlinear_output\u001b[0;34m(A, W, b)\u001b[0m\n\u001b[1;32m    109\u001b[0m \u001b[0;34m\u001b[0m\u001b[0m\n\u001b[1;32m    110\u001b[0m \u001b[0;32mdef\u001b[0m \u001b[0mlinear_output\u001b[0m\u001b[0;34m(\u001b[0m\u001b[0mA\u001b[0m\u001b[0;34m,\u001b[0m\u001b[0mW\u001b[0m\u001b[0;34m,\u001b[0m\u001b[0mb\u001b[0m\u001b[0;34m)\u001b[0m\u001b[0;34m:\u001b[0m\u001b[0;34m\u001b[0m\u001b[0;34m\u001b[0m\u001b[0m\n\u001b[0;32m--> 111\u001b[0;31m   \u001b[0mZ\u001b[0m \u001b[0;34m=\u001b[0m \u001b[0mnp\u001b[0m\u001b[0;34m.\u001b[0m\u001b[0mdot\u001b[0m\u001b[0;34m(\u001b[0m\u001b[0mW\u001b[0m\u001b[0;34m,\u001b[0m\u001b[0mA\u001b[0m\u001b[0;34m)\u001b[0m\u001b[0;34m+\u001b[0m\u001b[0mb\u001b[0m\u001b[0;34m\u001b[0m\u001b[0;34m\u001b[0m\u001b[0m\n\u001b[0m\u001b[1;32m    112\u001b[0m   \u001b[0mcache\u001b[0m \u001b[0;34m=\u001b[0m \u001b[0;34m(\u001b[0m\u001b[0mA\u001b[0m\u001b[0;34m,\u001b[0m\u001b[0mW\u001b[0m\u001b[0;34m,\u001b[0m\u001b[0mb\u001b[0m\u001b[0;34m)\u001b[0m\u001b[0;34m\u001b[0m\u001b[0;34m\u001b[0m\u001b[0m\n\u001b[1;32m    113\u001b[0m   \u001b[0;32mreturn\u001b[0m \u001b[0mZ\u001b[0m\u001b[0;34m,\u001b[0m \u001b[0mcache\u001b[0m\u001b[0;34m\u001b[0m\u001b[0;34m\u001b[0m\u001b[0m\n",
            "\u001b[0;32m<__array_function__ internals>\u001b[0m in \u001b[0;36mdot\u001b[0;34m(*args, **kwargs)\u001b[0m\n",
            "\u001b[0;31mKeyboardInterrupt\u001b[0m: "
          ]
        }
      ]
    },
    {
      "cell_type": "code",
      "metadata": {
        "id": "P2QRjUbn1zgs"
      },
      "source": [
        "acc_test = accuracy(test_set_x, parameters4, test_set_y, activation_fn=\"relu\",activ_out='sigmoid',activ_out='sigmoid')\n",
        "acc_train = accuracy(train_set_x, parameters4, train_set_y, activation_fn=\"relu\",activ_out='sigmoid',activ_out='sigmoid')\n",
        "print(f'test : {acc_test}')\n",
        "print(f'train : {acc_train}')"
      ],
      "execution_count": null,
      "outputs": []
    },
    {
      "cell_type": "markdown",
      "metadata": {
        "id": "DW04p7n-VIL4"
      },
      "source": [
        "# compare different size of inputs "
      ]
    },
    {
      "cell_type": "markdown",
      "metadata": {
        "id": "-CQOnBFAVbrO"
      },
      "source": [
        "**(3,64,64)**"
      ]
    },
    {
      "cell_type": "code",
      "metadata": {
        "colab": {
          "base_uri": "https://localhost:8080/",
          "height": 751,
          "referenced_widgets": [
            "7e4253e325dc44d3939eb281c4acb134",
            "7bf9d59bd1db43ed9d4961bd404d620d",
            "07932bfcf436498e9509d57f46b86a74",
            "ba716cdb3ce94cbbb010856ec7bcb673",
            "d4ee101476d84e1a8babbc6d1dd4b78d",
            "5830fbf3ed044a62a11ac555850dfadb",
            "63a5f6cdf1064b279c0eaeca0ca3aac1",
            "a9e1689e7fde45f18c27cf185d4a6baa"
          ]
        },
        "id": "HG1vLM3K4079",
        "outputId": "d6927cfb-1a42-4795-840f-662cabbce13b"
      },
      "source": [
        "# 64*64*3\n",
        "layers_dims = [dm, 128, 64, 10,1] #  4-layer model\n",
        "parameters2 = L_layer_model(train_set_x, train_set_y, layers_dims,learning_rate = 0.03, num_iterations = 30, print_cost = True,num_print=10, activation_func='relu')"
      ],
      "execution_count": null,
      "outputs": [
        {
          "output_type": "stream",
          "text": [
            "/usr/local/lib/python3.7/dist-packages/ipykernel_launcher.py:11: TqdmDeprecationWarning: This function will be removed in tqdm==5.0.0\n",
            "Please use `tqdm.notebook.tqdm` instead of `tqdm.tqdm_notebook`\n",
            "  # This is added back by InteractiveShellApp.init_path()\n"
          ],
          "name": "stderr"
        },
        {
          "output_type": "display_data",
          "data": {
            "application/vnd.jupyter.widget-view+json": {
              "model_id": "7e4253e325dc44d3939eb281c4acb134",
              "version_minor": 0,
              "version_major": 2
            },
            "text/plain": [
              "HBox(children=(FloatProgress(value=0.0, description='epoch', max=30.0, style=ProgressStyle(description_width='…"
            ]
          },
          "metadata": {
            "tags": []
          }
        },
        {
          "output_type": "stream",
          "text": [
            "Cost after iteration 0: 0.693148\n",
            "Cost after iteration 10: 0.693102\n",
            "Cost after iteration 20: 0.693062\n",
            "\n"
          ],
          "name": "stdout"
        },
        {
          "output_type": "display_data",
          "data": {
            "image/png": "[encoded data removed]",
            "text/plain": [
              "<Figure size 432x288 with 1 Axes>"
            ]
          },
          "metadata": {
            "tags": [],
            "needs_background": "light"
          }
        },
        {
          "output_type": "display_data",
          "data": {
            "image/png": "[encoded data removed]",
            "text/plain": [
              "<Figure size 432x288 with 1 Axes>"
            ]
          },
          "metadata": {
            "tags": [],
            "needs_background": "light"
          }
        }
      ]
    },
    {
      "cell_type": "code",
      "metadata": {
        "id": "UazxvlQqB51f",
        "colab": {
          "base_uri": "https://localhost:8080/"
        },
        "outputId": "685eefa2-b01c-4a4d-e60f-24de7da941a9"
      },
      "source": [
        "acc_test = accuracy(test_set_x, parameters2, test_set_y_arr, activation_fn=\"relu\",activ_out='sigmoid')\n",
        "acc_train = accuracy(train_set_x, parameters2, train_set_y, activation_fn=\"relu\",activ_out='sigmoid')\n",
        "print(f'test : {acc_test}')\n",
        "print(f'train : {acc_train}')"
      ],
      "execution_count": null,
      "outputs": [
        {
          "output_type": "stream",
          "text": [
            "test : 49.375\n",
            "train : 51.28125\n"
          ],
          "name": "stdout"
        }
      ]
    },
    {
      "cell_type": "markdown",
      "metadata": {
        "id": "YftQmXfrViwp"
      },
      "source": [
        "**(3,128,128)**"
      ]
    },
    {
      "cell_type": "code",
      "metadata": {
        "id": "gDUtzMoER9cp",
        "colab": {
          "base_uri": "https://localhost:8080/",
          "height": 751,
          "referenced_widgets": [
            "eaa0a5f8a3484c4a81a6aee154a45b6d",
            "5bbba1db19bd431c814e8d5cb7456335",
            "f7ba763007c04496bdb6143befc6a1c5",
            "e03780677772433a8fdb1d987120faa4",
            "6e90a3ce74644104ae337db3cd15f1b8",
            "919e7e29aef1434888ea84e24f8c7410",
            "42e8d3aa8a874d2eab2114f0d4032b51",
            "afae0344b96047029855d80f355465cb"
          ]
        },
        "outputId": "e32d7734-e001-4c05-c254-75b0762d33d5"
      },
      "source": [
        "# 128*128*3\n",
        "dm = train_set_x.shape[0]\n",
        "layers_dims = [dm, 128, 64, 10,1] #  4-layer model\n",
        "parameters3 = L_layer_model(train_set_x, train_set_y, layers_dims,learning_rate = 0.03, num_iterations = 30, print_cost = True,num_print=10, activation_func='relu')"
      ],
      "execution_count": null,
      "outputs": [
        {
          "output_type": "stream",
          "text": [
            "/usr/local/lib/python3.7/dist-packages/ipykernel_launcher.py:11: TqdmDeprecationWarning: This function will be removed in tqdm==5.0.0\n",
            "Please use `tqdm.notebook.tqdm` instead of `tqdm.tqdm_notebook`\n",
            "  # This is added back by InteractiveShellApp.init_path()\n"
          ],
          "name": "stderr"
        },
        {
          "output_type": "display_data",
          "data": {
            "application/vnd.jupyter.widget-view+json": {
              "model_id": "eaa0a5f8a3484c4a81a6aee154a45b6d",
              "version_minor": 0,
              "version_major": 2
            },
            "text/plain": [
              "HBox(children=(FloatProgress(value=0.0, description='epoch', max=30.0, style=ProgressStyle(description_width='…"
            ]
          },
          "metadata": {
            "tags": []
          }
        },
        {
          "output_type": "stream",
          "text": [
            "Cost after iteration 0: 0.693149\n",
            "Cost after iteration 10: 0.693054\n",
            "Cost after iteration 20: 0.692972\n",
            "\n"
          ],
          "name": "stdout"
        },
        {
          "output_type": "display_data",
          "data": {
            "image/png": "[encoded data removed]",
            "text/plain": [
              "<Figure size 432x288 with 1 Axes>"
            ]
          },
          "metadata": {
            "tags": [],
            "needs_background": "light"
          }
        },
        {
          "output_type": "display_data",
          "data": {
            "image/png": "[encoded data removed]",
            "text/plain": [
              "<Figure size 432x288 with 1 Axes>"
            ]
          },
          "metadata": {
            "tags": [],
            "needs_background": "light"
          }
        }
      ]
    },
    {
      "cell_type": "code",
      "metadata": {
        "id": "u72E77ptpLPr",
        "colab": {
          "base_uri": "https://localhost:8080/"
        },
        "outputId": "43d24767-00fb-4d16-d6ac-b403f6297da2"
      },
      "source": [
        "acc_test = accuracy(test_set_x, parameters3, test_set_y, activation_fn=\"relu\",activ_out='sigmoid')\n",
        "acc_train = accuracy(train_set_x, parameters3, train_set_y, activation_fn=\"relu\",activ_out='sigmoid')\n",
        "print(f'test : {acc_test}')\n",
        "print(f'train : {acc_train}')"
      ],
      "execution_count": null,
      "outputs": [
        {
          "output_type": "stream",
          "text": [
            "test : 48.90625\n",
            "train : 51.84375\n"
          ],
          "name": "stdout"
        }
      ]
    },
    {
      "cell_type": "markdown",
      "metadata": {
        "id": "1CCGyn63BV9H"
      },
      "source": [
        "***result:***\n",
        "\n",
        "**according to costs that are printed, final accuracy for both test and train dataset, slop of cost function seems 128,128 is better than 64,64 but we test on small iteration more than this value will be better for both of them**"
      ]
    },
    {
      "cell_type": "markdown",
      "metadata": {
        "id": "9AYhYSEGV1l6"
      },
      "source": [
        "# compare different learning rate"
      ]
    },
    {
      "cell_type": "markdown",
      "metadata": {
        "id": "p8X1iwUAWCcD"
      },
      "source": [
        "**[0.1, 0.01, 0.001, 0.0001]**"
      ]
    },
    {
      "cell_type": "code",
      "metadata": {
        "id": "wbfx969PFOYM",
        "colab": {
          "base_uri": "https://localhost:8080/",
          "height": 1000,
          "referenced_widgets": [
            "8f570b7dd4be4f9ca1f82fb38f2b6b27",
            "bdf14f859d004d87a1b2b2ea95309a08",
            "13a9b5e0c97043e6b801ddbe3734c8c5",
            "9a868d35aa974285b7e5a4f93692984c",
            "a16a0c59d9c04fb69643ea057623fda1",
            "39a1fcb87e63483cbbc647d3dd4b8191",
            "3b600134a90a4f60acc9c659b355a3d9",
            "2bc9be1088684d10b51ac1902d47a2a2",
            "1810082368d34346b8978287c3e7e2e9",
            "7baedfc3b50d434d8dd6d731e9ae52f4",
            "0b6300aa06c14cfd81d936fe9615af3b",
            "ac27e98c7d2d4f89aab758e8c9526bd7",
            "8755d157160344e88951defd5154e27d",
            "fc7aea0922064863bd429be61ed3f877",
            "8d95426223c344b4ab03729459c7330e",
            "77c2b531f45544ef87c8765fd4543847",
            "edff4c1fd0be44d0a2a9f3c7a58055f1",
            "72907c8360904482bee398f866919526",
            "1207cffa1bf64a32b54e2e3f6d8989bf",
            "b9a6abc121e6449d93adbe0086ffb1ca",
            "c1f91ce5815b49d09d65d8a9d6dfbccf",
            "976b2548e50c4fcd98e641fdbe440512",
            "4cfd84da99ac42acb7c36e9ad2ccc600",
            "3bfe1988503f4a86ac27eb60d2b2d56f",
            "3559358d58f44545ae87e3b4b91c7b1e",
            "d2061a82f6e743eba33de73536a907f2",
            "4aca05babf464b3387d625dc9e3f94aa",
            "54770b9109864f8081bc41c6f7a18616",
            "9c78b1323e164ded8e26c547734cff5c",
            "b98153f017d6490d82beaa2c136f79f4",
            "a3b6d51bb2ce4902a36cb52e00b8be41",
            "79177da6bf5a4f4aaf0a435401697e8a"
          ]
        },
        "outputId": "782c0d4a-a32e-4246-80b3-646930feeca2"
      },
      "source": [
        "learning_rates = [0.1, 0.01, 0.001, 0.0001]\n",
        "layers_dims = [dm, 64, 32, 16, 8,4,1] #  4-layer model\n",
        "acc_trains = []\n",
        "acc_tests = []\n",
        "for lr in learning_rates:\n",
        "  # Print training progess and show loss graph\n",
        "  layers_dims = [dm,200 ,256, 256, 64,1] \n",
        "  parameters  = L_layer_model(train_set_x, train_set_y, layers_dims,learning_rate = lr, num_iterations =20 , print_cost = True,num_print=2, activation_func='relu',activ_out='sigmoid')\n",
        "  # acc_test = accuracy(test_set_x, parameters, test_set_y, activation_fn=\"relu\",activ_out='sigmoid')\n",
        "  acc_tests.append(acc_test)\n",
        "  acc_train = accuracy(train_set_x, parameters, train_set_y, activation_fn=\"relu\",activ_out='sigmoid')\n",
        "  acc_trains.append(acc_train)"
      ],
      "execution_count": null,
      "outputs": [
        {
          "output_type": "stream",
          "text": [
            "/usr/local/lib/python3.7/dist-packages/ipykernel_launcher.py:11: TqdmDeprecationWarning: This function will be removed in tqdm==5.0.0\n",
            "Please use `tqdm.notebook.tqdm` instead of `tqdm.tqdm_notebook`\n",
            "  # This is added back by InteractiveShellApp.init_path()\n"
          ],
          "name": "stderr"
        },
        {
          "output_type": "display_data",
          "data": {
            "application/vnd.jupyter.widget-view+json": {
              "model_id": "8f570b7dd4be4f9ca1f82fb38f2b6b27",
              "version_minor": 0,
              "version_major": 2
            },
            "text/plain": [
              "HBox(children=(FloatProgress(value=0.0, description='epoch', max=20.0, style=ProgressStyle(description_width='…"
            ]
          },
          "metadata": {
            "tags": []
          }
        },
        {
          "output_type": "stream",
          "text": [
            "Cost after iteration 0: 0.693148\n",
            "Cost after iteration 2: 0.693116\n",
            "Cost after iteration 4: 0.693087\n",
            "Cost after iteration 6: 0.693062\n",
            "Cost after iteration 8: 0.693038\n",
            "Cost after iteration 10: 0.693017\n",
            "Cost after iteration 12: 0.692998\n",
            "Cost after iteration 14: 0.692981\n",
            "Cost after iteration 16: 0.692965\n",
            "Cost after iteration 18: 0.692951\n",
            "\n"
          ],
          "name": "stdout"
        },
        {
          "output_type": "display_data",
          "data": {
            "image/png": "[encoded data removed]",
            "text/plain": [
              "<Figure size 432x288 with 1 Axes>"
            ]
          },
          "metadata": {
            "tags": [],
            "needs_background": "light"
          }
        },
        {
          "output_type": "display_data",
          "data": {
            "image/png": "[encoded data removed]",
            "text/plain": [
              "<Figure size 432x288 with 1 Axes>"
            ]
          },
          "metadata": {
            "tags": [],
            "needs_background": "light"
          }
        },
        {
          "output_type": "stream",
          "text": [
            "/usr/local/lib/python3.7/dist-packages/ipykernel_launcher.py:11: TqdmDeprecationWarning: This function will be removed in tqdm==5.0.0\n",
            "Please use `tqdm.notebook.tqdm` instead of `tqdm.tqdm_notebook`\n",
            "  # This is added back by InteractiveShellApp.init_path()\n"
          ],
          "name": "stderr"
        },
        {
          "output_type": "display_data",
          "data": {
            "application/vnd.jupyter.widget-view+json": {
              "model_id": "1810082368d34346b8978287c3e7e2e9",
              "version_minor": 0,
              "version_major": 2
            },
            "text/plain": [
              "HBox(children=(FloatProgress(value=0.0, description='epoch', max=20.0, style=ProgressStyle(description_width='…"
            ]
          },
          "metadata": {
            "tags": []
          }
        },
        {
          "output_type": "stream",
          "text": [
            "Cost after iteration 0: 0.693148\n",
            "Cost after iteration 2: 0.693144\n",
            "Cost after iteration 4: 0.693141\n",
            "Cost after iteration 6: 0.693138\n",
            "Cost after iteration 8: 0.693135\n",
            "Cost after iteration 10: 0.693132\n",
            "Cost after iteration 12: 0.693128\n",
            "Cost after iteration 14: 0.693125\n",
            "Cost after iteration 16: 0.693122\n",
            "Cost after iteration 18: 0.693119\n",
            "\n"
          ],
          "name": "stdout"
        },
        {
          "output_type": "display_data",
          "data": {
            "image/png": "[encoded data removed]",
            "text/plain": [
              "<Figure size 432x288 with 1 Axes>"
            ]
          },
          "metadata": {
            "tags": [],
            "needs_background": "light"
          }
        },
        {
          "output_type": "display_data",
          "data": {
            "image/png": "[encoded data removed]",
            "text/plain": [
              "<Figure size 432x288 with 1 Axes>"
            ]
          },
          "metadata": {
            "tags": [],
            "needs_background": "light"
          }
        },
        {
          "output_type": "stream",
          "text": [
            "/usr/local/lib/python3.7/dist-packages/ipykernel_launcher.py:11: TqdmDeprecationWarning: This function will be removed in tqdm==5.0.0\n",
            "Please use `tqdm.notebook.tqdm` instead of `tqdm.tqdm_notebook`\n",
            "  # This is added back by InteractiveShellApp.init_path()\n"
          ],
          "name": "stderr"
        },
        {
          "output_type": "display_data",
          "data": {
            "application/vnd.jupyter.widget-view+json": {
              "model_id": "edff4c1fd0be44d0a2a9f3c7a58055f1",
              "version_minor": 0,
              "version_major": 2
            },
            "text/plain": [
              "HBox(children=(FloatProgress(value=0.0, description='epoch', max=20.0, style=ProgressStyle(description_width='…"
            ]
          },
          "metadata": {
            "tags": []
          }
        },
        {
          "output_type": "stream",
          "text": [
            "Cost after iteration 0: 0.693148\n",
            "Cost after iteration 2: 0.693147\n",
            "Cost after iteration 4: 0.693147\n",
            "Cost after iteration 6: 0.693147\n",
            "Cost after iteration 8: 0.693146\n",
            "Cost after iteration 10: 0.693146\n",
            "Cost after iteration 12: 0.693146\n",
            "Cost after iteration 14: 0.693145\n",
            "Cost after iteration 16: 0.693145\n",
            "Cost after iteration 18: 0.693145\n",
            "\n"
          ],
          "name": "stdout"
        },
        {
          "output_type": "display_data",
          "data": {
            "image/png": "[encoded data removed]",
            "text/plain": [
              "<Figure size 432x288 with 1 Axes>"
            ]
          },
          "metadata": {
            "tags": [],
            "needs_background": "light"
          }
        },
        {
          "output_type": "display_data",
          "data": {
            "image/png": "[encoded data removed]",
            "text/plain": [
              "<Figure size 432x288 with 1 Axes>"
            ]
          },
          "metadata": {
            "tags": [],
            "needs_background": "light"
          }
        },
        {
          "output_type": "stream",
          "text": [
            "/usr/local/lib/python3.7/dist-packages/ipykernel_launcher.py:11: TqdmDeprecationWarning: This function will be removed in tqdm==5.0.0\n",
            "Please use `tqdm.notebook.tqdm` instead of `tqdm.tqdm_notebook`\n",
            "  # This is added back by InteractiveShellApp.init_path()\n"
          ],
          "name": "stderr"
        },
        {
          "output_type": "display_data",
          "data": {
            "application/vnd.jupyter.widget-view+json": {
              "model_id": "3559358d58f44545ae87e3b4b91c7b1e",
              "version_minor": 0,
              "version_major": 2
            },
            "text/plain": [
              "HBox(children=(FloatProgress(value=0.0, description='epoch', max=20.0, style=ProgressStyle(description_width='…"
            ]
          },
          "metadata": {
            "tags": []
          }
        },
        {
          "output_type": "stream",
          "text": [
            "Cost after iteration 0: 0.693148\n",
            "Cost after iteration 2: 0.693148\n",
            "Cost after iteration 4: 0.693148\n",
            "Cost after iteration 6: 0.693148\n",
            "Cost after iteration 8: 0.693147\n",
            "Cost after iteration 10: 0.693147\n",
            "Cost after iteration 12: 0.693147\n",
            "Cost after iteration 14: 0.693147\n",
            "Cost after iteration 16: 0.693147\n",
            "Cost after iteration 18: 0.693147\n",
            "\n"
          ],
          "name": "stdout"
        },
        {
          "output_type": "display_data",
          "data": {
            "image/png": "[encoded data removed]",
            "text/plain": [
              "<Figure size 432x288 with 1 Axes>"
            ]
          },
          "metadata": {
            "tags": [],
            "needs_background": "light"
          }
        },
        {
          "output_type": "display_data",
          "data": {
            "image/png": "[encoded data removed]",
            "text/plain": [
              "<Figure size 432x288 with 1 Axes>"
            ]
          },
          "metadata": {
            "tags": [],
            "needs_background": "light"
          }
        }
      ]
    },
    {
      "cell_type": "code",
      "metadata": {
        "id": "nb6FVg_rHeKD",
        "colab": {
          "base_uri": "https://localhost:8080/"
        },
        "outputId": "43a8997b-d794-4410-dc73-4847b9c26500"
      },
      "source": [
        "acc_trains"
      ],
      "execution_count": null,
      "outputs": [
        {
          "output_type": "execute_result",
          "data": {
            "text/plain": [
              "[51.28125, 51.28125, 51.28125, 48.75]"
            ]
          },
          "metadata": {
            "tags": []
          },
          "execution_count": 119
        }
      ]
    }
  ]
}