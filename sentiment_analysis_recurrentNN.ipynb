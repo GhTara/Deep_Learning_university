{
  "nbformat": 4,
  "nbformat_minor": 0,
  "metadata": {
    "colab": {
      "name": "HW4_Deep_Learning",
      "provenance": [],
      "collapsed_sections": [
        "UqM0Mnn4WYi7",
        "R8lYABtNjytn",
        "8L1II9Ixepdh",
        "0ohfW9IHltl6",
        "EkKKHmqeo5RR",
        "pGz4klqAgJNj",
        "OEI7eAS-gJNj",
        "TtLpocpFwd3X",
        "jrshAs3FpEWE",
        "fcnDwgQOpWMi"
      ]
    },
    "kernelspec": {
      "name": "python3",
      "display_name": "Python 3"
    },
    "accelerator": "GPU"
  },
  "cells": [
    {
      "cell_type": "markdown",
      "metadata": {
        "id": "5oceFvd0B_y5"
      },
      "source": [
        "# Implementation"
      ]
    },
    {
      "cell_type": "markdown",
      "metadata": {
        "id": "XuswRIkLB50h"
      },
      "source": [
        "## Importing libraries\n"
      ]
    },
    {
      "cell_type": "code",
      "metadata": {
        "id": "887gvLqJCCjQ"
      },
      "source": [
        "import numpy as np \n",
        "import pandas as pd \n",
        "\n",
        "from sklearn.feature_extraction.text import CountVectorizer\n",
        "from keras.preprocessing.text import Tokenizer\n",
        "from keras.preprocessing.sequence import pad_sequences\n",
        "from keras.models import Sequential\n",
        "from keras.layers import Dense, Embedding, LSTM, SpatialDropout1D, Input, Conv1D, GlobalMaxPooling1D, MaxPooling1D\n",
        "# --------------------------added\n",
        "from keras.preprocessing.text import Tokenizer\n",
        "from keras.preprocessing.sequence import pad_sequences\n",
        "from keras.layers import Dense, LSTM, GRU, SimpleRNN \n",
        "from keras.layers import Bidirectional, GlobalMaxPool1D\n",
        "from keras.layers import Embedding, Dropout, Activation, Input\n",
        "from keras.models import Model\n",
        "# ------------------------added end\n",
        "from sklearn.model_selection import train_test_split\n",
        "from keras.utils.np_utils import to_categorical\n",
        "import re\n",
        "import gc\n",
        "import matplotlib.pyplot as plt\n",
        "%matplotlib inline"
      ],
      "execution_count": 1,
      "outputs": []
    },
    {
      "cell_type": "markdown",
      "metadata": {
        "id": "cOALycyuCgeW"
      },
      "source": [
        "## Mouning Google drive"
      ]
    },
    {
      "cell_type": "code",
      "metadata": {
        "colab": {
          "base_uri": "https://localhost:8080/"
        },
        "id": "Gay4gXGcCs2H",
        "outputId": "5132d856-1f90-416d-9d38-6f19f704b6f9"
      },
      "source": [
        "from google.colab import drive\n",
        "drive.mount('/Mydrive')"
      ],
      "execution_count": 2,
      "outputs": [
        {
          "output_type": "stream",
          "text": [
            "Mounted at /Mydrive\n"
          ],
          "name": "stdout"
        }
      ]
    },
    {
      "cell_type": "code",
      "metadata": {
        "id": "3LOHftjY8o7f",
        "colab": {
          "base_uri": "https://localhost:8080/"
        },
        "outputId": "0744007e-6d8c-4a37-be2b-18289a4db79a"
      },
      "source": [
        "from google.colab import drive\n",
        "drive.mount('/content/drive')"
      ],
      "execution_count": 3,
      "outputs": [
        {
          "output_type": "stream",
          "text": [
            "Mounted at /content/drive\n"
          ],
          "name": "stdout"
        }
      ]
    },
    {
      "cell_type": "markdown",
      "metadata": {
        "id": "GxieBMSIcAwV"
      },
      "source": [
        "### Read train data file"
      ]
    },
    {
      "cell_type": "code",
      "metadata": {
        "colab": {
          "base_uri": "https://localhost:8080/"
        },
        "id": "dmmCOFR-cYww",
        "outputId": "f7948fe4-fcda-442b-df71-ede5acbd3ff7"
      },
      "source": [
        "%cd /content/drive/MyDrive\n",
        "!pwd"
      ],
      "execution_count": 4,
      "outputs": [
        {
          "output_type": "stream",
          "text": [
            "/content/drive/MyDrive\n",
            "/content/drive/MyDrive\n"
          ],
          "name": "stdout"
        }
      ]
    },
    {
      "cell_type": "code",
      "metadata": {
        "colab": {
          "base_uri": "https://localhost:8080/"
        },
        "id": "imOGlkJJcOUH",
        "outputId": "47871a34-b66c-4495-9c86-fee1078c0941"
      },
      "source": [
        "data_sh1 = pd.read_excel('Deep_Learning_HW4/Labeled_Sentences.xlsx', sheet_name='Sheet1')\n",
        "data_sh2 = pd.read_excel('Deep_Learning_HW4/Labeled_Sentences.xlsx', sheet_name='Sheet2')\n",
        "data1 = data_sh1[['review','label']] \n",
        "data2 = data_sh2[['review','label']] \n",
        "data = pd.concat([data1, data2])\n",
        "print(data.describe)"
      ],
      "execution_count": 5,
      "outputs": [
        {
          "output_type": "stream",
          "text": [
            "<bound method NDFrame.describe of                                                 review  label\n",
            "0    سلام من یک ماه پیش در هتل شمس قشم بودم واقعا ه...      2\n",
            "1    سلام بنده با همراه خانوادم چهار روز در این هتل...      2\n",
            "2    ما از تاریخ ۵اسفند ۹۶تا۸اسفند ۹۶ در این هتل اق...      2\n",
            "3    من 2روز در اين هتل به همراه همسرم اقامت داشتم ...      2\n",
            "4    سفر بسیار خوبی بود هتل بسیار زیبا و قشنگی بود ...      2\n",
            "..                                                 ...    ...\n",
            "698      هتل بسيار تميز و داراي استانداردهاي روز دنيا       2\n",
            "699                                 طراحي مدرن و عالي       2\n",
            "700                 پرسنل آموزش ديده جوان و تحصيلكرده       2\n",
            "701                           اتاقهاي فوق العاده تميز       2\n",
            "702             . من واقعا أقامت آرامي را تجربه كردم .      2\n",
            "\n",
            "[1633 rows x 2 columns]>\n"
          ],
          "name": "stdout"
        }
      ]
    },
    {
      "cell_type": "markdown",
      "metadata": {
        "id": "Rj_peK2IrkLy"
      },
      "source": [
        "### difinition for label of training dataset"
      ]
    },
    {
      "cell_type": "code",
      "metadata": {
        "id": "TQaq8Xgqrjj3"
      },
      "source": [
        "list_classes_name = ['Negative', 'Neutral', 'Positive']\n",
        "list_classes = [0, 1, 2]\n",
        "list_columns = ['review','label']"
      ],
      "execution_count": 6,
      "outputs": []
    },
    {
      "cell_type": "code",
      "metadata": {
        "id": "DrONXHu2czyV",
        "colab": {
          "base_uri": "https://localhost:8080/"
        },
        "outputId": "ed9b54b3-2c39-4b45-d661-8228ad89bc40"
      },
      "source": [
        "print('Positive:',data[ data['label'] == 2].size)\n",
        "print('Negative:',data[ data['label'] == 0].size)\n",
        "print('Neutral:',data[ data['label'] == 1].size)"
      ],
      "execution_count": 7,
      "outputs": [
        {
          "output_type": "stream",
          "text": [
            "Positive: 2406\n",
            "Negative: 528\n",
            "Neutral: 332\n"
          ],
          "name": "stdout"
        }
      ]
    },
    {
      "cell_type": "markdown",
      "metadata": {
        "id": "rcL2UkexX6zI"
      },
      "source": [
        "prepare data\n"
      ]
    },
    {
      "cell_type": "code",
      "metadata": {
        "id": "QCyBR8d8dMBp"
      },
      "source": [
        "max_features = 70000\n",
        "data['review'] = data['review'].apply(str)\n",
        "tokenizer = Tokenizer(num_words=max_features, split=' ')\n",
        "tokenizer.fit_on_texts(data['review'].values)\n",
        "X = tokenizer.texts_to_sequences(data['review'].values)"
      ],
      "execution_count": 8,
      "outputs": []
    },
    {
      "cell_type": "code",
      "metadata": {
        "id": "KT_VvyYDd_EZ",
        "colab": {
          "base_uri": "https://localhost:8080/"
        },
        "outputId": "28c07fae-b35b-4366-8a2b-3584a16c8f08"
      },
      "source": [
        "print(X[4:5])\n",
        "print(data['review'].values[4:5])"
      ],
      "execution_count": 9,
      "outputs": [
        {
          "output_type": "stream",
          "text": [
            "[[71, 12, 41, 3, 2, 12, 63, 1, 637, 3, 1, 10, 6, 17, 212, 204, 498, 324, 102, 1, 63, 281, 203]]\n",
            "['سفر بسیار خوبی بود هتل بسیار زیبا و قشنگی بود و من از اقامت خود لذت بردم اتاقهای شیک و زیبا- غذاهای متنوع']\n"
          ],
          "name": "stdout"
        }
      ]
    },
    {
      "cell_type": "code",
      "metadata": {
        "id": "kqlBilJzerkj",
        "colab": {
          "base_uri": "https://localhost:8080/",
          "height": 282
        },
        "outputId": "88dac155-efad-428d-a906-10a76543c52f"
      },
      "source": [
        "totalNumWords = [len(one_comment) for one_comment in X]\n",
        "plt.hist(totalNumWords,bins = np.arange(0,200,10))\n",
        "plt.show()\n",
        "print(sorted(totalNumWords)[-1])"
      ],
      "execution_count": 10,
      "outputs": [
        {
          "output_type": "display_data",
          "data": {
            "image/png": "[encoded data removed]",
            "text/plain": [
              "<Figure size 432x288 with 1 Axes>"
            ]
          },
          "metadata": {
            "tags": [],
            "needs_background": "light"
          }
        },
        {
          "output_type": "stream",
          "text": [
            "1076\n"
          ],
          "name": "stdout"
        }
      ]
    },
    {
      "cell_type": "code",
      "metadata": {
        "id": "TmPCJi2yuByd"
      },
      "source": [
        "# for i in range(len(data['review'])):\n",
        "#   if len(X[i]) >= 170:\n",
        "#     print(data['review'][i])\n",
        "#     break"
      ],
      "execution_count": 11,
      "outputs": []
    },
    {
      "cell_type": "code",
      "metadata": {
        "id": "BnQQ7yhOfgpo"
      },
      "source": [
        "maxlen = 170\n",
        "X = pad_sequences(X, maxlen=maxlen)"
      ],
      "execution_count": 12,
      "outputs": []
    },
    {
      "cell_type": "code",
      "metadata": {
        "id": "l-2Van8D02_l",
        "colab": {
          "base_uri": "https://localhost:8080/"
        },
        "outputId": "e5b69937-f13d-4bcd-8e8a-c484e8c7b133"
      },
      "source": [
        "# label encodeing\n",
        "from tensorflow.keras.utils import to_categorical\n",
        "X_t=np.asarray(X).astype(np.float32)\n",
        "# y -> one hot codeing \n",
        "y = np.array(data['label'])\n",
        "y = to_categorical(y, 3, dtype=\"float32\")\n",
        "print(X_t.shape,y.shape)"
      ],
      "execution_count": 13,
      "outputs": [
        {
          "output_type": "stream",
          "text": [
            "(1633, 170) (1633, 3)\n"
          ],
          "name": "stdout"
        }
      ]
    },
    {
      "cell_type": "code",
      "metadata": {
        "colab": {
          "base_uri": "https://localhost:8080/"
        },
        "id": "jxmLeRvVPmAz",
        "outputId": "05e33c25-e99f-4317-fb4e-ce20301497fb"
      },
      "source": [
        "y[4]"
      ],
      "execution_count": 14,
      "outputs": [
        {
          "output_type": "execute_result",
          "data": {
            "text/plain": [
              "array([0., 0., 1.], dtype=float32)"
            ]
          },
          "metadata": {
            "tags": []
          },
          "execution_count": 14
        }
      ]
    },
    {
      "cell_type": "markdown",
      "metadata": {
        "id": "Ow07iEjWXWpX"
      },
      "source": [
        "##  load our embeddings model into a dictionary "
      ]
    },
    {
      "cell_type": "code",
      "metadata": {
        "colab": {
          "base_uri": "https://localhost:8080/"
        },
        "id": "RXKvO3iMBkke",
        "outputId": "a7fd9a4b-4c72-47bf-91b8-6eb3f7417ef8"
      },
      "source": [
        "%cd Deep_Learning_HW4\n",
        "!pwd"
      ],
      "execution_count": 15,
      "outputs": [
        {
          "output_type": "stream",
          "text": [
            "/content/drive/MyDrive/Deep_Learning_HW4\n",
            "/content/drive/MyDrive/Deep_Learning_HW4\n"
          ],
          "name": "stdout"
        }
      ]
    },
    {
      "cell_type": "code",
      "metadata": {
        "id": "fnVYSwOzB-DR"
      },
      "source": [
        "# !wget https://github.com/Text-Mining/Persian-Wikipedia-Corpus/raw/master/models/glove/vectors.zip"
      ],
      "execution_count": 16,
      "outputs": []
    },
    {
      "cell_type": "code",
      "metadata": {
        "id": "PCtdXbNBCQQs"
      },
      "source": [
        "# !unzip vectors.zip"
      ],
      "execution_count": 17,
      "outputs": []
    },
    {
      "cell_type": "code",
      "metadata": {
        "id": "HfSgnvTcS_wh"
      },
      "source": [
        "def prepare_sentence_to_vector(sent):\n",
        "  X = tokenizer.texts_to_sequences(sent)\n",
        "  X = pad_sequences(X, maxlen=maxlen)\n",
        "  X_t=np.asarray(X).astype(np.float32)\n",
        "  return X_t\n"
      ],
      "execution_count": 18,
      "outputs": []
    },
    {
      "cell_type": "code",
      "metadata": {
        "id": "jE8YNYXBDcHZ"
      },
      "source": [
        "def embedding_layer():\n",
        "  embeddings_dict = {}\n",
        "  with open(\"vectors.txt\", 'r', encoding=\"utf-8\") as f:\n",
        "    for line in f:\n",
        "      values = line.split()\n",
        "      word = values[0]\n",
        "      vector = np.asarray(values[1:], \"float32\")\n",
        "      embeddings_dict[word] = vector\n",
        "  gc.collect()\n",
        "  #We get the mean and standard deviation of the embedding weights so that we could maintain the \n",
        "  #same statistics for the rest of our own random generated weights. \n",
        "  all_embs = np.stack(list(embeddings_dict.values()))\n",
        "  emb_mean,emb_std = all_embs.mean(), all_embs.std()\n",
        "          \n",
        "  nb_words = len(tokenizer.word_index) + 1\n",
        "  #We are going to set the embedding size to the pretrained dimension as we are replicating it.\n",
        "  #the size will be Number of Words in Vocab X Embedding Size\n",
        "  embed_size = 50\n",
        "  embedding_matrix = np.random.normal(emb_mean, emb_std, (nb_words, embed_size))\n",
        "  gc.collect()\n",
        "\n",
        "  #With the newly created embedding matrix, we'll fill it up with the words that we have in both \n",
        "  #our own dictionary and loaded pretrained embedding. \n",
        "  embeddedCount = 0\n",
        "  for word, i in tokenizer.word_index.items():\n",
        "    #then we see if this word is in glove's dictionary, if yes, get the corresponding weights\n",
        "    embedding_vector = embeddings_dict.get(word)\n",
        "    #and store inside the embedding matrix that we will train later on.\n",
        "    if embedding_vector is not None: \n",
        "        embedding_matrix[i] = embedding_vector\n",
        "        embeddedCount+=1\n",
        "  print('total embedded:',embeddedCount,'common words')\n",
        "          \n",
        "  del(embeddings_dict)\n",
        "  gc.collect()\n",
        "\n",
        "  return embedding_matrix\n",
        "\n",
        "\n",
        "  "
      ],
      "execution_count": 19,
      "outputs": []
    },
    {
      "cell_type": "code",
      "metadata": {
        "colab": {
          "base_uri": "https://localhost:8080/"
        },
        "id": "Hau-ENgAERYo",
        "outputId": "c5a4abae-47b3-4282-dd2d-e540100242db"
      },
      "source": [
        "embedding_matrix = embedding_layer()"
      ],
      "execution_count": 20,
      "outputs": [
        {
          "output_type": "stream",
          "text": [
            "total embedded: 4751 common words\n"
          ],
          "name": "stdout"
        }
      ]
    },
    {
      "cell_type": "markdown",
      "metadata": {
        "id": "gd2Rn_WsqLxr"
      },
      "source": [
        "# training steps"
      ]
    },
    {
      "cell_type": "markdown",
      "metadata": {
        "id": "nPo-qhCjqQeJ"
      },
      "source": [
        "## building your models"
      ]
    },
    {
      "cell_type": "markdown",
      "metadata": {
        "id": "hby9rOvrYRDa"
      },
      "source": [
        "Early stopping callback:"
      ]
    },
    {
      "cell_type": "code",
      "metadata": {
        "id": "1Hc4RyiYYT4v"
      },
      "source": [
        "from tensorflow.keras.callbacks import EarlyStopping"
      ],
      "execution_count": 24,
      "outputs": []
    },
    {
      "cell_type": "code",
      "metadata": {
        "id": "nfK7aXyCYbke"
      },
      "source": [
        "early_stop = EarlyStopping(monitor='val_loss', patience=20)"
      ],
      "execution_count": 55,
      "outputs": []
    },
    {
      "cell_type": "code",
      "metadata": {
        "id": "rxaXxdnLCUGT"
      },
      "source": [
        "from sklearn.model_selection import train_test_split"
      ],
      "execution_count": 23,
      "outputs": []
    },
    {
      "cell_type": "code",
      "metadata": {
        "colab": {
          "base_uri": "https://localhost:8080/"
        },
        "id": "BwZaBpBtyJO5",
        "outputId": "57f50027-ae10-440a-be4b-b573f0b10767"
      },
      "source": [
        "len(tokenizer.word_index)"
      ],
      "execution_count": 25,
      "outputs": [
        {
          "output_type": "execute_result",
          "data": {
            "text/plain": [
              "7928"
            ]
          },
          "metadata": {
            "tags": []
          },
          "execution_count": 25
        }
      ]
    },
    {
      "cell_type": "markdown",
      "metadata": {
        "id": "HmJhhnJwfr1e"
      },
      "source": [
        "#structure of models"
      ]
    },
    {
      "cell_type": "markdown",
      "metadata": {
        "id": "UqM0Mnn4WYi7"
      },
      "source": [
        "##single LSTM layer model"
      ]
    },
    {
      "cell_type": "code",
      "metadata": {
        "colab": {
          "base_uri": "https://localhost:8080/"
        },
        "id": "qOU1PlvaN4j-",
        "outputId": "1f8275e1-dd43-42b7-9906-e8fc5eab7ff6"
      },
      "source": [
        "# from keras.models import Sequential\n",
        "model1 = Sequential()\n",
        "model1.add(Input(shape=(maxlen, )))\n",
        "model1.add(Embedding(len(tokenizer.word_index)+1, embedding_matrix.shape[1],weights=[embedding_matrix],trainable=False, mask_zero=True))\n",
        "\n",
        "model1.add(LSTM(32,name='lstm_layer',dropout=0.2,recurrent_dropout=0.2, return_sequences=True))\n",
        "model1.add(GlobalMaxPool1D())\n",
        "\n",
        "model1.add(Dense(32, activation=\"relu\"))\n",
        "model1.add(Dropout(0.1))\n",
        "\n",
        "model1.add(Dense(3, activation=\"softmax\"))\n",
        "\n",
        "model1.compile(loss='categorical_crossentropy',\n",
        "                  optimizer='adam',\n",
        "                  metrics=['accuracy'])\n",
        "model1.summary()\n",
        "\n"
      ],
      "execution_count": 34,
      "outputs": [
        {
          "output_type": "stream",
          "text": [
            "WARNING:tensorflow:Please add `keras.layers.InputLayer` instead of `keras.Input` to Sequential model. `keras.Input` is intended to be used by Functional model.\n",
            "WARNING:tensorflow:Layer lstm_layer will not use cuDNN kernels since it doesn't meet the criteria. It will use a generic GPU kernel as fallback when running on GPU.\n",
            "Model: \"sequential_3\"\n",
            "_________________________________________________________________\n",
            "Layer (type)                 Output Shape              Param #   \n",
            "=================================================================\n",
            "embedding_3 (Embedding)      (None, 170, 50)           396450    \n",
            "_________________________________________________________________\n",
            "lstm_layer (LSTM)            (None, 170, 32)           10624     \n",
            "_________________________________________________________________\n",
            "global_max_pooling1d_3 (Glob (None, 32)                0         \n",
            "_________________________________________________________________\n",
            "dense_6 (Dense)              (None, 32)                1056      \n",
            "_________________________________________________________________\n",
            "dropout_3 (Dropout)          (None, 32)                0         \n",
            "_________________________________________________________________\n",
            "dense_7 (Dense)              (None, 3)                 99        \n",
            "=================================================================\n",
            "Total params: 408,229\n",
            "Trainable params: 11,779\n",
            "Non-trainable params: 396,450\n",
            "_________________________________________________________________\n"
          ],
          "name": "stdout"
        }
      ]
    },
    {
      "cell_type": "markdown",
      "metadata": {
        "id": "R8lYABtNjytn"
      },
      "source": [
        "##Two LSTM layer model"
      ]
    },
    {
      "cell_type": "code",
      "metadata": {
        "colab": {
          "base_uri": "https://localhost:8080/"
        },
        "id": "IebuBGfreKLY",
        "outputId": "ba117ec1-de37-4e3d-8b79-0366df133ddf"
      },
      "source": [
        "# from keras.models import Sequential\n",
        "model2 = Sequential()\n",
        "model2.add(Input(shape=(maxlen, )))\n",
        "model2.add(Embedding(len(tokenizer.word_index)+1, embedding_matrix.shape[1],weights=[embedding_matrix],trainable=False, mask_zero=True))\n",
        "\n",
        "model2.add(LSTM(32,name='lstm_layer_1',dropout=0.2,recurrent_dropout=0.2, return_sequences=True,  activation='tanh'))\n",
        "model2.add(LSTM(32,name='lstm_layer_2',dropout=0.2,recurrent_dropout=0.2, return_sequences=True, activation='tanh'))\n",
        "\n",
        "model2.add(GlobalMaxPool1D())\n",
        "\n",
        "model2.add(Dense(32, activation=\"relu\"))\n",
        "model2.add(Dropout(0.1))\n",
        "\n",
        "model2.add(Dense(3, activation=\"softmax\"))\n",
        "\n",
        "model2.compile(loss='categorical_crossentropy',\n",
        "                  optimizer='adam',\n",
        "                  metrics=['accuracy'])\n",
        "model2.summary()\n"
      ],
      "execution_count": null,
      "outputs": [
        {
          "output_type": "stream",
          "text": [
            "WARNING:tensorflow:Please add `keras.layers.InputLayer` instead of `keras.Input` to Sequential model. `keras.Input` is intended to be used by Functional model.\n",
            "WARNING:tensorflow:Layer lstm_layer_1 will not use cuDNN kernels since it doesn't meet the criteria. It will use a generic GPU kernel as fallback when running on GPU.\n",
            "WARNING:tensorflow:Layer lstm_layer_2 will not use cuDNN kernels since it doesn't meet the criteria. It will use a generic GPU kernel as fallback when running on GPU.\n",
            "Model: \"sequential_3\"\n",
            "_________________________________________________________________\n",
            "Layer (type)                 Output Shape              Param #   \n",
            "=================================================================\n",
            "embedding_3 (Embedding)      (None, 170, 50)           396450    \n",
            "_________________________________________________________________\n",
            "lstm_layer_1 (LSTM)          (None, 170, 32)           10624     \n",
            "_________________________________________________________________\n",
            "lstm_layer_2 (LSTM)          (None, 170, 32)           8320      \n",
            "_________________________________________________________________\n",
            "global_max_pooling1d_3 (Glob (None, 32)                0         \n",
            "_________________________________________________________________\n",
            "dense_6 (Dense)              (None, 32)                1056      \n",
            "_________________________________________________________________\n",
            "dropout_3 (Dropout)          (None, 32)                0         \n",
            "_________________________________________________________________\n",
            "dense_7 (Dense)              (None, 3)                 99        \n",
            "=================================================================\n",
            "Total params: 416,549\n",
            "Trainable params: 20,099\n",
            "Non-trainable params: 396,450\n",
            "_________________________________________________________________\n"
          ],
          "name": "stdout"
        }
      ]
    },
    {
      "cell_type": "markdown",
      "metadata": {
        "id": "8L1II9Ixepdh"
      },
      "source": [
        "##Four LSTM layer model"
      ]
    },
    {
      "cell_type": "code",
      "metadata": {
        "colab": {
          "base_uri": "https://localhost:8080/"
        },
        "id": "CFI20AC4edZu",
        "outputId": "205c49a3-20d4-4b6d-ad80-8e24049b45d4"
      },
      "source": [
        "# from keras.models import Sequential\n",
        "model3 = Sequential()\n",
        "model3.add(Input(shape=(maxlen, )))\n",
        "model3.add(Embedding(len(tokenizer.word_index)+1, embedding_matrix.shape[1],weights=[embedding_matrix],trainable=False, mask_zero=True))\n",
        "\n",
        "model3.add(LSTM(50,name='lstm_layer_1',dropout=0.2,recurrent_dropout=0.2, return_sequences=True, activation='tanh'))\n",
        "model3.add(LSTM(50,name='lstm_layer_2',dropout=0.2,recurrent_dropout=0.2, return_sequences=True,activation='tanh'))\n",
        "model3.add(LSTM(50,name='lstm_layer_3',dropout=0.3,recurrent_dropout=0.3, return_sequences=True,activation='tanh'))\n",
        "model3.add(LSTM(50,name='lstm_layer_4',dropout=0.4,recurrent_dropout=0.4, return_sequences=True,activation='tanh'))\n",
        "\n",
        "model3.add(GlobalMaxPool1D())\n",
        "\n",
        "model3.add(Dense(32, activation=\"relu\"))\n",
        "model3.add(Dropout(0.1))\n",
        "\n",
        "model3.add(Dense(3, activation=\"softmax\"))\n",
        "\n",
        "model3.compile(loss='categorical_crossentropy',\n",
        "                  optimizer='adam',\n",
        "                  metrics=['accuracy'])\n",
        "model3.summary()\n"
      ],
      "execution_count": 26,
      "outputs": [
        {
          "output_type": "stream",
          "text": [
            "WARNING:tensorflow:Please add `keras.layers.InputLayer` instead of `keras.Input` to Sequential model. `keras.Input` is intended to be used by Functional model.\n",
            "WARNING:tensorflow:Layer lstm_layer_1 will not use cuDNN kernels since it doesn't meet the criteria. It will use a generic GPU kernel as fallback when running on GPU.\n",
            "WARNING:tensorflow:Layer lstm_layer_2 will not use cuDNN kernels since it doesn't meet the criteria. It will use a generic GPU kernel as fallback when running on GPU.\n",
            "WARNING:tensorflow:Layer lstm_layer_3 will not use cuDNN kernels since it doesn't meet the criteria. It will use a generic GPU kernel as fallback when running on GPU.\n",
            "WARNING:tensorflow:Layer lstm_layer_4 will not use cuDNN kernels since it doesn't meet the criteria. It will use a generic GPU kernel as fallback when running on GPU.\n",
            "Model: \"sequential\"\n",
            "_________________________________________________________________\n",
            "Layer (type)                 Output Shape              Param #   \n",
            "=================================================================\n",
            "embedding (Embedding)        (None, 170, 50)           396450    \n",
            "_________________________________________________________________\n",
            "lstm_layer_1 (LSTM)          (None, 170, 32)           10624     \n",
            "_________________________________________________________________\n",
            "lstm_layer_2 (LSTM)          (None, 170, 32)           8320      \n",
            "_________________________________________________________________\n",
            "lstm_layer_3 (LSTM)          (None, 170, 64)           24832     \n",
            "_________________________________________________________________\n",
            "lstm_layer_4 (LSTM)          (None, 170, 64)           33024     \n",
            "_________________________________________________________________\n",
            "global_max_pooling1d (Global (None, 64)                0         \n",
            "_________________________________________________________________\n",
            "dense (Dense)                (None, 32)                2080      \n",
            "_________________________________________________________________\n",
            "dropout (Dropout)            (None, 32)                0         \n",
            "_________________________________________________________________\n",
            "dense_1 (Dense)              (None, 3)                 99        \n",
            "=================================================================\n",
            "Total params: 475,429\n",
            "Trainable params: 78,979\n",
            "Non-trainable params: 396,450\n",
            "_________________________________________________________________\n"
          ],
          "name": "stdout"
        }
      ]
    },
    {
      "cell_type": "markdown",
      "metadata": {
        "id": "nGBeauIff_NM"
      },
      "source": [
        "##Six LSTM layer model"
      ]
    },
    {
      "cell_type": "code",
      "metadata": {
        "colab": {
          "base_uri": "https://localhost:8080/"
        },
        "id": "upDUVXNZfQWO",
        "outputId": "e7186c2a-2e19-4dd6-8639-5cd1189b32cf"
      },
      "source": [
        "# from keras.models import Sequential\n",
        "model4 = Sequential()\n",
        "model4.add(Input(shape=(maxlen, )))\n",
        "model4.add(Embedding(len(tokenizer.word_index)+1, embedding_matrix.shape[1],weights=[embedding_matrix],trainable=False, mask_zero=True))\n",
        "\n",
        "model4.add(LSTM(50,name='lstm_layer_1',dropout=0.2,recurrent_dropout=0.2, return_sequences=True, activation='relu'))\n",
        "model4.add(LSTM(50,name='lstm_layer_2',dropout=0.2,recurrent_dropout=0.2, return_sequences=True,activation='relu'))\n",
        "model4.add(LSTM(50,name='lstm_layer_3',dropout=0.3,recurrent_dropout=0.3, return_sequences=True,activation='relu'))\n",
        "model4.add(LSTM(50,name='lstm_layer_4',dropout=0.4,recurrent_dropout=0.4, return_sequences=True,activation='tanh'))\n",
        "model4.add(LSTM(50,name='lstm_layer_5',dropout=0.5,recurrent_dropout=0.5, return_sequences=True,activation='tanh'))\n",
        "model4.add(LSTM(50,name='lstm_layer_6',dropout=0.6,recurrent_dropout=0.6, return_sequences=True,activation='tanh'))\n",
        "\n",
        "\n",
        "model4.add(GlobalMaxPool1D())\n",
        "\n",
        "model4.add(Dense(32, activation=\"relu\"))\n",
        "model4.add(Dropout(0.1))\n",
        "\n",
        "model4.add(Dense(3, activation=\"softmax\"))\n",
        "\n",
        "model4.compile(loss='categorical_crossentropy',\n",
        "                  optimizer='adam',\n",
        "                  metrics=['accuracy'])\n",
        "model4.summary()\n"
      ],
      "execution_count": 48,
      "outputs": [
        {
          "output_type": "stream",
          "text": [
            "WARNING:tensorflow:Please add `keras.layers.InputLayer` instead of `keras.Input` to Sequential model. `keras.Input` is intended to be used by Functional model.\n",
            "WARNING:tensorflow:Layer lstm_layer_1 will not use cuDNN kernels since it doesn't meet the criteria. It will use a generic GPU kernel as fallback when running on GPU.\n",
            "WARNING:tensorflow:Layer lstm_layer_2 will not use cuDNN kernels since it doesn't meet the criteria. It will use a generic GPU kernel as fallback when running on GPU.\n",
            "WARNING:tensorflow:Layer lstm_layer_3 will not use cuDNN kernels since it doesn't meet the criteria. It will use a generic GPU kernel as fallback when running on GPU.\n",
            "WARNING:tensorflow:Layer lstm_layer_4 will not use cuDNN kernels since it doesn't meet the criteria. It will use a generic GPU kernel as fallback when running on GPU.\n",
            "WARNING:tensorflow:Layer lstm_layer_5 will not use cuDNN kernels since it doesn't meet the criteria. It will use a generic GPU kernel as fallback when running on GPU.\n",
            "WARNING:tensorflow:Layer lstm_layer_6 will not use cuDNN kernels since it doesn't meet the criteria. It will use a generic GPU kernel as fallback when running on GPU.\n",
            "Model: \"sequential_8\"\n",
            "_________________________________________________________________\n",
            "Layer (type)                 Output Shape              Param #   \n",
            "=================================================================\n",
            "embedding_8 (Embedding)      (None, 170, 50)           396450    \n",
            "_________________________________________________________________\n",
            "lstm_layer_1 (LSTM)          (None, 170, 50)           20200     \n",
            "_________________________________________________________________\n",
            "lstm_layer_2 (LSTM)          (None, 170, 50)           20200     \n",
            "_________________________________________________________________\n",
            "lstm_layer_3 (LSTM)          (None, 170, 50)           20200     \n",
            "_________________________________________________________________\n",
            "lstm_layer_4 (LSTM)          (None, 170, 50)           20200     \n",
            "_________________________________________________________________\n",
            "lstm_layer_5 (LSTM)          (None, 170, 50)           20200     \n",
            "_________________________________________________________________\n",
            "lstm_layer_6 (LSTM)          (None, 170, 50)           20200     \n",
            "_________________________________________________________________\n",
            "global_max_pooling1d_8 (Glob (None, 50)                0         \n",
            "_________________________________________________________________\n",
            "dense_16 (Dense)             (None, 32)                1632      \n",
            "_________________________________________________________________\n",
            "dropout_8 (Dropout)          (None, 32)                0         \n",
            "_________________________________________________________________\n",
            "dense_17 (Dense)             (None, 3)                 99        \n",
            "=================================================================\n",
            "Total params: 519,381\n",
            "Trainable params: 122,931\n",
            "Non-trainable params: 396,450\n",
            "_________________________________________________________________\n"
          ],
          "name": "stdout"
        }
      ]
    },
    {
      "cell_type": "markdown",
      "metadata": {
        "id": "0ohfW9IHltl6"
      },
      "source": [
        "##Bidirectional LSTM model"
      ]
    },
    {
      "cell_type": "code",
      "metadata": {
        "colab": {
          "base_uri": "https://localhost:8080/"
        },
        "id": "WX3KY-7ZlpII",
        "outputId": "8c01ed52-2570-417a-9ed4-e87c63e687f7"
      },
      "source": [
        "# from keras.models import Sequential\n",
        "model5 = Sequential()\n",
        "model5.add(Input(shape=(maxlen, )))\n",
        "model5.add(Embedding(len(tokenizer.word_index)+1, embedding_matrix.shape[1],weights=[embedding_matrix],trainable=False, mask_zero=True))\n",
        "\n",
        "model5.add(Bidirectional(LSTM(32,name='lstm_layer',dropout=0.2,recurrent_dropout=0.2, return_sequences=True)))\n",
        "model5.add(GlobalMaxPool1D())\n",
        "\n",
        "model5.add(Dense(32, activation=\"relu\"))\n",
        "model5.add(Dropout(0.1))\n",
        "\n",
        "model5.add(Dense(3, activation=\"softmax\"))\n",
        "\n",
        "model5.compile(loss='categorical_crossentropy',\n",
        "                  optimizer='adam',\n",
        "                  metrics=['accuracy'])\n",
        "model5.summary()\n",
        "\n"
      ],
      "execution_count": 32,
      "outputs": [
        {
          "output_type": "stream",
          "text": [
            "WARNING:tensorflow:Please add `keras.layers.InputLayer` instead of `keras.Input` to Sequential model. `keras.Input` is intended to be used by Functional model.\n",
            "WARNING:tensorflow:Layer lstm_layer will not use cuDNN kernels since it doesn't meet the criteria. It will use a generic GPU kernel as fallback when running on GPU.\n",
            "WARNING:tensorflow:Layer lstm_layer will not use cuDNN kernels since it doesn't meet the criteria. It will use a generic GPU kernel as fallback when running on GPU.\n",
            "WARNING:tensorflow:Layer lstm_layer will not use cuDNN kernels since it doesn't meet the criteria. It will use a generic GPU kernel as fallback when running on GPU.\n",
            "Model: \"sequential_2\"\n",
            "_________________________________________________________________\n",
            "Layer (type)                 Output Shape              Param #   \n",
            "=================================================================\n",
            "embedding_2 (Embedding)      (None, 170, 50)           396450    \n",
            "_________________________________________________________________\n",
            "bidirectional_1 (Bidirection (None, 170, 64)           21248     \n",
            "_________________________________________________________________\n",
            "global_max_pooling1d_2 (Glob (None, 64)                0         \n",
            "_________________________________________________________________\n",
            "dense_4 (Dense)              (None, 32)                2080      \n",
            "_________________________________________________________________\n",
            "dropout_2 (Dropout)          (None, 32)                0         \n",
            "_________________________________________________________________\n",
            "dense_5 (Dense)              (None, 3)                 99        \n",
            "=================================================================\n",
            "Total params: 419,877\n",
            "Trainable params: 23,427\n",
            "Non-trainable params: 396,450\n",
            "_________________________________________________________________\n"
          ],
          "name": "stdout"
        }
      ]
    },
    {
      "cell_type": "markdown",
      "metadata": {
        "id": "EkKKHmqeo5RR"
      },
      "source": [
        "##CNN model"
      ]
    },
    {
      "cell_type": "code",
      "metadata": {
        "colab": {
          "base_uri": "https://localhost:8080/"
        },
        "id": "B4tCEmcGoYJm",
        "outputId": "4d7328a0-5803-41c6-ea45-6c2b3f1cb465"
      },
      "source": [
        "from tensorflow.keras import regularizers\n",
        "model6 = Sequential()\n",
        "model6.add(Input(shape=(maxlen, )))\n",
        "model6.add(Embedding(len(tokenizer.word_index)+1, embedding_matrix.shape[1],weights=[embedding_matrix],trainable=False, mask_zero=True))\n",
        "\n",
        "model6.add(Conv1D(20, 6, activation='relu',kernel_regularizer=regularizers.l1_l2(l1=2e-3, l2=2e-3),bias_regularizer=regularizers.l2(2e-3)))\n",
        "model6.add(MaxPooling1D(5))\n",
        "\n",
        "model6.add(Conv1D(20, 6, activation='relu',kernel_regularizer=regularizers.l1_l2(l1=2e-3, l2=2e-3),bias_regularizer=regularizers.l2(2e-3)))\n",
        "model6.add(GlobalMaxPooling1D())\n",
        "\n",
        "model6.add(Dense(3,activation='softmax'))\n",
        "model6.compile(loss='categorical_crossentropy',\n",
        "                  optimizer='adam',\n",
        "                  metrics=['accuracy'])\n",
        "model6.summary()"
      ],
      "execution_count": null,
      "outputs": [
        {
          "output_type": "stream",
          "text": [
            "WARNING:tensorflow:Please add `keras.layers.InputLayer` instead of `keras.Input` to Sequential model. `keras.Input` is intended to be used by Functional model.\n",
            "Model: \"sequential_17\"\n",
            "_________________________________________________________________\n",
            "Layer (type)                 Output Shape              Param #   \n",
            "=================================================================\n",
            "embedding_20 (Embedding)     (None, 170, 50)           396450    \n",
            "_________________________________________________________________\n",
            "conv1d (Conv1D)              (None, 165, 20)           6020      \n",
            "_________________________________________________________________\n",
            "max_pooling1d (MaxPooling1D) (None, 33, 20)            0         \n",
            "_________________________________________________________________\n",
            "conv1d_1 (Conv1D)            (None, 28, 20)            2420      \n",
            "_________________________________________________________________\n",
            "global_max_pooling1d_1 (Glob (None, 20)                0         \n",
            "_________________________________________________________________\n",
            "dense_17 (Dense)             (None, 3)                 63        \n",
            "=================================================================\n",
            "Total params: 404,953\n",
            "Trainable params: 8,503\n",
            "Non-trainable params: 396,450\n",
            "_________________________________________________________________\n"
          ],
          "name": "stdout"
        }
      ]
    },
    {
      "cell_type": "markdown",
      "metadata": {
        "id": "oIaclq8Nf8Hn"
      },
      "source": [
        "#model training"
      ]
    },
    {
      "cell_type": "code",
      "metadata": {
        "id": "8riQauzlN4kK"
      },
      "source": [
        "import matplotlib.pyplot as plt\n",
        "def plot_result(hist):\n",
        "  # Loss plot for model\n",
        "  plt.plot(hist.history['loss'])\n",
        "  plt.plot(hist.history['val_loss'])\n",
        "  plt.title(\"Loss\")\n",
        "  plt.ylabel(\"loss\")\n",
        "  plt.xlabel(\"epoch\")\n",
        "  plt.legend(['train', 'test'], loc='upper left')\n",
        "  plt.show()\n",
        "  # Accuracy plot\n",
        "  plt.plot(hist.history['accuracy'])\n",
        "  plt.plot(hist.history['val_accuracy'])\n",
        "  plt.title(\"Accuracy\")\n",
        "  plt.ylabel(\"accuracy\")\n",
        "  plt.xlabel(\"epoch\")\n",
        "  plt.legend(['train', 'test'], loc='upper left')\n",
        "  plt.show()"
      ],
      "execution_count": 27,
      "outputs": []
    },
    {
      "cell_type": "markdown",
      "metadata": {
        "id": "pGz4klqAgJNj"
      },
      "source": [
        "##single LSTM layer model"
      ]
    },
    {
      "cell_type": "code",
      "metadata": {
        "colab": {
          "base_uri": "https://localhost:8080/"
        },
        "id": "Yrm7S7AWgLzL",
        "outputId": "6076e120-fe54-44f1-af18-f0f2a7aaafd3"
      },
      "source": [
        "batch_size = 256\n",
        "epochs = 150\n",
        "hist = model1.fit(X_t,y, batch_size=batch_size, epochs=epochs, validation_split=0.2, callbacks=[early_stop])"
      ],
      "execution_count": 36,
      "outputs": [
        {
          "output_type": "stream",
          "text": [
            "Epoch 1/150\n",
            "6/6 [==============================] - 4s 673ms/step - loss: 0.7949 - accuracy: 0.7198 - val_loss: 0.6637 - val_accuracy: 0.8012\n",
            "Epoch 2/150\n",
            "6/6 [==============================] - 4s 679ms/step - loss: 0.7880 - accuracy: 0.7205 - val_loss: 0.6573 - val_accuracy: 0.8012\n",
            "Epoch 3/150\n",
            "6/6 [==============================] - 4s 691ms/step - loss: 0.7848 - accuracy: 0.7205 - val_loss: 0.6504 - val_accuracy: 0.8012\n",
            "Epoch 4/150\n",
            "6/6 [==============================] - 4s 663ms/step - loss: 0.7738 - accuracy: 0.7205 - val_loss: 0.6432 - val_accuracy: 0.8012\n",
            "Epoch 5/150\n",
            "6/6 [==============================] - 4s 689ms/step - loss: 0.7636 - accuracy: 0.7213 - val_loss: 0.6361 - val_accuracy: 0.8012\n",
            "Epoch 6/150\n",
            "6/6 [==============================] - 4s 686ms/step - loss: 0.7582 - accuracy: 0.7205 - val_loss: 0.6223 - val_accuracy: 0.8012\n",
            "Epoch 7/150\n",
            "6/6 [==============================] - 4s 689ms/step - loss: 0.7545 - accuracy: 0.7205 - val_loss: 0.6103 - val_accuracy: 0.8012\n",
            "Epoch 8/150\n",
            "6/6 [==============================] - 4s 704ms/step - loss: 0.7452 - accuracy: 0.7213 - val_loss: 0.6059 - val_accuracy: 0.8012\n",
            "Epoch 9/150\n",
            "6/6 [==============================] - 4s 675ms/step - loss: 0.7249 - accuracy: 0.7205 - val_loss: 0.5871 - val_accuracy: 0.8012\n",
            "Epoch 10/150\n",
            "6/6 [==============================] - 4s 679ms/step - loss: 0.7022 - accuracy: 0.7228 - val_loss: 0.5713 - val_accuracy: 0.8012\n",
            "Epoch 11/150\n",
            "6/6 [==============================] - 4s 672ms/step - loss: 0.6946 - accuracy: 0.7351 - val_loss: 0.5636 - val_accuracy: 0.8012\n",
            "Epoch 12/150\n",
            "6/6 [==============================] - 4s 672ms/step - loss: 0.6812 - accuracy: 0.7404 - val_loss: 0.5583 - val_accuracy: 0.8104\n",
            "Epoch 13/150\n",
            "6/6 [==============================] - 4s 700ms/step - loss: 0.6671 - accuracy: 0.7450 - val_loss: 0.5550 - val_accuracy: 0.8073\n",
            "Epoch 14/150\n",
            "6/6 [==============================] - 4s 694ms/step - loss: 0.6553 - accuracy: 0.7458 - val_loss: 0.5510 - val_accuracy: 0.8073\n",
            "Epoch 15/150\n",
            "6/6 [==============================] - 4s 695ms/step - loss: 0.6392 - accuracy: 0.7565 - val_loss: 0.5463 - val_accuracy: 0.8104\n",
            "Epoch 16/150\n",
            "6/6 [==============================] - 4s 667ms/step - loss: 0.6280 - accuracy: 0.7496 - val_loss: 0.5433 - val_accuracy: 0.8196\n",
            "Epoch 17/150\n",
            "6/6 [==============================] - 4s 685ms/step - loss: 0.6259 - accuracy: 0.7603 - val_loss: 0.5489 - val_accuracy: 0.8196\n",
            "Epoch 18/150\n",
            "6/6 [==============================] - 4s 668ms/step - loss: 0.6224 - accuracy: 0.7611 - val_loss: 0.5348 - val_accuracy: 0.8226\n",
            "Epoch 19/150\n",
            "6/6 [==============================] - 4s 678ms/step - loss: 0.6062 - accuracy: 0.7611 - val_loss: 0.5318 - val_accuracy: 0.8226\n",
            "Epoch 20/150\n",
            "6/6 [==============================] - 4s 686ms/step - loss: 0.5996 - accuracy: 0.7695 - val_loss: 0.5301 - val_accuracy: 0.8318\n",
            "Epoch 21/150\n",
            "6/6 [==============================] - 4s 668ms/step - loss: 0.5990 - accuracy: 0.7718 - val_loss: 0.5308 - val_accuracy: 0.8257\n",
            "Epoch 22/150\n",
            "6/6 [==============================] - 4s 685ms/step - loss: 0.5941 - accuracy: 0.7734 - val_loss: 0.5296 - val_accuracy: 0.8318\n",
            "Epoch 23/150\n",
            "6/6 [==============================] - 4s 665ms/step - loss: 0.5853 - accuracy: 0.7764 - val_loss: 0.5285 - val_accuracy: 0.8379\n",
            "Epoch 24/150\n",
            "6/6 [==============================] - 4s 675ms/step - loss: 0.5721 - accuracy: 0.7802 - val_loss: 0.5326 - val_accuracy: 0.8196\n",
            "Epoch 25/150\n",
            "6/6 [==============================] - 4s 669ms/step - loss: 0.5995 - accuracy: 0.7649 - val_loss: 0.5202 - val_accuracy: 0.8440\n",
            "Epoch 26/150\n",
            "6/6 [==============================] - 4s 676ms/step - loss: 0.5829 - accuracy: 0.7749 - val_loss: 0.5203 - val_accuracy: 0.8226\n",
            "Epoch 27/150\n",
            "6/6 [==============================] - 4s 681ms/step - loss: 0.5964 - accuracy: 0.7626 - val_loss: 0.5089 - val_accuracy: 0.8440\n",
            "Epoch 28/150\n",
            "6/6 [==============================] - 4s 693ms/step - loss: 0.5833 - accuracy: 0.7726 - val_loss: 0.5075 - val_accuracy: 0.8502\n",
            "Epoch 29/150\n",
            "6/6 [==============================] - 4s 692ms/step - loss: 0.5701 - accuracy: 0.7672 - val_loss: 0.5103 - val_accuracy: 0.8318\n",
            "Epoch 30/150\n",
            "6/6 [==============================] - 4s 685ms/step - loss: 0.5666 - accuracy: 0.7787 - val_loss: 0.5078 - val_accuracy: 0.8502\n",
            "Epoch 31/150\n",
            "6/6 [==============================] - 4s 673ms/step - loss: 0.5673 - accuracy: 0.7818 - val_loss: 0.5137 - val_accuracy: 0.8318\n",
            "Epoch 32/150\n",
            "6/6 [==============================] - 4s 691ms/step - loss: 0.5804 - accuracy: 0.7657 - val_loss: 0.5079 - val_accuracy: 0.8502\n",
            "Epoch 33/150\n",
            "6/6 [==============================] - 4s 685ms/step - loss: 0.5670 - accuracy: 0.7757 - val_loss: 0.5083 - val_accuracy: 0.8502\n",
            "Epoch 34/150\n",
            "6/6 [==============================] - 4s 718ms/step - loss: 0.5549 - accuracy: 0.7772 - val_loss: 0.5120 - val_accuracy: 0.8379\n",
            "Epoch 35/150\n",
            "6/6 [==============================] - 4s 721ms/step - loss: 0.5514 - accuracy: 0.7802 - val_loss: 0.5071 - val_accuracy: 0.8532\n",
            "Epoch 36/150\n",
            "6/6 [==============================] - 4s 727ms/step - loss: 0.5328 - accuracy: 0.7948 - val_loss: 0.5109 - val_accuracy: 0.8379\n",
            "Epoch 37/150\n",
            "6/6 [==============================] - 4s 750ms/step - loss: 0.5622 - accuracy: 0.7741 - val_loss: 0.5056 - val_accuracy: 0.8563\n",
            "Epoch 38/150\n",
            "6/6 [==============================] - 4s 711ms/step - loss: 0.5359 - accuracy: 0.7933 - val_loss: 0.5052 - val_accuracy: 0.8410\n",
            "Epoch 39/150\n",
            "6/6 [==============================] - 4s 719ms/step - loss: 0.5511 - accuracy: 0.7825 - val_loss: 0.5015 - val_accuracy: 0.8502\n",
            "Epoch 40/150\n",
            "6/6 [==============================] - 4s 695ms/step - loss: 0.5424 - accuracy: 0.7887 - val_loss: 0.5034 - val_accuracy: 0.8440\n",
            "Epoch 41/150\n",
            "6/6 [==============================] - 4s 687ms/step - loss: 0.5354 - accuracy: 0.8002 - val_loss: 0.5075 - val_accuracy: 0.8440\n",
            "Epoch 42/150\n",
            "6/6 [==============================] - 4s 716ms/step - loss: 0.5366 - accuracy: 0.7917 - val_loss: 0.4988 - val_accuracy: 0.8502\n",
            "Epoch 43/150\n",
            "6/6 [==============================] - 4s 702ms/step - loss: 0.5288 - accuracy: 0.7925 - val_loss: 0.4920 - val_accuracy: 0.8532\n",
            "Epoch 44/150\n",
            "6/6 [==============================] - 4s 674ms/step - loss: 0.5431 - accuracy: 0.7764 - val_loss: 0.4914 - val_accuracy: 0.8532\n",
            "Epoch 45/150\n",
            "6/6 [==============================] - 4s 691ms/step - loss: 0.5235 - accuracy: 0.7994 - val_loss: 0.4953 - val_accuracy: 0.8563\n",
            "Epoch 46/150\n",
            "6/6 [==============================] - 4s 681ms/step - loss: 0.5343 - accuracy: 0.7879 - val_loss: 0.4919 - val_accuracy: 0.8563\n",
            "Epoch 47/150\n",
            "6/6 [==============================] - 4s 680ms/step - loss: 0.5180 - accuracy: 0.7979 - val_loss: 0.4917 - val_accuracy: 0.8532\n",
            "Epoch 48/150\n",
            "6/6 [==============================] - 4s 680ms/step - loss: 0.5141 - accuracy: 0.7994 - val_loss: 0.4920 - val_accuracy: 0.8532\n",
            "Epoch 49/150\n",
            "6/6 [==============================] - 4s 680ms/step - loss: 0.5131 - accuracy: 0.7940 - val_loss: 0.5005 - val_accuracy: 0.8532\n",
            "Epoch 50/150\n",
            "6/6 [==============================] - 4s 686ms/step - loss: 0.5255 - accuracy: 0.8025 - val_loss: 0.4984 - val_accuracy: 0.8502\n",
            "Epoch 51/150\n",
            "6/6 [==============================] - 4s 675ms/step - loss: 0.5064 - accuracy: 0.8086 - val_loss: 0.4982 - val_accuracy: 0.8502\n",
            "Epoch 52/150\n",
            "6/6 [==============================] - 4s 714ms/step - loss: 0.5022 - accuracy: 0.8040 - val_loss: 0.4876 - val_accuracy: 0.8502\n",
            "Epoch 53/150\n",
            "6/6 [==============================] - 4s 691ms/step - loss: 0.5088 - accuracy: 0.7948 - val_loss: 0.4818 - val_accuracy: 0.8502\n",
            "Epoch 54/150\n",
            "6/6 [==============================] - 4s 700ms/step - loss: 0.5070 - accuracy: 0.8032 - val_loss: 0.4829 - val_accuracy: 0.8532\n",
            "Epoch 55/150\n",
            "6/6 [==============================] - 4s 695ms/step - loss: 0.5043 - accuracy: 0.8078 - val_loss: 0.4855 - val_accuracy: 0.8593\n",
            "Epoch 56/150\n",
            "6/6 [==============================] - 4s 691ms/step - loss: 0.4958 - accuracy: 0.8078 - val_loss: 0.4850 - val_accuracy: 0.8624\n",
            "Epoch 57/150\n",
            "6/6 [==============================] - 4s 688ms/step - loss: 0.5000 - accuracy: 0.8055 - val_loss: 0.4799 - val_accuracy: 0.8624\n",
            "Epoch 58/150\n",
            "6/6 [==============================] - 4s 671ms/step - loss: 0.4990 - accuracy: 0.7994 - val_loss: 0.4824 - val_accuracy: 0.8563\n",
            "Epoch 59/150\n",
            "6/6 [==============================] - 4s 686ms/step - loss: 0.4815 - accuracy: 0.8040 - val_loss: 0.4853 - val_accuracy: 0.8563\n",
            "Epoch 60/150\n",
            "6/6 [==============================] - 4s 692ms/step - loss: 0.4855 - accuracy: 0.8070 - val_loss: 0.4831 - val_accuracy: 0.8563\n",
            "Epoch 61/150\n",
            "6/6 [==============================] - 4s 659ms/step - loss: 0.4766 - accuracy: 0.8132 - val_loss: 0.4767 - val_accuracy: 0.8563\n",
            "Epoch 62/150\n",
            "6/6 [==============================] - 4s 696ms/step - loss: 0.4854 - accuracy: 0.8147 - val_loss: 0.4680 - val_accuracy: 0.8593\n",
            "Epoch 63/150\n",
            "6/6 [==============================] - 4s 680ms/step - loss: 0.4825 - accuracy: 0.8147 - val_loss: 0.4721 - val_accuracy: 0.8563\n",
            "Epoch 64/150\n",
            "6/6 [==============================] - 4s 695ms/step - loss: 0.4797 - accuracy: 0.8109 - val_loss: 0.4716 - val_accuracy: 0.8624\n",
            "Epoch 65/150\n",
            "6/6 [==============================] - 4s 695ms/step - loss: 0.4758 - accuracy: 0.8017 - val_loss: 0.4675 - val_accuracy: 0.8624\n",
            "Epoch 66/150\n",
            "6/6 [==============================] - 4s 675ms/step - loss: 0.4741 - accuracy: 0.8116 - val_loss: 0.4739 - val_accuracy: 0.8563\n",
            "Epoch 67/150\n",
            "6/6 [==============================] - 4s 677ms/step - loss: 0.4806 - accuracy: 0.8025 - val_loss: 0.4658 - val_accuracy: 0.8624\n",
            "Epoch 68/150\n",
            "6/6 [==============================] - 4s 672ms/step - loss: 0.4725 - accuracy: 0.8063 - val_loss: 0.4617 - val_accuracy: 0.8593\n",
            "Epoch 69/150\n",
            "6/6 [==============================] - 4s 671ms/step - loss: 0.4797 - accuracy: 0.8040 - val_loss: 0.4686 - val_accuracy: 0.8563\n",
            "Epoch 70/150\n",
            "6/6 [==============================] - 4s 689ms/step - loss: 0.4749 - accuracy: 0.8147 - val_loss: 0.4653 - val_accuracy: 0.8563\n",
            "Epoch 71/150\n",
            "6/6 [==============================] - 4s 661ms/step - loss: 0.4741 - accuracy: 0.8201 - val_loss: 0.4603 - val_accuracy: 0.8532\n",
            "Epoch 72/150\n",
            "6/6 [==============================] - 4s 699ms/step - loss: 0.4691 - accuracy: 0.8116 - val_loss: 0.4601 - val_accuracy: 0.8563\n",
            "Epoch 73/150\n",
            "6/6 [==============================] - 4s 682ms/step - loss: 0.4550 - accuracy: 0.8201 - val_loss: 0.4620 - val_accuracy: 0.8563\n",
            "Epoch 74/150\n",
            "6/6 [==============================] - 4s 699ms/step - loss: 0.4678 - accuracy: 0.8201 - val_loss: 0.4747 - val_accuracy: 0.8624\n",
            "Epoch 75/150\n",
            "6/6 [==============================] - 4s 691ms/step - loss: 0.4938 - accuracy: 0.7956 - val_loss: 0.4593 - val_accuracy: 0.8593\n",
            "Epoch 76/150\n",
            "6/6 [==============================] - 4s 688ms/step - loss: 0.4708 - accuracy: 0.8139 - val_loss: 0.4663 - val_accuracy: 0.8593\n",
            "Epoch 77/150\n",
            "6/6 [==============================] - 4s 702ms/step - loss: 0.4657 - accuracy: 0.8178 - val_loss: 0.4672 - val_accuracy: 0.8593\n",
            "Epoch 78/150\n",
            "6/6 [==============================] - 4s 686ms/step - loss: 0.4772 - accuracy: 0.8193 - val_loss: 0.4578 - val_accuracy: 0.8563\n",
            "Epoch 79/150\n",
            "6/6 [==============================] - 4s 683ms/step - loss: 0.4675 - accuracy: 0.8032 - val_loss: 0.4627 - val_accuracy: 0.8563\n",
            "Epoch 80/150\n",
            "6/6 [==============================] - 4s 677ms/step - loss: 0.4564 - accuracy: 0.8155 - val_loss: 0.4498 - val_accuracy: 0.8593\n",
            "Epoch 81/150\n",
            "6/6 [==============================] - 4s 670ms/step - loss: 0.4570 - accuracy: 0.8239 - val_loss: 0.4629 - val_accuracy: 0.8563\n",
            "Epoch 82/150\n",
            "6/6 [==============================] - 4s 665ms/step - loss: 0.4583 - accuracy: 0.8063 - val_loss: 0.4496 - val_accuracy: 0.8593\n",
            "Epoch 83/150\n",
            "6/6 [==============================] - 4s 660ms/step - loss: 0.4365 - accuracy: 0.8369 - val_loss: 0.4521 - val_accuracy: 0.8593\n",
            "Epoch 84/150\n",
            "6/6 [==============================] - 4s 664ms/step - loss: 0.4296 - accuracy: 0.8315 - val_loss: 0.4568 - val_accuracy: 0.8532\n",
            "Epoch 85/150\n",
            "6/6 [==============================] - 4s 681ms/step - loss: 0.4277 - accuracy: 0.8346 - val_loss: 0.4578 - val_accuracy: 0.8563\n",
            "Epoch 86/150\n",
            "6/6 [==============================] - 4s 693ms/step - loss: 0.4393 - accuracy: 0.8331 - val_loss: 0.4576 - val_accuracy: 0.8563\n",
            "Epoch 87/150\n",
            "6/6 [==============================] - 4s 702ms/step - loss: 0.4368 - accuracy: 0.8270 - val_loss: 0.4571 - val_accuracy: 0.8563\n",
            "Epoch 88/150\n",
            "6/6 [==============================] - 4s 698ms/step - loss: 0.4286 - accuracy: 0.8292 - val_loss: 0.4677 - val_accuracy: 0.8563\n",
            "Epoch 89/150\n",
            "6/6 [==============================] - 4s 684ms/step - loss: 0.4353 - accuracy: 0.8315 - val_loss: 0.4643 - val_accuracy: 0.8563\n",
            "Epoch 90/150\n",
            "6/6 [==============================] - 4s 692ms/step - loss: 0.4233 - accuracy: 0.8384 - val_loss: 0.4480 - val_accuracy: 0.8593\n",
            "Epoch 91/150\n",
            "6/6 [==============================] - 4s 679ms/step - loss: 0.4357 - accuracy: 0.8300 - val_loss: 0.4517 - val_accuracy: 0.8593\n",
            "Epoch 92/150\n",
            "6/6 [==============================] - 4s 678ms/step - loss: 0.4130 - accuracy: 0.8407 - val_loss: 0.4562 - val_accuracy: 0.8593\n",
            "Epoch 93/150\n",
            "6/6 [==============================] - 4s 699ms/step - loss: 0.4101 - accuracy: 0.8438 - val_loss: 0.4551 - val_accuracy: 0.8593\n",
            "Epoch 94/150\n",
            "6/6 [==============================] - 4s 692ms/step - loss: 0.4125 - accuracy: 0.8346 - val_loss: 0.4533 - val_accuracy: 0.8624\n",
            "Epoch 95/150\n",
            "6/6 [==============================] - 4s 680ms/step - loss: 0.4061 - accuracy: 0.8415 - val_loss: 0.4514 - val_accuracy: 0.8624\n",
            "Epoch 96/150\n",
            "6/6 [==============================] - 4s 691ms/step - loss: 0.3882 - accuracy: 0.8461 - val_loss: 0.4570 - val_accuracy: 0.8624\n",
            "Epoch 97/150\n",
            "6/6 [==============================] - 4s 670ms/step - loss: 0.4015 - accuracy: 0.8415 - val_loss: 0.4595 - val_accuracy: 0.8593\n",
            "Epoch 98/150\n",
            "6/6 [==============================] - 4s 674ms/step - loss: 0.4056 - accuracy: 0.8492 - val_loss: 0.4490 - val_accuracy: 0.8624\n",
            "Epoch 99/150\n",
            "6/6 [==============================] - 4s 682ms/step - loss: 0.3997 - accuracy: 0.8446 - val_loss: 0.4510 - val_accuracy: 0.8624\n",
            "Epoch 100/150\n",
            "6/6 [==============================] - 4s 666ms/step - loss: 0.3944 - accuracy: 0.8568 - val_loss: 0.4505 - val_accuracy: 0.8624\n",
            "Epoch 101/150\n",
            "6/6 [==============================] - 4s 680ms/step - loss: 0.3788 - accuracy: 0.8492 - val_loss: 0.4537 - val_accuracy: 0.8593\n",
            "Epoch 102/150\n",
            "6/6 [==============================] - 4s 685ms/step - loss: 0.3852 - accuracy: 0.8476 - val_loss: 0.4549 - val_accuracy: 0.8593\n",
            "Epoch 103/150\n",
            "6/6 [==============================] - 4s 702ms/step - loss: 0.3863 - accuracy: 0.8560 - val_loss: 0.4820 - val_accuracy: 0.8502\n",
            "Epoch 104/150\n",
            "6/6 [==============================] - 4s 692ms/step - loss: 0.4401 - accuracy: 0.8323 - val_loss: 0.4394 - val_accuracy: 0.8716\n",
            "Epoch 105/150\n",
            "6/6 [==============================] - 4s 695ms/step - loss: 0.4089 - accuracy: 0.8369 - val_loss: 0.4490 - val_accuracy: 0.8624\n",
            "Epoch 106/150\n",
            "6/6 [==============================] - 4s 682ms/step - loss: 0.3983 - accuracy: 0.8430 - val_loss: 0.4417 - val_accuracy: 0.8716\n",
            "Epoch 107/150\n",
            "6/6 [==============================] - 4s 678ms/step - loss: 0.3932 - accuracy: 0.8492 - val_loss: 0.4478 - val_accuracy: 0.8685\n",
            "Epoch 108/150\n",
            "6/6 [==============================] - 4s 672ms/step - loss: 0.3809 - accuracy: 0.8522 - val_loss: 0.4412 - val_accuracy: 0.8685\n",
            "Epoch 109/150\n",
            "6/6 [==============================] - 4s 676ms/step - loss: 0.3745 - accuracy: 0.8453 - val_loss: 0.4362 - val_accuracy: 0.8746\n",
            "Epoch 110/150\n",
            "6/6 [==============================] - 4s 681ms/step - loss: 0.3863 - accuracy: 0.8560 - val_loss: 0.4358 - val_accuracy: 0.8654\n",
            "Epoch 111/150\n",
            "6/6 [==============================] - 4s 692ms/step - loss: 0.3839 - accuracy: 0.8568 - val_loss: 0.4317 - val_accuracy: 0.8654\n",
            "Epoch 112/150\n",
            "6/6 [==============================] - 4s 671ms/step - loss: 0.3696 - accuracy: 0.8660 - val_loss: 0.4339 - val_accuracy: 0.8654\n",
            "Epoch 113/150\n",
            "6/6 [==============================] - 4s 693ms/step - loss: 0.3717 - accuracy: 0.8599 - val_loss: 0.4305 - val_accuracy: 0.8685\n",
            "Epoch 114/150\n",
            "6/6 [==============================] - 4s 693ms/step - loss: 0.3695 - accuracy: 0.8645 - val_loss: 0.4312 - val_accuracy: 0.8685\n",
            "Epoch 115/150\n",
            "6/6 [==============================] - 4s 710ms/step - loss: 0.3690 - accuracy: 0.8568 - val_loss: 0.4426 - val_accuracy: 0.8624\n",
            "Epoch 116/150\n",
            "6/6 [==============================] - 4s 664ms/step - loss: 0.3572 - accuracy: 0.8560 - val_loss: 0.4359 - val_accuracy: 0.8716\n",
            "Epoch 117/150\n",
            "6/6 [==============================] - 4s 690ms/step - loss: 0.3525 - accuracy: 0.8714 - val_loss: 0.4417 - val_accuracy: 0.8593\n",
            "Epoch 118/150\n",
            "6/6 [==============================] - 4s 687ms/step - loss: 0.3474 - accuracy: 0.8660 - val_loss: 0.4304 - val_accuracy: 0.8716\n",
            "Epoch 119/150\n",
            "6/6 [==============================] - 4s 711ms/step - loss: 0.3633 - accuracy: 0.8683 - val_loss: 0.4481 - val_accuracy: 0.8593\n",
            "Epoch 120/150\n",
            "6/6 [==============================] - 4s 711ms/step - loss: 0.3496 - accuracy: 0.8637 - val_loss: 0.4386 - val_accuracy: 0.8685\n",
            "Epoch 121/150\n",
            "6/6 [==============================] - 4s 704ms/step - loss: 0.3500 - accuracy: 0.8583 - val_loss: 0.4353 - val_accuracy: 0.8685\n",
            "Epoch 122/150\n",
            "6/6 [==============================] - 4s 729ms/step - loss: 0.3499 - accuracy: 0.8652 - val_loss: 0.4506 - val_accuracy: 0.8563\n",
            "Epoch 123/150\n",
            "6/6 [==============================] - 4s 695ms/step - loss: 0.3712 - accuracy: 0.8530 - val_loss: 0.4380 - val_accuracy: 0.8716\n",
            "Epoch 124/150\n",
            "6/6 [==============================] - 4s 730ms/step - loss: 0.3482 - accuracy: 0.8798 - val_loss: 0.4378 - val_accuracy: 0.8716\n",
            "Epoch 125/150\n",
            "6/6 [==============================] - 4s 742ms/step - loss: 0.3391 - accuracy: 0.8721 - val_loss: 0.4404 - val_accuracy: 0.8685\n",
            "Epoch 126/150\n",
            "6/6 [==============================] - 4s 704ms/step - loss: 0.3391 - accuracy: 0.8691 - val_loss: 0.4294 - val_accuracy: 0.8716\n",
            "Epoch 127/150\n",
            "6/6 [==============================] - 4s 723ms/step - loss: 0.3401 - accuracy: 0.8683 - val_loss: 0.4476 - val_accuracy: 0.8624\n",
            "Epoch 128/150\n",
            "6/6 [==============================] - 4s 698ms/step - loss: 0.3397 - accuracy: 0.8652 - val_loss: 0.4327 - val_accuracy: 0.8716\n",
            "Epoch 129/150\n",
            "6/6 [==============================] - 4s 720ms/step - loss: 0.3343 - accuracy: 0.8767 - val_loss: 0.4385 - val_accuracy: 0.8685\n",
            "Epoch 130/150\n",
            "6/6 [==============================] - 4s 708ms/step - loss: 0.3277 - accuracy: 0.8783 - val_loss: 0.4431 - val_accuracy: 0.8654\n",
            "Epoch 131/150\n",
            "6/6 [==============================] - 4s 673ms/step - loss: 0.3265 - accuracy: 0.8729 - val_loss: 0.4321 - val_accuracy: 0.8654\n",
            "Epoch 132/150\n",
            "6/6 [==============================] - 4s 686ms/step - loss: 0.3367 - accuracy: 0.8691 - val_loss: 0.4411 - val_accuracy: 0.8685\n",
            "Epoch 133/150\n",
            "6/6 [==============================] - 4s 678ms/step - loss: 0.3305 - accuracy: 0.8752 - val_loss: 0.4345 - val_accuracy: 0.8685\n",
            "Epoch 134/150\n",
            "6/6 [==============================] - 4s 742ms/step - loss: 0.3225 - accuracy: 0.8851 - val_loss: 0.4357 - val_accuracy: 0.8685\n",
            "Epoch 135/150\n",
            "6/6 [==============================] - 4s 735ms/step - loss: 0.3269 - accuracy: 0.8775 - val_loss: 0.4255 - val_accuracy: 0.8746\n",
            "Epoch 136/150\n",
            "6/6 [==============================] - 4s 666ms/step - loss: 0.3229 - accuracy: 0.8752 - val_loss: 0.4300 - val_accuracy: 0.8685\n",
            "Epoch 137/150\n",
            "6/6 [==============================] - 4s 715ms/step - loss: 0.3181 - accuracy: 0.8806 - val_loss: 0.4266 - val_accuracy: 0.8654\n",
            "Epoch 138/150\n",
            "6/6 [==============================] - 4s 742ms/step - loss: 0.3022 - accuracy: 0.8828 - val_loss: 0.4338 - val_accuracy: 0.8654\n",
            "Epoch 139/150\n",
            "6/6 [==============================] - 4s 725ms/step - loss: 0.3022 - accuracy: 0.8890 - val_loss: 0.4383 - val_accuracy: 0.8716\n",
            "Epoch 140/150\n",
            "6/6 [==============================] - 4s 728ms/step - loss: 0.2961 - accuracy: 0.8874 - val_loss: 0.4338 - val_accuracy: 0.8685\n",
            "Epoch 141/150\n",
            "6/6 [==============================] - 4s 722ms/step - loss: 0.3224 - accuracy: 0.8821 - val_loss: 0.4390 - val_accuracy: 0.8685\n",
            "Epoch 142/150\n",
            "6/6 [==============================] - 4s 735ms/step - loss: 0.3172 - accuracy: 0.8828 - val_loss: 0.4347 - val_accuracy: 0.8685\n",
            "Epoch 143/150\n",
            "6/6 [==============================] - 4s 688ms/step - loss: 0.3120 - accuracy: 0.8790 - val_loss: 0.4330 - val_accuracy: 0.8685\n",
            "Epoch 144/150\n",
            "6/6 [==============================] - 4s 722ms/step - loss: 0.2911 - accuracy: 0.8905 - val_loss: 0.4381 - val_accuracy: 0.8685\n",
            "Epoch 145/150\n",
            "6/6 [==============================] - 4s 735ms/step - loss: 0.3057 - accuracy: 0.8767 - val_loss: 0.4411 - val_accuracy: 0.8654\n",
            "Epoch 146/150\n",
            "6/6 [==============================] - 5s 760ms/step - loss: 0.3199 - accuracy: 0.8744 - val_loss: 0.4236 - val_accuracy: 0.8685\n",
            "Epoch 147/150\n",
            "6/6 [==============================] - 4s 694ms/step - loss: 0.3080 - accuracy: 0.8806 - val_loss: 0.4438 - val_accuracy: 0.8716\n",
            "Epoch 148/150\n",
            "6/6 [==============================] - 4s 719ms/step - loss: 0.3072 - accuracy: 0.8836 - val_loss: 0.4237 - val_accuracy: 0.8716\n",
            "Epoch 149/150\n",
            "6/6 [==============================] - 4s 737ms/step - loss: 0.2819 - accuracy: 0.8936 - val_loss: 0.4390 - val_accuracy: 0.8624\n",
            "Epoch 150/150\n",
            "6/6 [==============================] - 4s 730ms/step - loss: 0.2979 - accuracy: 0.8828 - val_loss: 0.4174 - val_accuracy: 0.8654\n"
          ],
          "name": "stdout"
        }
      ]
    },
    {
      "cell_type": "code",
      "metadata": {
        "colab": {
          "base_uri": "https://localhost:8080/",
          "height": 0
        },
        "id": "T01iZdeDhKZZ",
        "outputId": "b6f58137-d562-4904-98e8-fd5a59b9cc68"
      },
      "source": [
        "plot_result(hist)"
      ],
      "execution_count": 41,
      "outputs": [
        {
          "output_type": "display_data",
          "data": {
            "image/png": "[encoded data removed]",
            "text/plain": [
              "<Figure size 432x288 with 1 Axes>"
            ]
          },
          "metadata": {
            "tags": [],
            "needs_background": "light"
          }
        },
        {
          "output_type": "display_data",
          "data": {
            "image/png": "[encoded data removed]",
            "text/plain": [
              "<Figure size 432x288 with 1 Axes>"
            ]
          },
          "metadata": {
            "tags": [],
            "needs_background": "light"
          }
        }
      ]
    },
    {
      "cell_type": "markdown",
      "metadata": {
        "id": "OEI7eAS-gJNj"
      },
      "source": [
        "##Two LSTM layer model"
      ]
    },
    {
      "cell_type": "code",
      "metadata": {
        "colab": {
          "base_uri": "https://localhost:8080/"
        },
        "id": "htWTVb_pgWO4",
        "outputId": "2f3c1af9-5f1c-4ed5-998e-80261b94b089"
      },
      "source": [
        "batch_size = 256\n",
        "epochs = 150\n",
        "hist2 = model2.fit(X_t,y, batch_size=batch_size, epochs=epochs, validation_split=0.2, callbacks=[early_stop])"
      ],
      "execution_count": null,
      "outputs": [
        {
          "output_type": "stream",
          "text": [
            "Epoch 1/150\n",
            "6/6 [==============================] - 18s 2s/step - loss: 1.1066 - accuracy: 0.2411 - val_loss: 1.0288 - val_accuracy: 0.8012\n",
            "Epoch 2/150\n",
            "6/6 [==============================] - 8s 1s/step - loss: 1.0000 - accuracy: 0.7166 - val_loss: 0.9326 - val_accuracy: 0.8012\n",
            "Epoch 3/150\n",
            "6/6 [==============================] - 8s 1s/step - loss: 0.9124 - accuracy: 0.7242 - val_loss: 0.8262 - val_accuracy: 0.8012\n",
            "Epoch 4/150\n",
            "6/6 [==============================] - 8s 1s/step - loss: 0.8510 - accuracy: 0.7139 - val_loss: 0.7362 - val_accuracy: 0.8012\n",
            "Epoch 5/150\n",
            "6/6 [==============================] - 8s 1s/step - loss: 0.8304 - accuracy: 0.7129 - val_loss: 0.6860 - val_accuracy: 0.8012\n",
            "Epoch 6/150\n",
            "6/6 [==============================] - 9s 1s/step - loss: 0.8328 - accuracy: 0.7174 - val_loss: 0.6730 - val_accuracy: 0.8012\n",
            "Epoch 7/150\n",
            "6/6 [==============================] - 9s 1s/step - loss: 0.8285 - accuracy: 0.7133 - val_loss: 0.6749 - val_accuracy: 0.8012\n",
            "Epoch 8/150\n",
            "6/6 [==============================] - 9s 1s/step - loss: 0.8060 - accuracy: 0.7220 - val_loss: 0.6760 - val_accuracy: 0.8012\n",
            "Epoch 9/150\n",
            "6/6 [==============================] - 9s 1s/step - loss: 0.8179 - accuracy: 0.7135 - val_loss: 0.6720 - val_accuracy: 0.8012\n",
            "Epoch 10/150\n",
            "6/6 [==============================] - 9s 1s/step - loss: 0.7916 - accuracy: 0.7317 - val_loss: 0.6675 - val_accuracy: 0.8012\n",
            "Epoch 11/150\n",
            "6/6 [==============================] - 9s 1s/step - loss: 0.8228 - accuracy: 0.7108 - val_loss: 0.6710 - val_accuracy: 0.8012\n",
            "Epoch 12/150\n",
            "6/6 [==============================] - 8s 1s/step - loss: 0.8118 - accuracy: 0.7107 - val_loss: 0.6682 - val_accuracy: 0.8012\n",
            "Epoch 13/150\n",
            "6/6 [==============================] - 8s 1s/step - loss: 0.7935 - accuracy: 0.7181 - val_loss: 0.6467 - val_accuracy: 0.8012\n",
            "Epoch 14/150\n",
            "6/6 [==============================] - 9s 1s/step - loss: 0.8040 - accuracy: 0.7167 - val_loss: 0.6424 - val_accuracy: 0.8012\n",
            "Epoch 15/150\n",
            "6/6 [==============================] - 9s 1s/step - loss: 0.7790 - accuracy: 0.7261 - val_loss: 0.6422 - val_accuracy: 0.8012\n",
            "Epoch 16/150\n",
            "6/6 [==============================] - 9s 1s/step - loss: 0.7900 - accuracy: 0.7128 - val_loss: 0.6341 - val_accuracy: 0.8012\n",
            "Epoch 17/150\n",
            "6/6 [==============================] - 8s 1s/step - loss: 0.7743 - accuracy: 0.7151 - val_loss: 0.6234 - val_accuracy: 0.8012\n",
            "Epoch 18/150\n",
            "6/6 [==============================] - 9s 1s/step - loss: 0.7368 - accuracy: 0.7288 - val_loss: 0.6117 - val_accuracy: 0.8012\n",
            "Epoch 19/150\n",
            "6/6 [==============================] - 8s 1s/step - loss: 0.7460 - accuracy: 0.7217 - val_loss: 0.6114 - val_accuracy: 0.8012\n",
            "Epoch 20/150\n",
            "6/6 [==============================] - 8s 1s/step - loss: 0.7114 - accuracy: 0.7321 - val_loss: 0.6018 - val_accuracy: 0.8012\n",
            "Epoch 21/150\n",
            "6/6 [==============================] - 8s 1s/step - loss: 0.7230 - accuracy: 0.7183 - val_loss: 0.6090 - val_accuracy: 0.8012\n",
            "Epoch 22/150\n",
            "6/6 [==============================] - 8s 1s/step - loss: 0.6889 - accuracy: 0.7277 - val_loss: 0.5905 - val_accuracy: 0.8012\n",
            "Epoch 23/150\n",
            "6/6 [==============================] - 9s 1s/step - loss: 0.7085 - accuracy: 0.7205 - val_loss: 0.6001 - val_accuracy: 0.8012\n",
            "Epoch 24/150\n",
            "6/6 [==============================] - 8s 1s/step - loss: 0.6936 - accuracy: 0.7239 - val_loss: 0.5920 - val_accuracy: 0.7982\n",
            "Epoch 25/150\n",
            "6/6 [==============================] - 9s 1s/step - loss: 0.6862 - accuracy: 0.7274 - val_loss: 0.6064 - val_accuracy: 0.8012\n",
            "Epoch 26/150\n",
            "6/6 [==============================] - 9s 1s/step - loss: 0.6698 - accuracy: 0.7315 - val_loss: 0.5893 - val_accuracy: 0.8043\n",
            "Epoch 27/150\n",
            "6/6 [==============================] - 9s 1s/step - loss: 0.6746 - accuracy: 0.7353 - val_loss: 0.5867 - val_accuracy: 0.8073\n",
            "Epoch 28/150\n",
            "6/6 [==============================] - 8s 1s/step - loss: 0.6640 - accuracy: 0.7432 - val_loss: 0.5699 - val_accuracy: 0.8012\n",
            "Epoch 29/150\n",
            "6/6 [==============================] - 8s 1s/step - loss: 0.6390 - accuracy: 0.7534 - val_loss: 0.5667 - val_accuracy: 0.8043\n",
            "Epoch 30/150\n",
            "6/6 [==============================] - 8s 1s/step - loss: 0.6254 - accuracy: 0.7559 - val_loss: 0.5652 - val_accuracy: 0.8012\n",
            "Epoch 31/150\n",
            "6/6 [==============================] - 8s 1s/step - loss: 0.6274 - accuracy: 0.7511 - val_loss: 0.5668 - val_accuracy: 0.8073\n",
            "Epoch 32/150\n",
            "6/6 [==============================] - 9s 1s/step - loss: 0.6476 - accuracy: 0.7426 - val_loss: 0.5539 - val_accuracy: 0.8104\n",
            "Epoch 33/150\n",
            "6/6 [==============================] - 9s 1s/step - loss: 0.6253 - accuracy: 0.7650 - val_loss: 0.5462 - val_accuracy: 0.8104\n",
            "Epoch 34/150\n",
            "6/6 [==============================] - 9s 1s/step - loss: 0.6118 - accuracy: 0.7644 - val_loss: 0.5460 - val_accuracy: 0.8104\n",
            "Epoch 35/150\n",
            "6/6 [==============================] - 9s 1s/step - loss: 0.6277 - accuracy: 0.7530 - val_loss: 0.5428 - val_accuracy: 0.8135\n",
            "Epoch 36/150\n",
            "6/6 [==============================] - 8s 1s/step - loss: 0.6010 - accuracy: 0.7703 - val_loss: 0.5411 - val_accuracy: 0.8135\n",
            "Epoch 37/150\n",
            "6/6 [==============================] - 8s 1s/step - loss: 0.6122 - accuracy: 0.7514 - val_loss: 0.5444 - val_accuracy: 0.8135\n",
            "Epoch 38/150\n",
            "6/6 [==============================] - 9s 1s/step - loss: 0.6241 - accuracy: 0.7572 - val_loss: 0.5406 - val_accuracy: 0.8165\n",
            "Epoch 39/150\n",
            "6/6 [==============================] - 8s 1s/step - loss: 0.5995 - accuracy: 0.7623 - val_loss: 0.5400 - val_accuracy: 0.8226\n",
            "Epoch 40/150\n",
            "6/6 [==============================] - 9s 1s/step - loss: 0.5983 - accuracy: 0.7696 - val_loss: 0.5238 - val_accuracy: 0.8257\n",
            "Epoch 41/150\n",
            "6/6 [==============================] - 9s 1s/step - loss: 0.5894 - accuracy: 0.7766 - val_loss: 0.5198 - val_accuracy: 0.8226\n",
            "Epoch 42/150\n",
            "6/6 [==============================] - 9s 1s/step - loss: 0.6287 - accuracy: 0.7479 - val_loss: 0.5359 - val_accuracy: 0.8165\n",
            "Epoch 43/150\n",
            "6/6 [==============================] - 8s 1s/step - loss: 0.6186 - accuracy: 0.7697 - val_loss: 0.5188 - val_accuracy: 0.8226\n",
            "Epoch 44/150\n",
            "6/6 [==============================] - 8s 1s/step - loss: 0.5925 - accuracy: 0.7674 - val_loss: 0.5179 - val_accuracy: 0.8287\n",
            "Epoch 45/150\n",
            "6/6 [==============================] - 9s 1s/step - loss: 0.5773 - accuracy: 0.7705 - val_loss: 0.5178 - val_accuracy: 0.8318\n",
            "Epoch 46/150\n",
            "6/6 [==============================] - 9s 1s/step - loss: 0.5907 - accuracy: 0.7736 - val_loss: 0.5193 - val_accuracy: 0.8287\n",
            "Epoch 47/150\n",
            "6/6 [==============================] - 8s 1s/step - loss: 0.5886 - accuracy: 0.7700 - val_loss: 0.5082 - val_accuracy: 0.8226\n",
            "Epoch 48/150\n",
            "6/6 [==============================] - 9s 1s/step - loss: 0.5676 - accuracy: 0.7858 - val_loss: 0.5053 - val_accuracy: 0.8349\n",
            "Epoch 49/150\n",
            "6/6 [==============================] - 9s 1s/step - loss: 0.5859 - accuracy: 0.7743 - val_loss: 0.5055 - val_accuracy: 0.8318\n",
            "Epoch 50/150\n",
            "6/6 [==============================] - 8s 1s/step - loss: 0.5697 - accuracy: 0.7825 - val_loss: 0.5055 - val_accuracy: 0.8318\n",
            "Epoch 51/150\n",
            "6/6 [==============================] - 8s 1s/step - loss: 0.5653 - accuracy: 0.7808 - val_loss: 0.5012 - val_accuracy: 0.8349\n",
            "Epoch 52/150\n",
            "6/6 [==============================] - 8s 1s/step - loss: 0.5489 - accuracy: 0.7917 - val_loss: 0.4966 - val_accuracy: 0.8287\n",
            "Epoch 53/150\n",
            "6/6 [==============================] - 9s 1s/step - loss: 0.5897 - accuracy: 0.7724 - val_loss: 0.4902 - val_accuracy: 0.8318\n",
            "Epoch 54/150\n",
            "6/6 [==============================] - 8s 1s/step - loss: 0.5569 - accuracy: 0.7850 - val_loss: 0.4877 - val_accuracy: 0.8318\n",
            "Epoch 55/150\n",
            "6/6 [==============================] - 9s 1s/step - loss: 0.5710 - accuracy: 0.7727 - val_loss: 0.4818 - val_accuracy: 0.8410\n",
            "Epoch 56/150\n",
            "6/6 [==============================] - 9s 1s/step - loss: 0.5705 - accuracy: 0.7667 - val_loss: 0.4898 - val_accuracy: 0.8257\n",
            "Epoch 57/150\n",
            "6/6 [==============================] - 9s 1s/step - loss: 0.5913 - accuracy: 0.7628 - val_loss: 0.4796 - val_accuracy: 0.8257\n",
            "Epoch 58/150\n",
            "6/6 [==============================] - 9s 1s/step - loss: 0.5850 - accuracy: 0.7615 - val_loss: 0.4838 - val_accuracy: 0.8349\n",
            "Epoch 59/150\n",
            "6/6 [==============================] - 8s 1s/step - loss: 0.5588 - accuracy: 0.7867 - val_loss: 0.4721 - val_accuracy: 0.8410\n",
            "Epoch 60/150\n",
            "6/6 [==============================] - 9s 1s/step - loss: 0.5372 - accuracy: 0.7991 - val_loss: 0.4812 - val_accuracy: 0.8349\n",
            "Epoch 61/150\n",
            "6/6 [==============================] - 9s 1s/step - loss: 0.5672 - accuracy: 0.7791 - val_loss: 0.4772 - val_accuracy: 0.8349\n",
            "Epoch 62/150\n",
            "6/6 [==============================] - 9s 1s/step - loss: 0.5663 - accuracy: 0.7715 - val_loss: 0.4853 - val_accuracy: 0.8318\n",
            "Epoch 63/150\n",
            "6/6 [==============================] - 9s 1s/step - loss: 0.5666 - accuracy: 0.7776 - val_loss: 0.4717 - val_accuracy: 0.8410\n",
            "Epoch 64/150\n",
            "6/6 [==============================] - 9s 1s/step - loss: 0.5737 - accuracy: 0.7699 - val_loss: 0.4711 - val_accuracy: 0.8379\n",
            "Epoch 65/150\n",
            "6/6 [==============================] - 9s 2s/step - loss: 0.5307 - accuracy: 0.7899 - val_loss: 0.4616 - val_accuracy: 0.8379\n",
            "Epoch 66/150\n",
            "6/6 [==============================] - 9s 2s/step - loss: 0.5288 - accuracy: 0.8071 - val_loss: 0.4597 - val_accuracy: 0.8410\n",
            "Epoch 67/150\n",
            "6/6 [==============================] - 9s 1s/step - loss: 0.5239 - accuracy: 0.7994 - val_loss: 0.4563 - val_accuracy: 0.8471\n",
            "Epoch 68/150\n",
            "6/6 [==============================] - 9s 1s/step - loss: 0.5360 - accuracy: 0.7931 - val_loss: 0.4583 - val_accuracy: 0.8379\n",
            "Epoch 69/150\n",
            "6/6 [==============================] - 9s 1s/step - loss: 0.5223 - accuracy: 0.7936 - val_loss: 0.4454 - val_accuracy: 0.8563\n",
            "Epoch 70/150\n",
            "6/6 [==============================] - 9s 1s/step - loss: 0.5446 - accuracy: 0.7790 - val_loss: 0.4545 - val_accuracy: 0.8471\n",
            "Epoch 71/150\n",
            "6/6 [==============================] - 9s 1s/step - loss: 0.5406 - accuracy: 0.7935 - val_loss: 0.4527 - val_accuracy: 0.8440\n",
            "Epoch 72/150\n",
            "6/6 [==============================] - 9s 1s/step - loss: 0.5157 - accuracy: 0.7955 - val_loss: 0.4549 - val_accuracy: 0.8502\n",
            "Epoch 73/150\n",
            "6/6 [==============================] - 9s 1s/step - loss: 0.5009 - accuracy: 0.8159 - val_loss: 0.4511 - val_accuracy: 0.8471\n",
            "Epoch 74/150\n",
            "6/6 [==============================] - 9s 1s/step - loss: 0.5176 - accuracy: 0.8033 - val_loss: 0.4637 - val_accuracy: 0.8471\n",
            "Epoch 75/150\n",
            "6/6 [==============================] - 9s 1s/step - loss: 0.5118 - accuracy: 0.7997 - val_loss: 0.4598 - val_accuracy: 0.8471\n",
            "Epoch 76/150\n",
            "6/6 [==============================] - 9s 1s/step - loss: 0.5377 - accuracy: 0.7818 - val_loss: 0.4468 - val_accuracy: 0.8502\n",
            "Epoch 77/150\n",
            "6/6 [==============================] - 9s 1s/step - loss: 0.5059 - accuracy: 0.7994 - val_loss: 0.4403 - val_accuracy: 0.8532\n",
            "Epoch 78/150\n",
            "6/6 [==============================] - 9s 1s/step - loss: 0.5171 - accuracy: 0.7805 - val_loss: 0.4414 - val_accuracy: 0.8563\n",
            "Epoch 79/150\n",
            "6/6 [==============================] - 9s 1s/step - loss: 0.5191 - accuracy: 0.7960 - val_loss: 0.4433 - val_accuracy: 0.8593\n",
            "Epoch 80/150\n",
            "6/6 [==============================] - 9s 1s/step - loss: 0.5020 - accuracy: 0.8052 - val_loss: 0.4426 - val_accuracy: 0.8563\n",
            "Epoch 81/150\n",
            "6/6 [==============================] - 9s 1s/step - loss: 0.5051 - accuracy: 0.7966 - val_loss: 0.4423 - val_accuracy: 0.8532\n",
            "Epoch 82/150\n",
            "6/6 [==============================] - 9s 1s/step - loss: 0.4720 - accuracy: 0.8150 - val_loss: 0.4286 - val_accuracy: 0.8502\n",
            "Epoch 83/150\n",
            "6/6 [==============================] - 9s 1s/step - loss: 0.4909 - accuracy: 0.8071 - val_loss: 0.4492 - val_accuracy: 0.8624\n",
            "Epoch 84/150\n",
            "6/6 [==============================] - 9s 1s/step - loss: 0.4875 - accuracy: 0.8060 - val_loss: 0.4412 - val_accuracy: 0.8502\n",
            "Epoch 85/150\n",
            "6/6 [==============================] - 9s 1s/step - loss: 0.4933 - accuracy: 0.8031 - val_loss: 0.4331 - val_accuracy: 0.8502\n",
            "Epoch 86/150\n",
            "6/6 [==============================] - 9s 1s/step - loss: 0.4992 - accuracy: 0.8066 - val_loss: 0.4351 - val_accuracy: 0.8593\n",
            "Epoch 87/150\n",
            "6/6 [==============================] - 8s 1s/step - loss: 0.4808 - accuracy: 0.8101 - val_loss: 0.4378 - val_accuracy: 0.8593\n",
            "Epoch 88/150\n",
            "6/6 [==============================] - 9s 1s/step - loss: 0.5264 - accuracy: 0.7851 - val_loss: 0.4508 - val_accuracy: 0.8502\n",
            "Epoch 89/150\n",
            "6/6 [==============================] - 9s 1s/step - loss: 0.5061 - accuracy: 0.8026 - val_loss: 0.4455 - val_accuracy: 0.8563\n",
            "Epoch 90/150\n",
            "6/6 [==============================] - 8s 1s/step - loss: 0.5402 - accuracy: 0.7768 - val_loss: 0.4341 - val_accuracy: 0.8502\n",
            "Epoch 91/150\n",
            "6/6 [==============================] - 9s 1s/step - loss: 0.4984 - accuracy: 0.7853 - val_loss: 0.4385 - val_accuracy: 0.8624\n",
            "Epoch 92/150\n",
            "6/6 [==============================] - 9s 1s/step - loss: 0.4671 - accuracy: 0.8175 - val_loss: 0.4345 - val_accuracy: 0.8654\n",
            "Epoch 93/150\n",
            "6/6 [==============================] - 9s 1s/step - loss: 0.4511 - accuracy: 0.8239 - val_loss: 0.4275 - val_accuracy: 0.8624\n",
            "Epoch 94/150\n",
            "6/6 [==============================] - 9s 1s/step - loss: 0.4711 - accuracy: 0.8236 - val_loss: 0.4255 - val_accuracy: 0.8624\n",
            "Epoch 95/150\n",
            "6/6 [==============================] - 9s 1s/step - loss: 0.4704 - accuracy: 0.8160 - val_loss: 0.4133 - val_accuracy: 0.8624\n",
            "Epoch 96/150\n",
            "6/6 [==============================] - 9s 2s/step - loss: 0.4737 - accuracy: 0.8054 - val_loss: 0.4105 - val_accuracy: 0.8593\n",
            "Epoch 97/150\n",
            "6/6 [==============================] - 9s 1s/step - loss: 0.4618 - accuracy: 0.8126 - val_loss: 0.4125 - val_accuracy: 0.8654\n",
            "Epoch 98/150\n",
            "6/6 [==============================] - 9s 1s/step - loss: 0.4346 - accuracy: 0.8327 - val_loss: 0.4189 - val_accuracy: 0.8563\n",
            "Epoch 99/150\n",
            "6/6 [==============================] - 9s 1s/step - loss: 0.4443 - accuracy: 0.8358 - val_loss: 0.4169 - val_accuracy: 0.8593\n",
            "Epoch 100/150\n",
            "6/6 [==============================] - 9s 1s/step - loss: 0.4340 - accuracy: 0.8299 - val_loss: 0.4173 - val_accuracy: 0.8654\n",
            "Epoch 101/150\n",
            "6/6 [==============================] - 9s 1s/step - loss: 0.4567 - accuracy: 0.8265 - val_loss: 0.4165 - val_accuracy: 0.8624\n",
            "Epoch 102/150\n",
            "6/6 [==============================] - 9s 1s/step - loss: 0.4544 - accuracy: 0.8225 - val_loss: 0.4254 - val_accuracy: 0.8593\n",
            "Epoch 103/150\n",
            "6/6 [==============================] - 9s 1s/step - loss: 0.4421 - accuracy: 0.8238 - val_loss: 0.4159 - val_accuracy: 0.8654\n",
            "Epoch 104/150\n",
            "6/6 [==============================] - 9s 1s/step - loss: 0.4516 - accuracy: 0.8346 - val_loss: 0.4201 - val_accuracy: 0.8624\n",
            "Epoch 105/150\n",
            "6/6 [==============================] - 9s 1s/step - loss: 0.4408 - accuracy: 0.8256 - val_loss: 0.4105 - val_accuracy: 0.8593\n",
            "Epoch 106/150\n",
            "6/6 [==============================] - 9s 1s/step - loss: 0.4508 - accuracy: 0.8232 - val_loss: 0.4064 - val_accuracy: 0.8716\n",
            "Epoch 107/150\n",
            "6/6 [==============================] - 9s 1s/step - loss: 0.4142 - accuracy: 0.8464 - val_loss: 0.3995 - val_accuracy: 0.8593\n",
            "Epoch 108/150\n",
            "6/6 [==============================] - 9s 1s/step - loss: 0.4125 - accuracy: 0.8284 - val_loss: 0.4129 - val_accuracy: 0.8654\n",
            "Epoch 109/150\n",
            "6/6 [==============================] - 9s 1s/step - loss: 0.4205 - accuracy: 0.8425 - val_loss: 0.4188 - val_accuracy: 0.8593\n",
            "Epoch 110/150\n",
            "6/6 [==============================] - 9s 1s/step - loss: 0.4357 - accuracy: 0.8261 - val_loss: 0.4110 - val_accuracy: 0.8685\n",
            "Epoch 111/150\n",
            "6/6 [==============================] - 9s 1s/step - loss: 0.4102 - accuracy: 0.8347 - val_loss: 0.4188 - val_accuracy: 0.8654\n",
            "Epoch 112/150\n",
            "6/6 [==============================] - 9s 1s/step - loss: 0.4045 - accuracy: 0.8403 - val_loss: 0.4140 - val_accuracy: 0.8654\n",
            "Epoch 113/150\n",
            "6/6 [==============================] - 9s 1s/step - loss: 0.3932 - accuracy: 0.8619 - val_loss: 0.4171 - val_accuracy: 0.8593\n",
            "Epoch 114/150\n",
            "6/6 [==============================] - 9s 1s/step - loss: 0.4207 - accuracy: 0.8339 - val_loss: 0.4158 - val_accuracy: 0.8593\n",
            "Epoch 115/150\n",
            "6/6 [==============================] - 9s 1s/step - loss: 0.3941 - accuracy: 0.8473 - val_loss: 0.4033 - val_accuracy: 0.8593\n",
            "Epoch 116/150\n",
            "6/6 [==============================] - 9s 1s/step - loss: 0.4195 - accuracy: 0.8331 - val_loss: 0.4068 - val_accuracy: 0.8563\n",
            "Epoch 117/150\n",
            "6/6 [==============================] - 9s 1s/step - loss: 0.4028 - accuracy: 0.8507 - val_loss: 0.4167 - val_accuracy: 0.8532\n",
            "Epoch 118/150\n",
            "6/6 [==============================] - 8s 1s/step - loss: 0.3887 - accuracy: 0.8440 - val_loss: 0.4097 - val_accuracy: 0.8654\n",
            "Epoch 119/150\n",
            "6/6 [==============================] - 8s 1s/step - loss: 0.4008 - accuracy: 0.8399 - val_loss: 0.4072 - val_accuracy: 0.8654\n",
            "Epoch 120/150\n",
            "6/6 [==============================] - 8s 1s/step - loss: 0.4122 - accuracy: 0.8323 - val_loss: 0.4201 - val_accuracy: 0.8654\n",
            "Epoch 121/150\n",
            "6/6 [==============================] - 8s 1s/step - loss: 0.3879 - accuracy: 0.8481 - val_loss: 0.4262 - val_accuracy: 0.8532\n",
            "Epoch 122/150\n",
            "6/6 [==============================] - 9s 1s/step - loss: 0.3988 - accuracy: 0.8491 - val_loss: 0.4451 - val_accuracy: 0.8471\n",
            "Epoch 123/150\n",
            "6/6 [==============================] - 8s 1s/step - loss: 0.3977 - accuracy: 0.8346 - val_loss: 0.4337 - val_accuracy: 0.8532\n",
            "Epoch 124/150\n",
            "6/6 [==============================] - 8s 1s/step - loss: 0.3759 - accuracy: 0.8552 - val_loss: 0.4156 - val_accuracy: 0.8685\n",
            "Epoch 125/150\n",
            "6/6 [==============================] - 8s 1s/step - loss: 0.3885 - accuracy: 0.8493 - val_loss: 0.4227 - val_accuracy: 0.8624\n",
            "Epoch 126/150\n",
            "6/6 [==============================] - 9s 1s/step - loss: 0.3937 - accuracy: 0.8471 - val_loss: 0.4385 - val_accuracy: 0.8593\n",
            "Epoch 127/150\n",
            "6/6 [==============================] - 8s 1s/step - loss: 0.4192 - accuracy: 0.8275 - val_loss: 0.4130 - val_accuracy: 0.8624\n"
          ],
          "name": "stdout"
        }
      ]
    },
    {
      "cell_type": "code",
      "metadata": {
        "colab": {
          "base_uri": "https://localhost:8080/",
          "height": 573
        },
        "id": "mZ_Yc041hU_4",
        "outputId": "ada37ff3-b7d8-450e-a72e-80413a4e7aa9"
      },
      "source": [
        "plot_result(hist2)"
      ],
      "execution_count": null,
      "outputs": [
        {
          "output_type": "display_data",
          "data": {
            "image/png": "[encoded data removed]",
            "text/plain": [
              "<Figure size 432x288 with 1 Axes>"
            ]
          },
          "metadata": {
            "tags": [],
            "needs_background": "light"
          }
        },
        {
          "output_type": "display_data",
          "data": {
            "image/png": "[encoded data removed]",
            "text/plain": [
              "<Figure size 432x288 with 1 Axes>"
            ]
          },
          "metadata": {
            "tags": [],
            "needs_background": "light"
          }
        }
      ]
    },
    {
      "cell_type": "markdown",
      "metadata": {
        "id": "TtLpocpFwd3X"
      },
      "source": [
        "##Four LSTM layer model"
      ]
    },
    {
      "cell_type": "code",
      "metadata": {
        "colab": {
          "base_uri": "https://localhost:8080/"
        },
        "id": "YJpU4lL3gXm1",
        "outputId": "eef26355-f5fb-4b5a-d6da-eb21b6ac825c"
      },
      "source": [
        "batch_size = 256\n",
        "epochs = 150\n",
        "hist3 = model3.fit(X_t,y, batch_size=batch_size, epochs=epochs, validation_split=0.2, callbacks=[early_stop])"
      ],
      "execution_count": null,
      "outputs": [
        {
          "output_type": "stream",
          "text": [
            "Epoch 1/150\n",
            "6/6 [==============================] - 32s 3s/step - loss: 1.0264 - accuracy: 0.6718 - val_loss: 0.9054 - val_accuracy: 0.8012\n",
            "Epoch 2/150\n",
            "6/6 [==============================] - 17s 3s/step - loss: 0.8943 - accuracy: 0.7218 - val_loss: 0.8084 - val_accuracy: 0.8012\n",
            "Epoch 3/150\n",
            "6/6 [==============================] - 17s 3s/step - loss: 0.8620 - accuracy: 0.7088 - val_loss: 0.7725 - val_accuracy: 0.8012\n",
            "Epoch 4/150\n",
            "6/6 [==============================] - 17s 3s/step - loss: 0.8316 - accuracy: 0.7207 - val_loss: 0.7169 - val_accuracy: 0.8012\n",
            "Epoch 5/150\n",
            "6/6 [==============================] - 17s 3s/step - loss: 0.8163 - accuracy: 0.7223 - val_loss: 0.6971 - val_accuracy: 0.8012\n",
            "Epoch 6/150\n",
            "6/6 [==============================] - 17s 3s/step - loss: 0.7992 - accuracy: 0.7242 - val_loss: 0.6679 - val_accuracy: 0.8012\n",
            "Epoch 7/150\n",
            "6/6 [==============================] - 17s 3s/step - loss: 0.7807 - accuracy: 0.7245 - val_loss: 0.6561 - val_accuracy: 0.8012\n",
            "Epoch 8/150\n",
            "6/6 [==============================] - 17s 3s/step - loss: 0.7704 - accuracy: 0.7199 - val_loss: 0.6301 - val_accuracy: 0.8012\n",
            "Epoch 9/150\n",
            "6/6 [==============================] - 17s 3s/step - loss: 0.7143 - accuracy: 0.7343 - val_loss: 0.6320 - val_accuracy: 0.8012\n",
            "Epoch 10/150\n",
            "6/6 [==============================] - 16s 3s/step - loss: 0.7617 - accuracy: 0.7162 - val_loss: 0.6305 - val_accuracy: 0.8012\n",
            "Epoch 11/150\n",
            "6/6 [==============================] - 17s 3s/step - loss: 0.7365 - accuracy: 0.7243 - val_loss: 0.6152 - val_accuracy: 0.8012\n",
            "Epoch 12/150\n",
            "6/6 [==============================] - 17s 3s/step - loss: 0.7512 - accuracy: 0.7119 - val_loss: 0.6045 - val_accuracy: 0.8012\n",
            "Epoch 13/150\n",
            "6/6 [==============================] - 17s 3s/step - loss: 0.7458 - accuracy: 0.7072 - val_loss: 0.6208 - val_accuracy: 0.8012\n",
            "Epoch 14/150\n",
            "6/6 [==============================] - 17s 3s/step - loss: 0.7626 - accuracy: 0.7122 - val_loss: 0.6073 - val_accuracy: 0.8012\n",
            "Epoch 15/150\n",
            "6/6 [==============================] - 17s 3s/step - loss: 0.7018 - accuracy: 0.7192 - val_loss: 0.6060 - val_accuracy: 0.8012\n",
            "Epoch 16/150\n",
            "6/6 [==============================] - 17s 3s/step - loss: 0.6729 - accuracy: 0.7311 - val_loss: 0.5996 - val_accuracy: 0.8012\n",
            "Epoch 17/150\n",
            "6/6 [==============================] - 17s 3s/step - loss: 0.6800 - accuracy: 0.7243 - val_loss: 0.5923 - val_accuracy: 0.8012\n",
            "Epoch 18/150\n",
            "6/6 [==============================] - 17s 3s/step - loss: 0.6830 - accuracy: 0.7403 - val_loss: 0.5849 - val_accuracy: 0.8073\n",
            "Epoch 19/150\n",
            "6/6 [==============================] - 17s 3s/step - loss: 0.6739 - accuracy: 0.7482 - val_loss: 0.5868 - val_accuracy: 0.8012\n",
            "Epoch 20/150\n",
            "6/6 [==============================] - 17s 3s/step - loss: 0.6642 - accuracy: 0.7529 - val_loss: 0.5988 - val_accuracy: 0.8043\n",
            "Epoch 21/150\n",
            "6/6 [==============================] - 17s 3s/step - loss: 0.6538 - accuracy: 0.7582 - val_loss: 0.5855 - val_accuracy: 0.8073\n",
            "Epoch 22/150\n",
            "6/6 [==============================] - 16s 3s/step - loss: 0.6711 - accuracy: 0.7307 - val_loss: 0.5935 - val_accuracy: 0.8012\n",
            "Epoch 23/150\n",
            "6/6 [==============================] - 17s 3s/step - loss: 0.6732 - accuracy: 0.7328 - val_loss: 0.5801 - val_accuracy: 0.8043\n",
            "Epoch 24/150\n",
            "6/6 [==============================] - 17s 3s/step - loss: 0.6942 - accuracy: 0.7252 - val_loss: 0.5905 - val_accuracy: 0.8012\n",
            "Epoch 25/150\n",
            "6/6 [==============================] - 17s 3s/step - loss: 0.6671 - accuracy: 0.7439 - val_loss: 0.5808 - val_accuracy: 0.8043\n",
            "Epoch 26/150\n",
            "6/6 [==============================] - 17s 3s/step - loss: 0.6497 - accuracy: 0.7487 - val_loss: 0.5821 - val_accuracy: 0.8012\n",
            "Epoch 27/150\n",
            "6/6 [==============================] - 17s 3s/step - loss: 0.6456 - accuracy: 0.7504 - val_loss: 0.5726 - val_accuracy: 0.7982\n",
            "Epoch 28/150\n",
            "6/6 [==============================] - 17s 3s/step - loss: 0.6348 - accuracy: 0.7574 - val_loss: 0.5741 - val_accuracy: 0.8012\n",
            "Epoch 29/150\n",
            "6/6 [==============================] - 16s 3s/step - loss: 0.6290 - accuracy: 0.7546 - val_loss: 0.5729 - val_accuracy: 0.8043\n",
            "Epoch 30/150\n",
            "6/6 [==============================] - 17s 3s/step - loss: 0.6349 - accuracy: 0.7540 - val_loss: 0.5767 - val_accuracy: 0.8043\n",
            "Epoch 31/150\n",
            "6/6 [==============================] - 17s 3s/step - loss: 0.6242 - accuracy: 0.7594 - val_loss: 0.5718 - val_accuracy: 0.8043\n",
            "Epoch 32/150\n",
            "6/6 [==============================] - 17s 3s/step - loss: 0.6219 - accuracy: 0.7520 - val_loss: 0.5694 - val_accuracy: 0.8073\n",
            "Epoch 33/150\n",
            "6/6 [==============================] - 17s 3s/step - loss: 0.6727 - accuracy: 0.7287 - val_loss: 0.5686 - val_accuracy: 0.8012\n",
            "Epoch 34/150\n",
            "6/6 [==============================] - 17s 3s/step - loss: 0.6310 - accuracy: 0.7422 - val_loss: 0.5540 - val_accuracy: 0.8012\n",
            "Epoch 35/150\n",
            "6/6 [==============================] - 16s 3s/step - loss: 0.6161 - accuracy: 0.7559 - val_loss: 0.5476 - val_accuracy: 0.8012\n",
            "Epoch 36/150\n",
            "6/6 [==============================] - 16s 3s/step - loss: 0.6254 - accuracy: 0.7566 - val_loss: 0.5452 - val_accuracy: 0.8073\n",
            "Epoch 37/150\n",
            "6/6 [==============================] - 17s 3s/step - loss: 0.6018 - accuracy: 0.7732 - val_loss: 0.5460 - val_accuracy: 0.8104\n",
            "Epoch 38/150\n",
            "6/6 [==============================] - 16s 3s/step - loss: 0.6098 - accuracy: 0.7560 - val_loss: 0.5471 - val_accuracy: 0.8104\n",
            "Epoch 39/150\n",
            "6/6 [==============================] - 17s 3s/step - loss: 0.5882 - accuracy: 0.7683 - val_loss: 0.5443 - val_accuracy: 0.8226\n",
            "Epoch 40/150\n",
            "6/6 [==============================] - 16s 3s/step - loss: 0.5983 - accuracy: 0.7744 - val_loss: 0.5477 - val_accuracy: 0.8104\n",
            "Epoch 41/150\n",
            "6/6 [==============================] - 17s 3s/step - loss: 0.6198 - accuracy: 0.7502 - val_loss: 0.5452 - val_accuracy: 0.8165\n",
            "Epoch 42/150\n",
            "6/6 [==============================] - 17s 3s/step - loss: 0.6033 - accuracy: 0.7674 - val_loss: 0.5382 - val_accuracy: 0.8135\n",
            "Epoch 43/150\n",
            "6/6 [==============================] - 17s 3s/step - loss: 0.6136 - accuracy: 0.7618 - val_loss: 0.5361 - val_accuracy: 0.8135\n",
            "Epoch 44/150\n",
            "6/6 [==============================] - 17s 3s/step - loss: 0.6133 - accuracy: 0.7612 - val_loss: 0.5419 - val_accuracy: 0.8104\n",
            "Epoch 45/150\n",
            "6/6 [==============================] - 17s 3s/step - loss: 0.6031 - accuracy: 0.7621 - val_loss: 0.5290 - val_accuracy: 0.8165\n",
            "Epoch 46/150\n",
            "6/6 [==============================] - 16s 3s/step - loss: 0.5687 - accuracy: 0.7633 - val_loss: 0.5167 - val_accuracy: 0.8257\n",
            "Epoch 47/150\n",
            "6/6 [==============================] - 17s 3s/step - loss: 0.5703 - accuracy: 0.7804 - val_loss: 0.5126 - val_accuracy: 0.8318\n",
            "Epoch 48/150\n",
            "6/6 [==============================] - 16s 3s/step - loss: 0.5779 - accuracy: 0.7833 - val_loss: 0.5098 - val_accuracy: 0.8196\n",
            "Epoch 49/150\n",
            "6/6 [==============================] - 17s 3s/step - loss: 0.6064 - accuracy: 0.7591 - val_loss: 0.5113 - val_accuracy: 0.8287\n",
            "Epoch 50/150\n",
            "6/6 [==============================] - 16s 3s/step - loss: 0.5750 - accuracy: 0.7801 - val_loss: 0.5081 - val_accuracy: 0.8257\n",
            "Epoch 51/150\n",
            "6/6 [==============================] - 16s 3s/step - loss: 0.5677 - accuracy: 0.7703 - val_loss: 0.4992 - val_accuracy: 0.8349\n",
            "Epoch 52/150\n",
            "6/6 [==============================] - 17s 3s/step - loss: 0.5633 - accuracy: 0.7755 - val_loss: 0.4961 - val_accuracy: 0.8318\n",
            "Epoch 53/150\n",
            "6/6 [==============================] - 17s 3s/step - loss: 0.5599 - accuracy: 0.7715 - val_loss: 0.5052 - val_accuracy: 0.8257\n",
            "Epoch 54/150\n",
            "6/6 [==============================] - 17s 3s/step - loss: 0.5836 - accuracy: 0.7835 - val_loss: 0.5066 - val_accuracy: 0.8287\n",
            "Epoch 55/150\n",
            "6/6 [==============================] - 17s 3s/step - loss: 0.5547 - accuracy: 0.7810 - val_loss: 0.4936 - val_accuracy: 0.8349\n",
            "Epoch 56/150\n",
            "6/6 [==============================] - 16s 3s/step - loss: 0.5535 - accuracy: 0.7855 - val_loss: 0.4908 - val_accuracy: 0.8410\n",
            "Epoch 57/150\n",
            "6/6 [==============================] - 17s 3s/step - loss: 0.5512 - accuracy: 0.7845 - val_loss: 0.5098 - val_accuracy: 0.8410\n",
            "Epoch 58/150\n",
            "6/6 [==============================] - 17s 3s/step - loss: 0.5599 - accuracy: 0.7915 - val_loss: 0.4883 - val_accuracy: 0.8349\n",
            "Epoch 59/150\n",
            "6/6 [==============================] - 17s 3s/step - loss: 0.5707 - accuracy: 0.7798 - val_loss: 0.4883 - val_accuracy: 0.8318\n",
            "Epoch 60/150\n",
            "6/6 [==============================] - 16s 3s/step - loss: 0.5162 - accuracy: 0.7920 - val_loss: 0.4962 - val_accuracy: 0.8257\n",
            "Epoch 61/150\n",
            "6/6 [==============================] - 17s 3s/step - loss: 0.5317 - accuracy: 0.7931 - val_loss: 0.5002 - val_accuracy: 0.8440\n",
            "Epoch 62/150\n",
            "6/6 [==============================] - 17s 3s/step - loss: 0.5688 - accuracy: 0.7811 - val_loss: 0.5060 - val_accuracy: 0.8226\n",
            "Epoch 63/150\n",
            "6/6 [==============================] - 17s 3s/step - loss: 0.5842 - accuracy: 0.7769 - val_loss: 0.5345 - val_accuracy: 0.8196\n",
            "Epoch 64/150\n",
            "6/6 [==============================] - 16s 3s/step - loss: 0.5847 - accuracy: 0.7918 - val_loss: 0.4982 - val_accuracy: 0.8257\n",
            "Epoch 65/150\n",
            "6/6 [==============================] - 17s 3s/step - loss: 0.5319 - accuracy: 0.7947 - val_loss: 0.4959 - val_accuracy: 0.8410\n",
            "Epoch 66/150\n",
            "6/6 [==============================] - 17s 3s/step - loss: 0.5467 - accuracy: 0.7780 - val_loss: 0.4972 - val_accuracy: 0.8410\n",
            "Epoch 67/150\n",
            "6/6 [==============================] - 17s 3s/step - loss: 0.5297 - accuracy: 0.7975 - val_loss: 0.5297 - val_accuracy: 0.8165\n",
            "Epoch 68/150\n",
            "6/6 [==============================] - 17s 3s/step - loss: 0.5574 - accuracy: 0.7830 - val_loss: 0.4998 - val_accuracy: 0.8379\n",
            "Epoch 69/150\n",
            "6/6 [==============================] - 17s 3s/step - loss: 0.5619 - accuracy: 0.7882 - val_loss: 0.5026 - val_accuracy: 0.8410\n",
            "Epoch 70/150\n",
            "6/6 [==============================] - 16s 3s/step - loss: 0.5167 - accuracy: 0.7916 - val_loss: 0.4917 - val_accuracy: 0.8410\n",
            "Epoch 71/150\n",
            "6/6 [==============================] - 17s 3s/step - loss: 0.5332 - accuracy: 0.7832 - val_loss: 0.4909 - val_accuracy: 0.8349\n",
            "Epoch 72/150\n",
            "6/6 [==============================] - 17s 3s/step - loss: 0.5291 - accuracy: 0.7834 - val_loss: 0.4750 - val_accuracy: 0.8532\n",
            "Epoch 73/150\n",
            "6/6 [==============================] - 17s 3s/step - loss: 0.4949 - accuracy: 0.8044 - val_loss: 0.4800 - val_accuracy: 0.8502\n",
            "Epoch 74/150\n",
            "6/6 [==============================] - 17s 3s/step - loss: 0.5103 - accuracy: 0.8016 - val_loss: 0.4701 - val_accuracy: 0.8502\n",
            "Epoch 75/150\n",
            "6/6 [==============================] - 16s 3s/step - loss: 0.4977 - accuracy: 0.8046 - val_loss: 0.4695 - val_accuracy: 0.8502\n",
            "Epoch 76/150\n",
            "6/6 [==============================] - 17s 3s/step - loss: 0.4902 - accuracy: 0.8109 - val_loss: 0.4676 - val_accuracy: 0.8440\n",
            "Epoch 77/150\n",
            "6/6 [==============================] - 17s 3s/step - loss: 0.4680 - accuracy: 0.8261 - val_loss: 0.4838 - val_accuracy: 0.8410\n",
            "Epoch 78/150\n",
            "6/6 [==============================] - 16s 3s/step - loss: 0.4723 - accuracy: 0.8175 - val_loss: 0.4859 - val_accuracy: 0.8349\n",
            "Epoch 79/150\n",
            "6/6 [==============================] - 16s 3s/step - loss: 0.5171 - accuracy: 0.8003 - val_loss: 0.4745 - val_accuracy: 0.8502\n",
            "Epoch 80/150\n",
            "6/6 [==============================] - 16s 3s/step - loss: 0.4935 - accuracy: 0.7987 - val_loss: 0.4569 - val_accuracy: 0.8471\n",
            "Epoch 81/150\n",
            "6/6 [==============================] - 17s 3s/step - loss: 0.4608 - accuracy: 0.8217 - val_loss: 0.4522 - val_accuracy: 0.8593\n",
            "Epoch 82/150\n",
            "6/6 [==============================] - 17s 3s/step - loss: 0.4972 - accuracy: 0.8133 - val_loss: 0.4534 - val_accuracy: 0.8502\n",
            "Epoch 83/150\n",
            "6/6 [==============================] - 17s 3s/step - loss: 0.4866 - accuracy: 0.8152 - val_loss: 0.4645 - val_accuracy: 0.8532\n",
            "Epoch 84/150\n",
            "6/6 [==============================] - 17s 3s/step - loss: 0.4618 - accuracy: 0.8132 - val_loss: 0.4594 - val_accuracy: 0.8440\n",
            "Epoch 85/150\n",
            "6/6 [==============================] - 17s 3s/step - loss: 0.4604 - accuracy: 0.8216 - val_loss: 0.4610 - val_accuracy: 0.8440\n",
            "Epoch 86/150\n",
            "6/6 [==============================] - 16s 3s/step - loss: 0.4487 - accuracy: 0.8217 - val_loss: 0.4621 - val_accuracy: 0.8502\n",
            "Epoch 87/150\n",
            "6/6 [==============================] - 16s 3s/step - loss: 0.4715 - accuracy: 0.8104 - val_loss: 0.4656 - val_accuracy: 0.8440\n",
            "Epoch 88/150\n",
            "6/6 [==============================] - 17s 3s/step - loss: 0.4492 - accuracy: 0.8214 - val_loss: 0.4618 - val_accuracy: 0.8440\n",
            "Epoch 89/150\n",
            "6/6 [==============================] - 16s 3s/step - loss: 0.4545 - accuracy: 0.8094 - val_loss: 0.4633 - val_accuracy: 0.8440\n",
            "Epoch 90/150\n",
            "6/6 [==============================] - 16s 3s/step - loss: 0.4786 - accuracy: 0.8090 - val_loss: 0.4718 - val_accuracy: 0.8440\n",
            "Epoch 91/150\n",
            "6/6 [==============================] - 17s 3s/step - loss: 0.4331 - accuracy: 0.8285 - val_loss: 0.4714 - val_accuracy: 0.8471\n",
            "Epoch 92/150\n",
            "6/6 [==============================] - 17s 3s/step - loss: 0.4317 - accuracy: 0.8221 - val_loss: 0.4679 - val_accuracy: 0.8532\n",
            "Epoch 93/150\n",
            "6/6 [==============================] - 16s 3s/step - loss: 0.4306 - accuracy: 0.8264 - val_loss: 0.4523 - val_accuracy: 0.8532\n",
            "Epoch 94/150\n",
            "6/6 [==============================] - 16s 3s/step - loss: 0.4072 - accuracy: 0.8316 - val_loss: 0.4542 - val_accuracy: 0.8624\n",
            "Epoch 95/150\n",
            "6/6 [==============================] - 17s 3s/step - loss: 0.4190 - accuracy: 0.8338 - val_loss: 0.4491 - val_accuracy: 0.8624\n",
            "Epoch 96/150\n",
            "6/6 [==============================] - 17s 3s/step - loss: 0.3976 - accuracy: 0.8515 - val_loss: 0.4571 - val_accuracy: 0.8563\n",
            "Epoch 97/150\n",
            "6/6 [==============================] - 17s 3s/step - loss: 0.4362 - accuracy: 0.8218 - val_loss: 0.4638 - val_accuracy: 0.8563\n",
            "Epoch 98/150\n",
            "6/6 [==============================] - 16s 3s/step - loss: 0.4355 - accuracy: 0.8350 - val_loss: 0.4609 - val_accuracy: 0.8410\n",
            "Epoch 99/150\n",
            "6/6 [==============================] - 17s 3s/step - loss: 0.4480 - accuracy: 0.8210 - val_loss: 0.4556 - val_accuracy: 0.8349\n",
            "Epoch 100/150\n",
            "6/6 [==============================] - 17s 3s/step - loss: 0.4449 - accuracy: 0.8299 - val_loss: 0.4565 - val_accuracy: 0.8410\n",
            "Epoch 101/150\n",
            "6/6 [==============================] - 17s 3s/step - loss: 0.3857 - accuracy: 0.8477 - val_loss: 0.4617 - val_accuracy: 0.8593\n",
            "Epoch 102/150\n",
            "6/6 [==============================] - 17s 3s/step - loss: 0.3962 - accuracy: 0.8415 - val_loss: 0.4695 - val_accuracy: 0.8502\n",
            "Epoch 103/150\n",
            "6/6 [==============================] - 17s 3s/step - loss: 0.4124 - accuracy: 0.8292 - val_loss: 0.4540 - val_accuracy: 0.8654\n",
            "Epoch 104/150\n",
            "6/6 [==============================] - 17s 3s/step - loss: 0.3864 - accuracy: 0.8550 - val_loss: 0.4451 - val_accuracy: 0.8654\n",
            "Epoch 105/150\n",
            "6/6 [==============================] - 16s 3s/step - loss: 0.4320 - accuracy: 0.8220 - val_loss: 0.4738 - val_accuracy: 0.8440\n",
            "Epoch 106/150\n",
            "6/6 [==============================] - 17s 3s/step - loss: 0.4044 - accuracy: 0.8241 - val_loss: 0.4624 - val_accuracy: 0.8410\n",
            "Epoch 107/150\n",
            "6/6 [==============================] - 17s 3s/step - loss: 0.4007 - accuracy: 0.8425 - val_loss: 0.4761 - val_accuracy: 0.8440\n",
            "Epoch 108/150\n",
            "6/6 [==============================] - 16s 3s/step - loss: 0.3982 - accuracy: 0.8456 - val_loss: 0.4752 - val_accuracy: 0.8410\n",
            "Epoch 109/150\n",
            "6/6 [==============================] - 16s 3s/step - loss: 0.3916 - accuracy: 0.8380 - val_loss: 0.4822 - val_accuracy: 0.8257\n",
            "Epoch 110/150\n",
            "6/6 [==============================] - 16s 3s/step - loss: 0.4682 - accuracy: 0.8059 - val_loss: 0.4961 - val_accuracy: 0.8410\n",
            "Epoch 111/150\n",
            "6/6 [==============================] - 17s 3s/step - loss: 0.4382 - accuracy: 0.8244 - val_loss: 0.4668 - val_accuracy: 0.8532\n",
            "Epoch 112/150\n",
            "6/6 [==============================] - 17s 3s/step - loss: 0.4078 - accuracy: 0.8436 - val_loss: 0.4732 - val_accuracy: 0.8379\n",
            "Epoch 113/150\n",
            "6/6 [==============================] - 17s 3s/step - loss: 0.4181 - accuracy: 0.8258 - val_loss: 0.4688 - val_accuracy: 0.8410\n",
            "Epoch 114/150\n",
            "6/6 [==============================] - 16s 3s/step - loss: 0.3708 - accuracy: 0.8478 - val_loss: 0.4583 - val_accuracy: 0.8502\n",
            "Epoch 115/150\n",
            "6/6 [==============================] - 17s 3s/step - loss: 0.3850 - accuracy: 0.8433 - val_loss: 0.4624 - val_accuracy: 0.8593\n",
            "Epoch 116/150\n",
            "6/6 [==============================] - 17s 3s/step - loss: 0.3606 - accuracy: 0.8549 - val_loss: 0.4756 - val_accuracy: 0.8226\n",
            "Epoch 117/150\n",
            "6/6 [==============================] - 17s 3s/step - loss: 0.3837 - accuracy: 0.8463 - val_loss: 0.4716 - val_accuracy: 0.8471\n",
            "Epoch 118/150\n",
            "6/6 [==============================] - 17s 3s/step - loss: 0.3585 - accuracy: 0.8599 - val_loss: 0.4820 - val_accuracy: 0.8379\n",
            "Epoch 119/150\n",
            "6/6 [==============================] - 17s 3s/step - loss: 0.3827 - accuracy: 0.8396 - val_loss: 0.4732 - val_accuracy: 0.8379\n",
            "Epoch 120/150\n",
            "6/6 [==============================] - 16s 3s/step - loss: 0.3645 - accuracy: 0.8521 - val_loss: 0.4759 - val_accuracy: 0.8532\n",
            "Epoch 121/150\n",
            "6/6 [==============================] - 17s 3s/step - loss: 0.3839 - accuracy: 0.8531 - val_loss: 0.4610 - val_accuracy: 0.8502\n",
            "Epoch 122/150\n",
            "6/6 [==============================] - 16s 3s/step - loss: 0.3681 - accuracy: 0.8467 - val_loss: 0.4441 - val_accuracy: 0.8563\n",
            "Epoch 123/150\n",
            "6/6 [==============================] - 16s 3s/step - loss: 0.3592 - accuracy: 0.8591 - val_loss: 0.4511 - val_accuracy: 0.8593\n",
            "Epoch 124/150\n",
            "6/6 [==============================] - 17s 3s/step - loss: 0.3462 - accuracy: 0.8572 - val_loss: 0.4593 - val_accuracy: 0.8593\n",
            "Epoch 125/150\n",
            "6/6 [==============================] - 17s 3s/step - loss: 0.3496 - accuracy: 0.8634 - val_loss: 0.4644 - val_accuracy: 0.8654\n",
            "Epoch 126/150\n",
            "6/6 [==============================] - 16s 3s/step - loss: 0.3423 - accuracy: 0.8697 - val_loss: 0.4668 - val_accuracy: 0.8471\n",
            "Epoch 127/150\n",
            "6/6 [==============================] - 17s 3s/step - loss: 0.3811 - accuracy: 0.8489 - val_loss: 0.4709 - val_accuracy: 0.8379\n",
            "Epoch 128/150\n",
            "6/6 [==============================] - 17s 3s/step - loss: 0.3598 - accuracy: 0.8465 - val_loss: 0.4503 - val_accuracy: 0.8654\n",
            "Epoch 129/150\n",
            "6/6 [==============================] - 16s 3s/step - loss: 0.3289 - accuracy: 0.8631 - val_loss: 0.4714 - val_accuracy: 0.8532\n",
            "Epoch 130/150\n",
            "6/6 [==============================] - 16s 3s/step - loss: 0.3702 - accuracy: 0.8397 - val_loss: 0.4844 - val_accuracy: 0.8410\n",
            "Epoch 131/150\n",
            "6/6 [==============================] - 17s 3s/step - loss: 0.3619 - accuracy: 0.8610 - val_loss: 0.4984 - val_accuracy: 0.8226\n",
            "Epoch 132/150\n",
            "6/6 [==============================] - 17s 3s/step - loss: 0.4001 - accuracy: 0.8331 - val_loss: 0.4775 - val_accuracy: 0.8471\n",
            "Epoch 133/150\n",
            "6/6 [==============================] - 17s 3s/step - loss: 0.3797 - accuracy: 0.8534 - val_loss: 0.4567 - val_accuracy: 0.8563\n",
            "Epoch 134/150\n",
            "6/6 [==============================] - 17s 3s/step - loss: 0.3413 - accuracy: 0.8705 - val_loss: 0.4553 - val_accuracy: 0.8532\n",
            "Epoch 135/150\n",
            "6/6 [==============================] - 17s 3s/step - loss: 0.3419 - accuracy: 0.8712 - val_loss: 0.4728 - val_accuracy: 0.8440\n",
            "Epoch 136/150\n",
            "6/6 [==============================] - 17s 3s/step - loss: 0.2969 - accuracy: 0.8813 - val_loss: 0.4935 - val_accuracy: 0.8287\n",
            "Epoch 137/150\n",
            "6/6 [==============================] - 17s 3s/step - loss: 0.3144 - accuracy: 0.8716 - val_loss: 0.5004 - val_accuracy: 0.8349\n",
            "Epoch 138/150\n",
            "6/6 [==============================] - 17s 3s/step - loss: 0.3255 - accuracy: 0.8718 - val_loss: 0.4796 - val_accuracy: 0.8440\n",
            "Epoch 139/150\n",
            "6/6 [==============================] - 17s 3s/step - loss: 0.2809 - accuracy: 0.8880 - val_loss: 0.5159 - val_accuracy: 0.8410\n",
            "Epoch 140/150\n",
            "6/6 [==============================] - 17s 3s/step - loss: 0.3243 - accuracy: 0.8700 - val_loss: 0.5065 - val_accuracy: 0.8349\n",
            "Epoch 141/150\n",
            "6/6 [==============================] - 17s 3s/step - loss: 0.3103 - accuracy: 0.8815 - val_loss: 0.5045 - val_accuracy: 0.8379\n",
            "Epoch 142/150\n",
            "6/6 [==============================] - 17s 3s/step - loss: 0.2968 - accuracy: 0.8867 - val_loss: 0.4920 - val_accuracy: 0.8379\n"
          ],
          "name": "stdout"
        }
      ]
    },
    {
      "cell_type": "code",
      "metadata": {
        "colab": {
          "base_uri": "https://localhost:8080/",
          "height": 573
        },
        "id": "BQZ6394NkvqX",
        "outputId": "09f93289-5bb9-496e-f4cf-45544476a6e9"
      },
      "source": [
        "plot_result(hist3)"
      ],
      "execution_count": null,
      "outputs": [
        {
          "output_type": "display_data",
          "data": {
            "image/png": "[encoded data removed]",
            "text/plain": [
              "<Figure size 432x288 with 1 Axes>"
            ]
          },
          "metadata": {
            "tags": [],
            "needs_background": "light"
          }
        },
        {
          "output_type": "display_data",
          "data": {
            "image/png": "[encoded data removed]",
            "text/plain": [
              "<Figure size 432x288 with 1 Axes>"
            ]
          },
          "metadata": {
            "tags": [],
            "needs_background": "light"
          }
        }
      ]
    },
    {
      "cell_type": "markdown",
      "metadata": {
        "id": "9xYT82_ggJNk"
      },
      "source": [
        "##Six LSTM layer model"
      ]
    },
    {
      "cell_type": "code",
      "metadata": {
        "colab": {
          "base_uri": "https://localhost:8080/"
        },
        "id": "-bdTslDnvg1N",
        "outputId": "b404ff29-1599-4076-ddd8-9991f2378e55"
      },
      "source": [
        "batch_size = 512\n",
        "epochs = 150\n",
        "hist4 = model4.fit(X_t,y, batch_size=batch_size, epochs=epochs, validation_split=0.2, callbacks=[early_stop])"
      ],
      "execution_count": 57,
      "outputs": [
        {
          "output_type": "stream",
          "text": [
            "Epoch 1/150\n",
            "3/3 [==============================] - 13s 4s/step - loss: 0.7613 - accuracy: 0.7205 - val_loss: 0.6286 - val_accuracy: 0.8012\n",
            "Epoch 2/150\n",
            "3/3 [==============================] - 13s 4s/step - loss: 0.7665 - accuracy: 0.7205 - val_loss: 0.6277 - val_accuracy: 0.8012\n",
            "Epoch 3/150\n",
            "3/3 [==============================] - 13s 4s/step - loss: 0.7584 - accuracy: 0.7205 - val_loss: 0.6260 - val_accuracy: 0.8012\n",
            "Epoch 4/150\n",
            "3/3 [==============================] - 13s 4s/step - loss: 0.7605 - accuracy: 0.7205 - val_loss: 0.6259 - val_accuracy: 0.8012\n",
            "Epoch 5/150\n",
            "3/3 [==============================] - 13s 4s/step - loss: 0.7619 - accuracy: 0.7205 - val_loss: 0.6265 - val_accuracy: 0.8012\n",
            "Epoch 6/150\n",
            "3/3 [==============================] - 13s 4s/step - loss: 0.7652 - accuracy: 0.7205 - val_loss: 0.6271 - val_accuracy: 0.8012\n",
            "Epoch 7/150\n",
            "3/3 [==============================] - 13s 4s/step - loss: 0.7577 - accuracy: 0.7205 - val_loss: 0.6277 - val_accuracy: 0.8012\n",
            "Epoch 8/150\n",
            "3/3 [==============================] - 13s 4s/step - loss: 0.7617 - accuracy: 0.7205 - val_loss: 0.6277 - val_accuracy: 0.8012\n",
            "Epoch 9/150\n",
            "3/3 [==============================] - 13s 4s/step - loss: 0.7601 - accuracy: 0.7205 - val_loss: 0.6271 - val_accuracy: 0.8012\n",
            "Epoch 10/150\n",
            "3/3 [==============================] - 13s 4s/step - loss: 0.7591 - accuracy: 0.7205 - val_loss: 0.6265 - val_accuracy: 0.8012\n",
            "Epoch 11/150\n",
            "3/3 [==============================] - 13s 4s/step - loss: 0.7586 - accuracy: 0.7205 - val_loss: 0.6262 - val_accuracy: 0.8012\n",
            "Epoch 12/150\n",
            "3/3 [==============================] - 13s 4s/step - loss: 0.7609 - accuracy: 0.7205 - val_loss: 0.6261 - val_accuracy: 0.8012\n",
            "Epoch 13/150\n",
            "3/3 [==============================] - 13s 4s/step - loss: 0.7578 - accuracy: 0.7205 - val_loss: 0.6262 - val_accuracy: 0.8012\n",
            "Epoch 14/150\n",
            "3/3 [==============================] - 13s 4s/step - loss: 0.7612 - accuracy: 0.7205 - val_loss: 0.6258 - val_accuracy: 0.8012\n",
            "Epoch 15/150\n",
            "3/3 [==============================] - 13s 4s/step - loss: 0.7554 - accuracy: 0.7205 - val_loss: 0.6254 - val_accuracy: 0.8012\n",
            "Epoch 16/150\n",
            "3/3 [==============================] - 13s 4s/step - loss: 0.7605 - accuracy: 0.7205 - val_loss: 0.6251 - val_accuracy: 0.8012\n",
            "Epoch 17/150\n",
            "3/3 [==============================] - 13s 4s/step - loss: 0.7582 - accuracy: 0.7198 - val_loss: 0.6252 - val_accuracy: 0.8012\n",
            "Epoch 18/150\n",
            "3/3 [==============================] - 13s 4s/step - loss: 0.7525 - accuracy: 0.7205 - val_loss: 0.6258 - val_accuracy: 0.8012\n",
            "Epoch 19/150\n",
            "3/3 [==============================] - 13s 4s/step - loss: 0.7586 - accuracy: 0.7205 - val_loss: 0.6259 - val_accuracy: 0.8012\n",
            "Epoch 20/150\n",
            "3/3 [==============================] - 13s 4s/step - loss: 0.7572 - accuracy: 0.7205 - val_loss: 0.6253 - val_accuracy: 0.8012\n",
            "Epoch 21/150\n",
            "3/3 [==============================] - 13s 4s/step - loss: 0.7570 - accuracy: 0.7205 - val_loss: 0.6249 - val_accuracy: 0.8012\n",
            "Epoch 22/150\n",
            "3/3 [==============================] - 13s 4s/step - loss: 0.7550 - accuracy: 0.7205 - val_loss: 0.6248 - val_accuracy: 0.8012\n",
            "Epoch 23/150\n",
            "3/3 [==============================] - 13s 4s/step - loss: 0.7583 - accuracy: 0.7205 - val_loss: 0.6246 - val_accuracy: 0.8012\n",
            "Epoch 24/150\n",
            "3/3 [==============================] - 13s 4s/step - loss: 0.7589 - accuracy: 0.7198 - val_loss: 0.6242 - val_accuracy: 0.8012\n",
            "Epoch 25/150\n",
            "3/3 [==============================] - 13s 4s/step - loss: 0.7606 - accuracy: 0.7205 - val_loss: 0.6239 - val_accuracy: 0.8012\n",
            "Epoch 26/150\n",
            "3/3 [==============================] - 13s 4s/step - loss: 0.7557 - accuracy: 0.7205 - val_loss: 0.6236 - val_accuracy: 0.8012\n",
            "Epoch 27/150\n",
            "3/3 [==============================] - 13s 4s/step - loss: 0.7561 - accuracy: 0.7205 - val_loss: 0.6233 - val_accuracy: 0.8012\n",
            "Epoch 28/150\n",
            "3/3 [==============================] - 13s 4s/step - loss: 0.7550 - accuracy: 0.7198 - val_loss: 0.6232 - val_accuracy: 0.8012\n",
            "Epoch 29/150\n",
            "3/3 [==============================] - 13s 4s/step - loss: 0.7535 - accuracy: 0.7205 - val_loss: 0.6230 - val_accuracy: 0.8012\n",
            "Epoch 30/150\n",
            "3/3 [==============================] - 13s 4s/step - loss: 0.7552 - accuracy: 0.7205 - val_loss: 0.6231 - val_accuracy: 0.8012\n",
            "Epoch 31/150\n",
            "3/3 [==============================] - 13s 4s/step - loss: 0.7618 - accuracy: 0.7205 - val_loss: 0.6228 - val_accuracy: 0.8012\n",
            "Epoch 32/150\n",
            "3/3 [==============================] - 13s 4s/step - loss: 0.7540 - accuracy: 0.7205 - val_loss: 0.6230 - val_accuracy: 0.8012\n",
            "Epoch 33/150\n",
            "3/3 [==============================] - 13s 4s/step - loss: 0.7585 - accuracy: 0.7198 - val_loss: 0.6230 - val_accuracy: 0.8012\n",
            "Epoch 34/150\n",
            "3/3 [==============================] - 13s 4s/step - loss: 0.7605 - accuracy: 0.7205 - val_loss: 0.6225 - val_accuracy: 0.8012\n",
            "Epoch 35/150\n",
            "3/3 [==============================] - 13s 4s/step - loss: 0.7517 - accuracy: 0.7205 - val_loss: 0.6224 - val_accuracy: 0.8012\n",
            "Epoch 36/150\n",
            "3/3 [==============================] - 13s 4s/step - loss: 0.7558 - accuracy: 0.7205 - val_loss: 0.6222 - val_accuracy: 0.8012\n",
            "Epoch 37/150\n",
            "3/3 [==============================] - 13s 4s/step - loss: 0.7571 - accuracy: 0.7198 - val_loss: 0.6221 - val_accuracy: 0.8012\n",
            "Epoch 38/150\n",
            "3/3 [==============================] - 13s 4s/step - loss: 0.7552 - accuracy: 0.7205 - val_loss: 0.6216 - val_accuracy: 0.8012\n",
            "Epoch 39/150\n",
            "3/3 [==============================] - 13s 4s/step - loss: 0.7556 - accuracy: 0.7205 - val_loss: 0.6212 - val_accuracy: 0.8012\n",
            "Epoch 40/150\n",
            "3/3 [==============================] - 13s 4s/step - loss: 0.7582 - accuracy: 0.7190 - val_loss: 0.6210 - val_accuracy: 0.8012\n",
            "Epoch 41/150\n",
            "3/3 [==============================] - 13s 4s/step - loss: 0.7557 - accuracy: 0.7205 - val_loss: 0.6211 - val_accuracy: 0.8012\n",
            "Epoch 42/150\n",
            "3/3 [==============================] - 13s 4s/step - loss: 0.7558 - accuracy: 0.7205 - val_loss: 0.6212 - val_accuracy: 0.8012\n",
            "Epoch 43/150\n",
            "3/3 [==============================] - 13s 4s/step - loss: 0.7530 - accuracy: 0.7205 - val_loss: 0.6213 - val_accuracy: 0.8012\n",
            "Epoch 44/150\n",
            "3/3 [==============================] - 13s 4s/step - loss: 0.7539 - accuracy: 0.7205 - val_loss: 0.6211 - val_accuracy: 0.8012\n",
            "Epoch 45/150\n",
            "3/3 [==============================] - 13s 4s/step - loss: 0.7506 - accuracy: 0.7205 - val_loss: 0.6211 - val_accuracy: 0.8012\n",
            "Epoch 46/150\n",
            "3/3 [==============================] - 13s 4s/step - loss: 0.7520 - accuracy: 0.7205 - val_loss: 0.6210 - val_accuracy: 0.8012\n",
            "Epoch 47/150\n",
            "3/3 [==============================] - 13s 4s/step - loss: 0.7505 - accuracy: 0.7205 - val_loss: 0.6205 - val_accuracy: 0.8012\n",
            "Epoch 48/150\n",
            "3/3 [==============================] - 13s 4s/step - loss: 0.7599 - accuracy: 0.7213 - val_loss: 0.6205 - val_accuracy: 0.8012\n",
            "Epoch 49/150\n",
            "3/3 [==============================] - 13s 4s/step - loss: 0.7558 - accuracy: 0.7205 - val_loss: 0.6208 - val_accuracy: 0.8012\n",
            "Epoch 50/150\n",
            "3/3 [==============================] - 13s 4s/step - loss: 0.7546 - accuracy: 0.7205 - val_loss: 0.6213 - val_accuracy: 0.8012\n",
            "Epoch 51/150\n",
            "3/3 [==============================] - 13s 4s/step - loss: 0.7530 - accuracy: 0.7205 - val_loss: 0.6209 - val_accuracy: 0.8012\n",
            "Epoch 52/150\n",
            "3/3 [==============================] - 13s 4s/step - loss: 0.7558 - accuracy: 0.7205 - val_loss: 0.6214 - val_accuracy: 0.8012\n",
            "Epoch 53/150\n",
            "3/3 [==============================] - 13s 4s/step - loss: 0.7543 - accuracy: 0.7205 - val_loss: 0.6221 - val_accuracy: 0.8012\n",
            "Epoch 54/150\n",
            "3/3 [==============================] - 13s 4s/step - loss: 0.7565 - accuracy: 0.7205 - val_loss: 0.6225 - val_accuracy: 0.8012\n",
            "Epoch 55/150\n",
            "3/3 [==============================] - 13s 4s/step - loss: 0.7520 - accuracy: 0.7205 - val_loss: 0.6228 - val_accuracy: 0.8012\n",
            "Epoch 56/150\n",
            "3/3 [==============================] - 13s 4s/step - loss: 0.7532 - accuracy: 0.7205 - val_loss: 0.6229 - val_accuracy: 0.8012\n",
            "Epoch 57/150\n",
            "3/3 [==============================] - 13s 4s/step - loss: 0.7537 - accuracy: 0.7205 - val_loss: 0.6220 - val_accuracy: 0.8012\n",
            "Epoch 58/150\n",
            "3/3 [==============================] - 13s 4s/step - loss: 0.7597 - accuracy: 0.7198 - val_loss: 0.6211 - val_accuracy: 0.8012\n",
            "Epoch 59/150\n",
            "3/3 [==============================] - 13s 4s/step - loss: 0.7490 - accuracy: 0.7213 - val_loss: 0.6206 - val_accuracy: 0.8012\n",
            "Epoch 60/150\n",
            "3/3 [==============================] - 13s 4s/step - loss: 0.7526 - accuracy: 0.7205 - val_loss: 0.6206 - val_accuracy: 0.8012\n",
            "Epoch 61/150\n",
            "3/3 [==============================] - 13s 4s/step - loss: 0.7539 - accuracy: 0.7198 - val_loss: 0.6206 - val_accuracy: 0.8012\n",
            "Epoch 62/150\n",
            "3/3 [==============================] - 13s 4s/step - loss: 0.7499 - accuracy: 0.7205 - val_loss: 0.6206 - val_accuracy: 0.8012\n",
            "Epoch 63/150\n",
            "3/3 [==============================] - 13s 4s/step - loss: 0.7517 - accuracy: 0.7205 - val_loss: 0.6207 - val_accuracy: 0.8012\n",
            "Epoch 64/150\n",
            "3/3 [==============================] - 13s 4s/step - loss: 0.7519 - accuracy: 0.7205 - val_loss: 0.6208 - val_accuracy: 0.8012\n",
            "Epoch 65/150\n",
            "3/3 [==============================] - 13s 4s/step - loss: 0.7536 - accuracy: 0.7198 - val_loss: 0.6206 - val_accuracy: 0.8012\n",
            "Epoch 66/150\n",
            "3/3 [==============================] - 13s 4s/step - loss: 0.7549 - accuracy: 0.7198 - val_loss: 0.6204 - val_accuracy: 0.8012\n",
            "Epoch 67/150\n",
            "3/3 [==============================] - 13s 4s/step - loss: 0.7529 - accuracy: 0.7198 - val_loss: 0.6204 - val_accuracy: 0.8012\n",
            "Epoch 68/150\n",
            "3/3 [==============================] - 13s 4s/step - loss: 0.7486 - accuracy: 0.7205 - val_loss: 0.6208 - val_accuracy: 0.8012\n",
            "Epoch 69/150\n",
            "3/3 [==============================] - 13s 4s/step - loss: 0.7539 - accuracy: 0.7205 - val_loss: 0.6201 - val_accuracy: 0.8012\n",
            "Epoch 70/150\n",
            "3/3 [==============================] - 13s 4s/step - loss: 0.7523 - accuracy: 0.7213 - val_loss: 0.6200 - val_accuracy: 0.8012\n",
            "Epoch 71/150\n",
            "3/3 [==============================] - 13s 4s/step - loss: 0.7502 - accuracy: 0.7205 - val_loss: 0.6199 - val_accuracy: 0.8012\n",
            "Epoch 72/150\n",
            "3/3 [==============================] - 13s 4s/step - loss: 0.7513 - accuracy: 0.7205 - val_loss: 0.6195 - val_accuracy: 0.8012\n",
            "Epoch 73/150\n",
            "3/3 [==============================] - 13s 4s/step - loss: 0.7516 - accuracy: 0.7228 - val_loss: 0.6194 - val_accuracy: 0.8012\n",
            "Epoch 74/150\n",
            "3/3 [==============================] - 13s 4s/step - loss: 0.7514 - accuracy: 0.7182 - val_loss: 0.6190 - val_accuracy: 0.8012\n",
            "Epoch 75/150\n",
            "3/3 [==============================] - 13s 4s/step - loss: 0.7566 - accuracy: 0.7198 - val_loss: 0.6183 - val_accuracy: 0.8012\n",
            "Epoch 76/150\n",
            "3/3 [==============================] - 13s 4s/step - loss: 0.7575 - accuracy: 0.7198 - val_loss: 0.6188 - val_accuracy: 0.8012\n",
            "Epoch 77/150\n",
            "3/3 [==============================] - 13s 4s/step - loss: 0.7527 - accuracy: 0.7198 - val_loss: 0.6191 - val_accuracy: 0.8012\n",
            "Epoch 78/150\n",
            "3/3 [==============================] - 13s 4s/step - loss: 0.7528 - accuracy: 0.7221 - val_loss: 0.6195 - val_accuracy: 0.8012\n",
            "Epoch 79/150\n",
            "3/3 [==============================] - 13s 4s/step - loss: 0.7546 - accuracy: 0.7190 - val_loss: 0.6191 - val_accuracy: 0.8012\n",
            "Epoch 80/150\n",
            "3/3 [==============================] - 13s 4s/step - loss: 0.7545 - accuracy: 0.7190 - val_loss: 0.6185 - val_accuracy: 0.8012\n",
            "Epoch 81/150\n",
            "3/3 [==============================] - 13s 4s/step - loss: 0.7516 - accuracy: 0.7221 - val_loss: 0.6175 - val_accuracy: 0.8012\n",
            "Epoch 82/150\n",
            "3/3 [==============================] - 13s 4s/step - loss: 0.7548 - accuracy: 0.7213 - val_loss: 0.6175 - val_accuracy: 0.8012\n",
            "Epoch 83/150\n",
            "3/3 [==============================] - 13s 4s/step - loss: 0.7565 - accuracy: 0.7221 - val_loss: 0.6180 - val_accuracy: 0.8012\n",
            "Epoch 84/150\n",
            "3/3 [==============================] - 13s 4s/step - loss: 0.7486 - accuracy: 0.7205 - val_loss: 0.6182 - val_accuracy: 0.8012\n",
            "Epoch 85/150\n",
            "3/3 [==============================] - 13s 4s/step - loss: 0.7512 - accuracy: 0.7190 - val_loss: 0.6178 - val_accuracy: 0.8012\n",
            "Epoch 86/150\n",
            "3/3 [==============================] - 13s 4s/step - loss: 0.7497 - accuracy: 0.7175 - val_loss: 0.6180 - val_accuracy: 0.8012\n",
            "Epoch 87/150\n",
            "3/3 [==============================] - 13s 4s/step - loss: 0.7547 - accuracy: 0.7198 - val_loss: 0.6193 - val_accuracy: 0.8012\n",
            "Epoch 88/150\n",
            "3/3 [==============================] - 13s 4s/step - loss: 0.7563 - accuracy: 0.7221 - val_loss: 0.6184 - val_accuracy: 0.8012\n",
            "Epoch 89/150\n",
            "3/3 [==============================] - 13s 4s/step - loss: 0.7548 - accuracy: 0.7175 - val_loss: 0.6196 - val_accuracy: 0.8012\n",
            "Epoch 90/150\n",
            "3/3 [==============================] - 13s 4s/step - loss: 0.7553 - accuracy: 0.7205 - val_loss: 0.6200 - val_accuracy: 0.8012\n",
            "Epoch 91/150\n",
            "3/3 [==============================] - 13s 4s/step - loss: 0.7523 - accuracy: 0.7205 - val_loss: 0.6203 - val_accuracy: 0.8012\n",
            "Epoch 92/150\n",
            "3/3 [==============================] - 13s 4s/step - loss: 0.7520 - accuracy: 0.7205 - val_loss: 0.6204 - val_accuracy: 0.8012\n",
            "Epoch 93/150\n",
            "3/3 [==============================] - 13s 4s/step - loss: 0.7517 - accuracy: 0.7213 - val_loss: 0.6200 - val_accuracy: 0.8012\n",
            "Epoch 94/150\n",
            "3/3 [==============================] - 13s 4s/step - loss: 0.7501 - accuracy: 0.7205 - val_loss: 0.6199 - val_accuracy: 0.8012\n",
            "Epoch 95/150\n",
            "3/3 [==============================] - 13s 4s/step - loss: 0.7466 - accuracy: 0.7221 - val_loss: 0.6196 - val_accuracy: 0.8012\n",
            "Epoch 96/150\n",
            "3/3 [==============================] - 13s 4s/step - loss: 0.7520 - accuracy: 0.7175 - val_loss: 0.6193 - val_accuracy: 0.8012\n",
            "Epoch 97/150\n",
            "3/3 [==============================] - 13s 4s/step - loss: 0.7475 - accuracy: 0.7190 - val_loss: 0.6192 - val_accuracy: 0.8012\n",
            "Epoch 98/150\n",
            "3/3 [==============================] - 13s 4s/step - loss: 0.7511 - accuracy: 0.7228 - val_loss: 0.6187 - val_accuracy: 0.8012\n",
            "Epoch 99/150\n",
            "3/3 [==============================] - 13s 4s/step - loss: 0.7503 - accuracy: 0.7190 - val_loss: 0.6189 - val_accuracy: 0.8012\n",
            "Epoch 100/150\n",
            "3/3 [==============================] - 13s 4s/step - loss: 0.7479 - accuracy: 0.7198 - val_loss: 0.6192 - val_accuracy: 0.8012\n",
            "Epoch 101/150\n",
            "3/3 [==============================] - 13s 4s/step - loss: 0.7525 - accuracy: 0.7198 - val_loss: 0.6189 - val_accuracy: 0.8012\n"
          ],
          "name": "stdout"
        }
      ]
    },
    {
      "cell_type": "code",
      "metadata": {
        "colab": {
          "base_uri": "https://localhost:8080/"
        },
        "id": "piwKMnE3bY4V",
        "outputId": "df74d902-3117-46f2-cd19-cade0ad1dfc5"
      },
      "source": [
        "batch_size = 256\n",
        "epochs = 150\n",
        "hist4 = model4.fit(X_t,y, batch_size=batch_size, epochs=epochs, validation_split=0.2, callbacks=[early_stop])"
      ],
      "execution_count": 53,
      "outputs": [
        {
          "output_type": "stream",
          "text": [
            "Epoch 1/150\n",
            "6/6 [==============================] - 25s 4s/step - loss: 0.7678 - accuracy: 0.7205 - val_loss: 0.6316 - val_accuracy: 0.8012\n",
            "Epoch 2/150\n",
            "6/6 [==============================] - 25s 4s/step - loss: 0.7690 - accuracy: 0.7205 - val_loss: 0.6304 - val_accuracy: 0.8012\n",
            "Epoch 3/150\n",
            "6/6 [==============================] - 25s 4s/step - loss: 0.7636 - accuracy: 0.7213 - val_loss: 0.6323 - val_accuracy: 0.8012\n",
            "Epoch 4/150\n",
            "6/6 [==============================] - 25s 4s/step - loss: 0.7591 - accuracy: 0.7205 - val_loss: 0.6347 - val_accuracy: 0.8012\n",
            "Epoch 5/150\n",
            "6/6 [==============================] - 25s 4s/step - loss: 0.7583 - accuracy: 0.7205 - val_loss: 0.6331 - val_accuracy: 0.8012\n",
            "Epoch 6/150\n",
            "6/6 [==============================] - 25s 4s/step - loss: 0.7656 - accuracy: 0.7205 - val_loss: 0.6343 - val_accuracy: 0.8012\n",
            "Epoch 7/150\n",
            "6/6 [==============================] - 25s 4s/step - loss: 0.7665 - accuracy: 0.7205 - val_loss: 0.6317 - val_accuracy: 0.8012\n",
            "Epoch 8/150\n",
            "6/6 [==============================] - 25s 4s/step - loss: 0.7688 - accuracy: 0.7205 - val_loss: 0.6275 - val_accuracy: 0.8012\n",
            "Epoch 9/150\n",
            "6/6 [==============================] - 25s 4s/step - loss: 0.7665 - accuracy: 0.7205 - val_loss: 0.6292 - val_accuracy: 0.8012\n",
            "Epoch 10/150\n",
            "6/6 [==============================] - 25s 4s/step - loss: 0.7685 - accuracy: 0.7205 - val_loss: 0.6296 - val_accuracy: 0.8012\n",
            "Epoch 11/150\n",
            "6/6 [==============================] - 25s 4s/step - loss: 0.7631 - accuracy: 0.7205 - val_loss: 0.6311 - val_accuracy: 0.8012\n",
            "Epoch 12/150\n",
            "6/6 [==============================] - 25s 4s/step - loss: 0.7644 - accuracy: 0.7198 - val_loss: 0.6319 - val_accuracy: 0.8012\n",
            "Epoch 13/150\n",
            "6/6 [==============================] - 25s 4s/step - loss: 0.7581 - accuracy: 0.7205 - val_loss: 0.6315 - val_accuracy: 0.8012\n",
            "Epoch 14/150\n",
            "6/6 [==============================] - 25s 4s/step - loss: 0.7623 - accuracy: 0.7205 - val_loss: 0.6313 - val_accuracy: 0.8012\n",
            "Epoch 15/150\n",
            "6/6 [==============================] - 25s 4s/step - loss: 0.7702 - accuracy: 0.7205 - val_loss: 0.6328 - val_accuracy: 0.8012\n",
            "Epoch 16/150\n",
            "6/6 [==============================] - 25s 4s/step - loss: 0.7669 - accuracy: 0.7205 - val_loss: 0.6312 - val_accuracy: 0.8012\n",
            "Epoch 17/150\n",
            "6/6 [==============================] - 25s 4s/step - loss: 0.7632 - accuracy: 0.7205 - val_loss: 0.6296 - val_accuracy: 0.8012\n",
            "Epoch 18/150\n",
            "6/6 [==============================] - 25s 4s/step - loss: 0.7649 - accuracy: 0.7144 - val_loss: 0.6292 - val_accuracy: 0.8012\n"
          ],
          "name": "stdout"
        }
      ]
    },
    {
      "cell_type": "code",
      "metadata": {
        "colab": {
          "base_uri": "https://localhost:8080/",
          "height": 573
        },
        "id": "oVkczxxWkyGF",
        "outputId": "97813966-ded7-46af-c709-b507dd89a1fe"
      },
      "source": [
        "plot_result(hist4)"
      ],
      "execution_count": 58,
      "outputs": [
        {
          "output_type": "display_data",
          "data": {
            "image/png": "[encoded data removed]",
            "text/plain": [
              "<Figure size 432x288 with 1 Axes>"
            ]
          },
          "metadata": {
            "tags": [],
            "needs_background": "light"
          }
        },
        {
          "output_type": "display_data",
          "data": {
            "image/png": "[encoded data removed]",
            "text/plain": [
              "<Figure size 432x288 with 1 Axes>"
            ]
          },
          "metadata": {
            "tags": [],
            "needs_background": "light"
          }
        }
      ]
    },
    {
      "cell_type": "markdown",
      "metadata": {
        "id": "jrshAs3FpEWE"
      },
      "source": [
        "##Bidirectional LSTM model"
      ]
    },
    {
      "cell_type": "code",
      "metadata": {
        "colab": {
          "base_uri": "https://localhost:8080/"
        },
        "id": "DhuxjmMBpEWF",
        "outputId": "df83816e-47fc-40ae-ba05-36ba1a256d26"
      },
      "source": [
        "batch_size = 256\n",
        "epochs = 150\n",
        "hist5 = model5.fit(X_t,y, batch_size=batch_size, epochs=epochs, validation_split=0.2, callbacks=[early_stop])"
      ],
      "execution_count": 33,
      "outputs": [
        {
          "output_type": "stream",
          "text": [
            "Epoch 1/150\n",
            "6/6 [==============================] - 19s 2s/step - loss: 1.1000 - accuracy: 0.2978 - val_loss: 0.8584 - val_accuracy: 0.7982\n",
            "Epoch 2/150\n",
            "6/6 [==============================] - 8s 1s/step - loss: 0.8651 - accuracy: 0.7150 - val_loss: 0.7107 - val_accuracy: 0.8012\n",
            "Epoch 3/150\n",
            "6/6 [==============================] - 8s 1s/step - loss: 0.8307 - accuracy: 0.7218 - val_loss: 0.6784 - val_accuracy: 0.8012\n",
            "Epoch 4/150\n",
            "6/6 [==============================] - 8s 1s/step - loss: 0.8121 - accuracy: 0.7251 - val_loss: 0.6779 - val_accuracy: 0.8012\n",
            "Epoch 5/150\n",
            "6/6 [==============================] - 8s 1s/step - loss: 0.8116 - accuracy: 0.7174 - val_loss: 0.6881 - val_accuracy: 0.8012\n",
            "Epoch 6/150\n",
            "6/6 [==============================] - 8s 1s/step - loss: 0.8004 - accuracy: 0.7217 - val_loss: 0.6784 - val_accuracy: 0.8012\n",
            "Epoch 7/150\n",
            "6/6 [==============================] - 8s 1s/step - loss: 0.7975 - accuracy: 0.7212 - val_loss: 0.6606 - val_accuracy: 0.8012\n",
            "Epoch 8/150\n",
            "6/6 [==============================] - 8s 1s/step - loss: 0.7859 - accuracy: 0.7200 - val_loss: 0.6445 - val_accuracy: 0.8012\n",
            "Epoch 9/150\n",
            "6/6 [==============================] - 8s 1s/step - loss: 0.7665 - accuracy: 0.7266 - val_loss: 0.6341 - val_accuracy: 0.8012\n",
            "Epoch 10/150\n",
            "6/6 [==============================] - 8s 1s/step - loss: 0.7531 - accuracy: 0.7259 - val_loss: 0.6339 - val_accuracy: 0.8012\n",
            "Epoch 11/150\n",
            "6/6 [==============================] - 8s 1s/step - loss: 0.7312 - accuracy: 0.7307 - val_loss: 0.6166 - val_accuracy: 0.8012\n",
            "Epoch 12/150\n",
            "6/6 [==============================] - 8s 1s/step - loss: 0.7401 - accuracy: 0.7188 - val_loss: 0.5993 - val_accuracy: 0.8012\n",
            "Epoch 13/150\n",
            "6/6 [==============================] - 8s 1s/step - loss: 0.7257 - accuracy: 0.7184 - val_loss: 0.5741 - val_accuracy: 0.8012\n",
            "Epoch 14/150\n",
            "6/6 [==============================] - 8s 1s/step - loss: 0.6993 - accuracy: 0.7182 - val_loss: 0.5551 - val_accuracy: 0.8012\n",
            "Epoch 15/150\n",
            "6/6 [==============================] - 8s 1s/step - loss: 0.6694 - accuracy: 0.7323 - val_loss: 0.5354 - val_accuracy: 0.8012\n",
            "Epoch 16/150\n",
            "6/6 [==============================] - 8s 1s/step - loss: 0.6676 - accuracy: 0.7233 - val_loss: 0.5325 - val_accuracy: 0.7982\n",
            "Epoch 17/150\n",
            "6/6 [==============================] - 8s 1s/step - loss: 0.6523 - accuracy: 0.7278 - val_loss: 0.5192 - val_accuracy: 0.8012\n",
            "Epoch 18/150\n",
            "6/6 [==============================] - 8s 1s/step - loss: 0.6299 - accuracy: 0.7451 - val_loss: 0.5126 - val_accuracy: 0.8073\n",
            "Epoch 19/150\n",
            "6/6 [==============================] - 8s 1s/step - loss: 0.6108 - accuracy: 0.7521 - val_loss: 0.5119 - val_accuracy: 0.8135\n",
            "Epoch 20/150\n",
            "6/6 [==============================] - 8s 1s/step - loss: 0.6046 - accuracy: 0.7569 - val_loss: 0.5109 - val_accuracy: 0.8165\n",
            "Epoch 21/150\n",
            "6/6 [==============================] - 8s 1s/step - loss: 0.5980 - accuracy: 0.7742 - val_loss: 0.5074 - val_accuracy: 0.8135\n",
            "Epoch 22/150\n",
            "6/6 [==============================] - 8s 1s/step - loss: 0.5826 - accuracy: 0.7703 - val_loss: 0.5091 - val_accuracy: 0.8104\n",
            "Epoch 23/150\n",
            "6/6 [==============================] - 8s 1s/step - loss: 0.5913 - accuracy: 0.7579 - val_loss: 0.5051 - val_accuracy: 0.8165\n",
            "Epoch 24/150\n",
            "6/6 [==============================] - 8s 1s/step - loss: 0.5621 - accuracy: 0.7719 - val_loss: 0.5043 - val_accuracy: 0.8135\n",
            "Epoch 25/150\n",
            "6/6 [==============================] - 8s 1s/step - loss: 0.5575 - accuracy: 0.7664 - val_loss: 0.5001 - val_accuracy: 0.8165\n",
            "Epoch 26/150\n",
            "6/6 [==============================] - 8s 1s/step - loss: 0.5490 - accuracy: 0.7720 - val_loss: 0.4925 - val_accuracy: 0.8226\n",
            "Epoch 27/150\n",
            "6/6 [==============================] - 8s 1s/step - loss: 0.5685 - accuracy: 0.7701 - val_loss: 0.4926 - val_accuracy: 0.8226\n",
            "Epoch 28/150\n",
            "6/6 [==============================] - 8s 1s/step - loss: 0.5754 - accuracy: 0.7663 - val_loss: 0.4850 - val_accuracy: 0.8318\n",
            "Epoch 29/150\n",
            "6/6 [==============================] - 8s 1s/step - loss: 0.5615 - accuracy: 0.7791 - val_loss: 0.4954 - val_accuracy: 0.8226\n",
            "Epoch 30/150\n",
            "6/6 [==============================] - 8s 1s/step - loss: 0.5486 - accuracy: 0.7830 - val_loss: 0.4916 - val_accuracy: 0.8318\n",
            "Epoch 31/150\n",
            "6/6 [==============================] - 8s 1s/step - loss: 0.5694 - accuracy: 0.7814 - val_loss: 0.4977 - val_accuracy: 0.8226\n",
            "Epoch 32/150\n",
            "6/6 [==============================] - 8s 1s/step - loss: 0.5492 - accuracy: 0.7809 - val_loss: 0.4863 - val_accuracy: 0.8349\n",
            "Epoch 33/150\n",
            "6/6 [==============================] - 8s 1s/step - loss: 0.5205 - accuracy: 0.7924 - val_loss: 0.4943 - val_accuracy: 0.8287\n",
            "Epoch 34/150\n",
            "6/6 [==============================] - 8s 1s/step - loss: 0.5414 - accuracy: 0.7731 - val_loss: 0.4885 - val_accuracy: 0.8287\n",
            "Epoch 35/150\n",
            "6/6 [==============================] - 8s 1s/step - loss: 0.5183 - accuracy: 0.7907 - val_loss: 0.4883 - val_accuracy: 0.8287\n",
            "Epoch 36/150\n",
            "6/6 [==============================] - 8s 1s/step - loss: 0.5343 - accuracy: 0.7829 - val_loss: 0.4773 - val_accuracy: 0.8379\n",
            "Epoch 37/150\n",
            "6/6 [==============================] - 8s 1s/step - loss: 0.5192 - accuracy: 0.7959 - val_loss: 0.4757 - val_accuracy: 0.8379\n",
            "Epoch 38/150\n",
            "6/6 [==============================] - 8s 1s/step - loss: 0.5143 - accuracy: 0.7982 - val_loss: 0.4751 - val_accuracy: 0.8410\n",
            "Epoch 39/150\n",
            "6/6 [==============================] - 8s 1s/step - loss: 0.5227 - accuracy: 0.7840 - val_loss: 0.4816 - val_accuracy: 0.8410\n",
            "Epoch 40/150\n",
            "6/6 [==============================] - 8s 1s/step - loss: 0.5209 - accuracy: 0.7841 - val_loss: 0.4736 - val_accuracy: 0.8410\n",
            "Epoch 41/150\n",
            "6/6 [==============================] - 8s 1s/step - loss: 0.5248 - accuracy: 0.7778 - val_loss: 0.4707 - val_accuracy: 0.8349\n",
            "Epoch 42/150\n",
            "6/6 [==============================] - 8s 1s/step - loss: 0.5223 - accuracy: 0.7858 - val_loss: 0.4727 - val_accuracy: 0.8410\n",
            "Epoch 43/150\n",
            "6/6 [==============================] - 8s 1s/step - loss: 0.4980 - accuracy: 0.8024 - val_loss: 0.4738 - val_accuracy: 0.8410\n",
            "Epoch 44/150\n",
            "6/6 [==============================] - 8s 1s/step - loss: 0.4835 - accuracy: 0.8116 - val_loss: 0.4704 - val_accuracy: 0.8379\n",
            "Epoch 45/150\n",
            "6/6 [==============================] - 8s 1s/step - loss: 0.4784 - accuracy: 0.8125 - val_loss: 0.4768 - val_accuracy: 0.8471\n",
            "Epoch 46/150\n",
            "6/6 [==============================] - 8s 1s/step - loss: 0.4823 - accuracy: 0.8044 - val_loss: 0.4760 - val_accuracy: 0.8502\n",
            "Epoch 47/150\n",
            "6/6 [==============================] - 8s 1s/step - loss: 0.4918 - accuracy: 0.7986 - val_loss: 0.4544 - val_accuracy: 0.8502\n",
            "Epoch 48/150\n",
            "6/6 [==============================] - 8s 1s/step - loss: 0.4769 - accuracy: 0.8102 - val_loss: 0.4605 - val_accuracy: 0.8563\n",
            "Epoch 49/150\n",
            "6/6 [==============================] - 8s 1s/step - loss: 0.4902 - accuracy: 0.8001 - val_loss: 0.4553 - val_accuracy: 0.8502\n",
            "Epoch 50/150\n",
            "6/6 [==============================] - 8s 1s/step - loss: 0.4633 - accuracy: 0.8223 - val_loss: 0.4469 - val_accuracy: 0.8471\n",
            "Epoch 51/150\n",
            "6/6 [==============================] - 8s 1s/step - loss: 0.4916 - accuracy: 0.8108 - val_loss: 0.4848 - val_accuracy: 0.8379\n",
            "Epoch 52/150\n",
            "6/6 [==============================] - 8s 1s/step - loss: 0.4823 - accuracy: 0.8035 - val_loss: 0.4506 - val_accuracy: 0.8502\n",
            "Epoch 53/150\n",
            "6/6 [==============================] - 8s 1s/step - loss: 0.4606 - accuracy: 0.8180 - val_loss: 0.4610 - val_accuracy: 0.8502\n",
            "Epoch 54/150\n",
            "6/6 [==============================] - 8s 1s/step - loss: 0.4670 - accuracy: 0.8153 - val_loss: 0.4600 - val_accuracy: 0.8502\n",
            "Epoch 55/150\n",
            "6/6 [==============================] - 8s 1s/step - loss: 0.4364 - accuracy: 0.8376 - val_loss: 0.4593 - val_accuracy: 0.8471\n",
            "Epoch 56/150\n",
            "6/6 [==============================] - 8s 1s/step - loss: 0.4693 - accuracy: 0.8225 - val_loss: 0.4467 - val_accuracy: 0.8532\n",
            "Epoch 57/150\n",
            "6/6 [==============================] - 8s 1s/step - loss: 0.4190 - accuracy: 0.8352 - val_loss: 0.4547 - val_accuracy: 0.8563\n",
            "Epoch 58/150\n",
            "6/6 [==============================] - 8s 1s/step - loss: 0.4454 - accuracy: 0.8163 - val_loss: 0.4424 - val_accuracy: 0.8532\n",
            "Epoch 59/150\n",
            "6/6 [==============================] - 8s 1s/step - loss: 0.4517 - accuracy: 0.8186 - val_loss: 0.4709 - val_accuracy: 0.8502\n",
            "Epoch 60/150\n",
            "6/6 [==============================] - 8s 1s/step - loss: 0.4592 - accuracy: 0.8163 - val_loss: 0.4428 - val_accuracy: 0.8563\n",
            "Epoch 61/150\n",
            "6/6 [==============================] - 8s 1s/step - loss: 0.4088 - accuracy: 0.8368 - val_loss: 0.4501 - val_accuracy: 0.8563\n",
            "Epoch 62/150\n",
            "6/6 [==============================] - 8s 1s/step - loss: 0.4170 - accuracy: 0.8310 - val_loss: 0.4437 - val_accuracy: 0.8593\n",
            "Epoch 63/150\n",
            "6/6 [==============================] - 8s 1s/step - loss: 0.4416 - accuracy: 0.8332 - val_loss: 0.4322 - val_accuracy: 0.8532\n",
            "Epoch 64/150\n",
            "6/6 [==============================] - 8s 1s/step - loss: 0.4169 - accuracy: 0.8409 - val_loss: 0.4299 - val_accuracy: 0.8502\n",
            "Epoch 65/150\n",
            "6/6 [==============================] - 8s 1s/step - loss: 0.4114 - accuracy: 0.8455 - val_loss: 0.4279 - val_accuracy: 0.8532\n",
            "Epoch 66/150\n",
            "6/6 [==============================] - 8s 1s/step - loss: 0.4034 - accuracy: 0.8494 - val_loss: 0.4453 - val_accuracy: 0.8502\n",
            "Epoch 67/150\n",
            "6/6 [==============================] - 8s 1s/step - loss: 0.3984 - accuracy: 0.8434 - val_loss: 0.4301 - val_accuracy: 0.8532\n",
            "Epoch 68/150\n",
            "6/6 [==============================] - 8s 1s/step - loss: 0.4125 - accuracy: 0.8397 - val_loss: 0.4547 - val_accuracy: 0.8563\n",
            "Epoch 69/150\n",
            "6/6 [==============================] - 8s 1s/step - loss: 0.4122 - accuracy: 0.8372 - val_loss: 0.4381 - val_accuracy: 0.8532\n",
            "Epoch 70/150\n",
            "6/6 [==============================] - 8s 1s/step - loss: 0.3818 - accuracy: 0.8616 - val_loss: 0.4615 - val_accuracy: 0.8563\n",
            "Epoch 71/150\n",
            "6/6 [==============================] - 8s 1s/step - loss: 0.3918 - accuracy: 0.8518 - val_loss: 0.4403 - val_accuracy: 0.8502\n",
            "Epoch 72/150\n",
            "6/6 [==============================] - 8s 1s/step - loss: 0.3783 - accuracy: 0.8443 - val_loss: 0.4713 - val_accuracy: 0.8563\n",
            "Epoch 73/150\n",
            "6/6 [==============================] - 8s 1s/step - loss: 0.4032 - accuracy: 0.8402 - val_loss: 0.4471 - val_accuracy: 0.8563\n",
            "Epoch 74/150\n",
            "6/6 [==============================] - 8s 1s/step - loss: 0.3832 - accuracy: 0.8473 - val_loss: 0.4388 - val_accuracy: 0.8563\n",
            "Epoch 75/150\n",
            "6/6 [==============================] - 8s 1s/step - loss: 0.4269 - accuracy: 0.8410 - val_loss: 0.4725 - val_accuracy: 0.8532\n",
            "Epoch 76/150\n",
            "6/6 [==============================] - 8s 1s/step - loss: 0.3968 - accuracy: 0.8405 - val_loss: 0.4358 - val_accuracy: 0.8532\n",
            "Epoch 77/150\n",
            "6/6 [==============================] - 8s 1s/step - loss: 0.3756 - accuracy: 0.8563 - val_loss: 0.4485 - val_accuracy: 0.8502\n",
            "Epoch 78/150\n",
            "6/6 [==============================] - 8s 1s/step - loss: 0.3754 - accuracy: 0.8520 - val_loss: 0.4645 - val_accuracy: 0.8471\n",
            "Epoch 79/150\n",
            "6/6 [==============================] - 8s 1s/step - loss: 0.3489 - accuracy: 0.8699 - val_loss: 0.4641 - val_accuracy: 0.8563\n",
            "Epoch 80/150\n",
            "6/6 [==============================] - 8s 1s/step - loss: 0.3764 - accuracy: 0.8528 - val_loss: 0.4549 - val_accuracy: 0.8532\n",
            "Epoch 81/150\n",
            "6/6 [==============================] - 8s 1s/step - loss: 0.3635 - accuracy: 0.8599 - val_loss: 0.4324 - val_accuracy: 0.8624\n",
            "Epoch 82/150\n",
            "6/6 [==============================] - 8s 1s/step - loss: 0.3600 - accuracy: 0.8665 - val_loss: 0.4518 - val_accuracy: 0.8563\n",
            "Epoch 83/150\n",
            "6/6 [==============================] - 8s 1s/step - loss: 0.3580 - accuracy: 0.8512 - val_loss: 0.4426 - val_accuracy: 0.8532\n",
            "Epoch 84/150\n",
            "6/6 [==============================] - 8s 1s/step - loss: 0.3272 - accuracy: 0.8793 - val_loss: 0.4717 - val_accuracy: 0.8532\n",
            "Epoch 85/150\n",
            "6/6 [==============================] - 8s 1s/step - loss: 0.3549 - accuracy: 0.8585 - val_loss: 0.4489 - val_accuracy: 0.8563\n"
          ],
          "name": "stdout"
        }
      ]
    },
    {
      "cell_type": "code",
      "metadata": {
        "colab": {
          "base_uri": "https://localhost:8080/",
          "height": 0
        },
        "id": "UrX8qMMmpEWG",
        "outputId": "2922182a-c71a-44b8-ebda-6b0f12e5a636"
      },
      "source": [
        "plot_result(hist5)"
      ],
      "execution_count": 40,
      "outputs": [
        {
          "output_type": "display_data",
          "data": {
            "image/png": "[encoded data removed]",
            "text/plain": [
              "<Figure size 432x288 with 1 Axes>"
            ]
          },
          "metadata": {
            "tags": [],
            "needs_background": "light"
          }
        },
        {
          "output_type": "display_data",
          "data": {
            "image/png": "[encoded data removed]",
            "text/plain": [
              "<Figure size 432x288 with 1 Axes>"
            ]
          },
          "metadata": {
            "tags": [],
            "needs_background": "light"
          }
        }
      ]
    },
    {
      "cell_type": "markdown",
      "metadata": {
        "id": "fcnDwgQOpWMi"
      },
      "source": [
        "##CNN model"
      ]
    },
    {
      "cell_type": "code",
      "metadata": {
        "colab": {
          "base_uri": "https://localhost:8080/"
        },
        "id": "d7lszQXLpWMj",
        "outputId": "213ca851-4bd5-43c3-9765-e45da179d43d"
      },
      "source": [
        "batch_size = 256\n",
        "epochs = 150\n",
        "hist6 = model6.fit(X_t,y, batch_size=batch_size, epochs=epochs, validation_split=0.2,callbacks=[early_stop])"
      ],
      "execution_count": null,
      "outputs": [
        {
          "output_type": "stream",
          "text": [
            "Epoch 1/150\n",
            "6/6 [==============================] - 44s 192ms/step - loss: 2.1254 - accuracy: 0.7022 - val_loss: 1.8267 - val_accuracy: 0.8012\n",
            "Epoch 2/150\n",
            "6/6 [==============================] - 0s 10ms/step - loss: 1.9514 - accuracy: 0.7263 - val_loss: 1.7774 - val_accuracy: 0.8012\n",
            "Epoch 3/150\n",
            "6/6 [==============================] - 0s 9ms/step - loss: 1.9107 - accuracy: 0.7193 - val_loss: 1.7650 - val_accuracy: 0.8012\n",
            "Epoch 4/150\n",
            "6/6 [==============================] - 0s 9ms/step - loss: 1.8494 - accuracy: 0.7168 - val_loss: 1.7379 - val_accuracy: 0.8012\n",
            "Epoch 5/150\n",
            "6/6 [==============================] - 0s 9ms/step - loss: 1.7698 - accuracy: 0.7379 - val_loss: 1.6877 - val_accuracy: 0.8012\n",
            "Epoch 6/150\n",
            "6/6 [==============================] - 0s 9ms/step - loss: 1.7704 - accuracy: 0.7225 - val_loss: 1.6432 - val_accuracy: 0.8012\n",
            "Epoch 7/150\n",
            "6/6 [==============================] - 0s 13ms/step - loss: 1.7018 - accuracy: 0.7235 - val_loss: 1.6094 - val_accuracy: 0.8012\n",
            "Epoch 8/150\n",
            "6/6 [==============================] - 0s 9ms/step - loss: 1.6658 - accuracy: 0.7240 - val_loss: 1.5629 - val_accuracy: 0.8012\n",
            "Epoch 9/150\n",
            "6/6 [==============================] - 0s 9ms/step - loss: 1.6194 - accuracy: 0.7304 - val_loss: 1.5252 - val_accuracy: 0.8012\n",
            "Epoch 10/150\n",
            "6/6 [==============================] - 0s 10ms/step - loss: 1.5711 - accuracy: 0.7297 - val_loss: 1.4958 - val_accuracy: 0.8012\n",
            "Epoch 11/150\n",
            "6/6 [==============================] - 0s 9ms/step - loss: 1.5380 - accuracy: 0.7309 - val_loss: 1.4601 - val_accuracy: 0.8012\n",
            "Epoch 12/150\n",
            "6/6 [==============================] - 0s 9ms/step - loss: 1.5172 - accuracy: 0.7218 - val_loss: 1.4185 - val_accuracy: 0.8012\n",
            "Epoch 13/150\n",
            "6/6 [==============================] - 0s 9ms/step - loss: 1.4607 - accuracy: 0.7310 - val_loss: 1.3885 - val_accuracy: 0.8012\n",
            "Epoch 14/150\n",
            "6/6 [==============================] - 0s 12ms/step - loss: 1.4276 - accuracy: 0.7348 - val_loss: 1.3634 - val_accuracy: 0.8012\n",
            "Epoch 15/150\n",
            "6/6 [==============================] - 0s 11ms/step - loss: 1.3818 - accuracy: 0.7408 - val_loss: 1.3265 - val_accuracy: 0.8012\n",
            "Epoch 16/150\n",
            "6/6 [==============================] - 0s 9ms/step - loss: 1.3558 - accuracy: 0.7607 - val_loss: 1.3011 - val_accuracy: 0.8012\n",
            "Epoch 17/150\n",
            "6/6 [==============================] - 0s 9ms/step - loss: 1.3450 - accuracy: 0.7244 - val_loss: 1.2786 - val_accuracy: 0.8012\n",
            "Epoch 18/150\n",
            "6/6 [==============================] - 0s 9ms/step - loss: 1.2997 - accuracy: 0.7500 - val_loss: 1.2520 - val_accuracy: 0.8012\n",
            "Epoch 19/150\n",
            "6/6 [==============================] - 0s 9ms/step - loss: 1.3001 - accuracy: 0.7146 - val_loss: 1.2234 - val_accuracy: 0.8012\n",
            "Epoch 20/150\n",
            "6/6 [==============================] - 0s 12ms/step - loss: 1.2491 - accuracy: 0.7489 - val_loss: 1.1998 - val_accuracy: 0.8073\n",
            "Epoch 21/150\n",
            "6/6 [==============================] - 0s 9ms/step - loss: 1.2153 - accuracy: 0.7537 - val_loss: 1.1818 - val_accuracy: 0.8073\n",
            "Epoch 22/150\n",
            "6/6 [==============================] - 0s 9ms/step - loss: 1.1841 - accuracy: 0.7869 - val_loss: 1.1666 - val_accuracy: 0.8073\n",
            "Epoch 23/150\n",
            "6/6 [==============================] - 0s 10ms/step - loss: 1.1609 - accuracy: 0.7663 - val_loss: 1.1397 - val_accuracy: 0.8073\n",
            "Epoch 24/150\n",
            "6/6 [==============================] - 0s 9ms/step - loss: 1.1449 - accuracy: 0.7938 - val_loss: 1.1196 - val_accuracy: 0.8073\n",
            "Epoch 25/150\n",
            "6/6 [==============================] - 0s 9ms/step - loss: 1.1239 - accuracy: 0.7808 - val_loss: 1.1084 - val_accuracy: 0.8073\n",
            "Epoch 26/150\n",
            "6/6 [==============================] - 0s 9ms/step - loss: 1.0973 - accuracy: 0.7813 - val_loss: 1.0847 - val_accuracy: 0.8104\n",
            "Epoch 27/150\n",
            "6/6 [==============================] - 0s 9ms/step - loss: 1.0902 - accuracy: 0.7785 - val_loss: 1.0726 - val_accuracy: 0.8073\n",
            "Epoch 28/150\n",
            "6/6 [==============================] - 0s 9ms/step - loss: 1.0764 - accuracy: 0.7634 - val_loss: 1.0543 - val_accuracy: 0.8135\n",
            "Epoch 29/150\n",
            "6/6 [==============================] - 0s 9ms/step - loss: 1.0416 - accuracy: 0.7950 - val_loss: 1.0428 - val_accuracy: 0.8104\n",
            "Epoch 30/150\n",
            "6/6 [==============================] - 0s 9ms/step - loss: 1.0163 - accuracy: 0.8022 - val_loss: 1.0273 - val_accuracy: 0.8104\n",
            "Epoch 31/150\n",
            "6/6 [==============================] - 0s 12ms/step - loss: 1.0137 - accuracy: 0.7893 - val_loss: 1.0102 - val_accuracy: 0.8104\n",
            "Epoch 32/150\n",
            "6/6 [==============================] - 0s 11ms/step - loss: 1.0019 - accuracy: 0.7848 - val_loss: 0.9997 - val_accuracy: 0.8135\n",
            "Epoch 33/150\n",
            "6/6 [==============================] - 0s 10ms/step - loss: 0.9792 - accuracy: 0.8090 - val_loss: 0.9894 - val_accuracy: 0.8135\n",
            "Epoch 34/150\n",
            "6/6 [==============================] - 0s 10ms/step - loss: 0.9507 - accuracy: 0.8276 - val_loss: 0.9855 - val_accuracy: 0.8165\n",
            "Epoch 35/150\n",
            "6/6 [==============================] - 0s 10ms/step - loss: 0.9622 - accuracy: 0.8355 - val_loss: 0.9769 - val_accuracy: 0.8104\n",
            "Epoch 36/150\n",
            "6/6 [==============================] - 0s 12ms/step - loss: 0.9379 - accuracy: 0.8051 - val_loss: 0.9576 - val_accuracy: 0.8165\n",
            "Epoch 37/150\n",
            "6/6 [==============================] - 0s 10ms/step - loss: 0.9323 - accuracy: 0.7940 - val_loss: 0.9554 - val_accuracy: 0.8165\n",
            "Epoch 38/150\n",
            "6/6 [==============================] - 0s 10ms/step - loss: 0.9190 - accuracy: 0.8269 - val_loss: 0.9470 - val_accuracy: 0.8165\n",
            "Epoch 39/150\n",
            "6/6 [==============================] - 0s 10ms/step - loss: 0.9165 - accuracy: 0.8259 - val_loss: 0.9416 - val_accuracy: 0.8165\n",
            "Epoch 40/150\n",
            "6/6 [==============================] - 0s 10ms/step - loss: 0.9087 - accuracy: 0.8026 - val_loss: 0.9500 - val_accuracy: 0.8104\n",
            "Epoch 41/150\n",
            "6/6 [==============================] - 0s 10ms/step - loss: 0.9024 - accuracy: 0.7900 - val_loss: 0.9240 - val_accuracy: 0.8165\n",
            "Epoch 42/150\n",
            "6/6 [==============================] - 0s 11ms/step - loss: 0.8927 - accuracy: 0.8067 - val_loss: 0.9165 - val_accuracy: 0.8196\n",
            "Epoch 43/150\n",
            "6/6 [==============================] - 0s 10ms/step - loss: 0.8986 - accuracy: 0.8244 - val_loss: 0.9282 - val_accuracy: 0.8135\n",
            "Epoch 44/150\n",
            "6/6 [==============================] - 0s 10ms/step - loss: 0.8686 - accuracy: 0.7977 - val_loss: 0.9106 - val_accuracy: 0.8165\n",
            "Epoch 45/150\n",
            "6/6 [==============================] - 0s 10ms/step - loss: 0.8653 - accuracy: 0.8205 - val_loss: 0.9141 - val_accuracy: 0.8165\n",
            "Epoch 46/150\n",
            "6/6 [==============================] - 0s 10ms/step - loss: 0.8584 - accuracy: 0.8434 - val_loss: 0.8999 - val_accuracy: 0.8165\n",
            "Epoch 47/150\n",
            "6/6 [==============================] - 0s 10ms/step - loss: 0.8682 - accuracy: 0.7947 - val_loss: 0.8886 - val_accuracy: 0.8226\n",
            "Epoch 48/150\n",
            "6/6 [==============================] - 0s 11ms/step - loss: 0.8438 - accuracy: 0.8315 - val_loss: 0.9074 - val_accuracy: 0.8135\n",
            "Epoch 49/150\n",
            "6/6 [==============================] - 0s 10ms/step - loss: 0.8511 - accuracy: 0.8164 - val_loss: 0.8771 - val_accuracy: 0.8318\n",
            "Epoch 50/150\n",
            "6/6 [==============================] - 0s 10ms/step - loss: 0.8238 - accuracy: 0.8223 - val_loss: 0.8710 - val_accuracy: 0.8196\n",
            "Epoch 51/150\n",
            "6/6 [==============================] - 0s 10ms/step - loss: 0.8270 - accuracy: 0.8277 - val_loss: 0.8955 - val_accuracy: 0.8165\n",
            "Epoch 52/150\n",
            "6/6 [==============================] - 0s 10ms/step - loss: 0.8161 - accuracy: 0.8197 - val_loss: 0.8768 - val_accuracy: 0.8165\n",
            "Epoch 53/150\n",
            "6/6 [==============================] - 0s 10ms/step - loss: 0.8094 - accuracy: 0.8256 - val_loss: 0.8631 - val_accuracy: 0.8196\n",
            "Epoch 54/150\n",
            "6/6 [==============================] - 0s 10ms/step - loss: 0.7965 - accuracy: 0.8304 - val_loss: 0.8515 - val_accuracy: 0.8287\n",
            "Epoch 55/150\n",
            "6/6 [==============================] - 0s 10ms/step - loss: 0.7977 - accuracy: 0.8288 - val_loss: 0.8583 - val_accuracy: 0.8196\n",
            "Epoch 56/150\n",
            "6/6 [==============================] - 0s 11ms/step - loss: 0.7852 - accuracy: 0.8290 - val_loss: 0.8578 - val_accuracy: 0.8196\n",
            "Epoch 57/150\n",
            "6/6 [==============================] - 0s 11ms/step - loss: 0.7947 - accuracy: 0.8312 - val_loss: 0.8469 - val_accuracy: 0.8287\n",
            "Epoch 58/150\n",
            "6/6 [==============================] - 0s 10ms/step - loss: 0.7791 - accuracy: 0.8472 - val_loss: 0.8322 - val_accuracy: 0.8318\n",
            "Epoch 59/150\n",
            "6/6 [==============================] - 0s 11ms/step - loss: 0.7946 - accuracy: 0.8245 - val_loss: 0.8738 - val_accuracy: 0.8165\n",
            "Epoch 60/150\n",
            "6/6 [==============================] - 0s 10ms/step - loss: 0.7900 - accuracy: 0.8351 - val_loss: 0.8378 - val_accuracy: 0.8318\n",
            "Epoch 61/150\n",
            "6/6 [==============================] - 0s 10ms/step - loss: 0.7706 - accuracy: 0.8318 - val_loss: 0.8294 - val_accuracy: 0.8471\n",
            "Epoch 62/150\n",
            "6/6 [==============================] - 0s 10ms/step - loss: 0.7901 - accuracy: 0.8221 - val_loss: 0.8394 - val_accuracy: 0.8165\n",
            "Epoch 63/150\n",
            "6/6 [==============================] - 0s 11ms/step - loss: 0.7700 - accuracy: 0.8328 - val_loss: 0.8348 - val_accuracy: 0.8165\n",
            "Epoch 64/150\n",
            "6/6 [==============================] - 0s 10ms/step - loss: 0.7541 - accuracy: 0.8352 - val_loss: 0.8226 - val_accuracy: 0.8257\n",
            "Epoch 65/150\n",
            "6/6 [==============================] - 0s 10ms/step - loss: 0.7606 - accuracy: 0.8361 - val_loss: 0.8242 - val_accuracy: 0.8287\n",
            "Epoch 66/150\n",
            "6/6 [==============================] - 0s 11ms/step - loss: 0.7477 - accuracy: 0.8430 - val_loss: 0.8154 - val_accuracy: 0.8287\n",
            "Epoch 67/150\n",
            "6/6 [==============================] - 0s 10ms/step - loss: 0.7529 - accuracy: 0.8235 - val_loss: 0.8216 - val_accuracy: 0.8287\n",
            "Epoch 68/150\n",
            "6/6 [==============================] - 0s 11ms/step - loss: 0.7423 - accuracy: 0.8442 - val_loss: 0.8205 - val_accuracy: 0.8287\n",
            "Epoch 69/150\n",
            "6/6 [==============================] - 0s 10ms/step - loss: 0.7257 - accuracy: 0.8600 - val_loss: 0.8077 - val_accuracy: 0.8318\n",
            "Epoch 70/150\n",
            "6/6 [==============================] - 0s 10ms/step - loss: 0.7380 - accuracy: 0.8447 - val_loss: 0.8184 - val_accuracy: 0.8287\n",
            "Epoch 71/150\n",
            "6/6 [==============================] - 0s 10ms/step - loss: 0.7252 - accuracy: 0.8627 - val_loss: 0.8104 - val_accuracy: 0.8257\n",
            "Epoch 72/150\n",
            "6/6 [==============================] - 0s 11ms/step - loss: 0.7281 - accuracy: 0.8254 - val_loss: 0.8011 - val_accuracy: 0.8471\n",
            "Epoch 73/150\n",
            "6/6 [==============================] - 0s 10ms/step - loss: 0.7201 - accuracy: 0.8650 - val_loss: 0.8045 - val_accuracy: 0.8287\n",
            "Epoch 74/150\n",
            "6/6 [==============================] - 0s 10ms/step - loss: 0.7187 - accuracy: 0.8646 - val_loss: 0.8000 - val_accuracy: 0.8318\n",
            "Epoch 75/150\n",
            "6/6 [==============================] - 0s 10ms/step - loss: 0.7182 - accuracy: 0.8483 - val_loss: 0.7981 - val_accuracy: 0.8440\n",
            "Epoch 76/150\n",
            "6/6 [==============================] - 0s 10ms/step - loss: 0.7067 - accuracy: 0.8619 - val_loss: 0.8169 - val_accuracy: 0.8287\n",
            "Epoch 77/150\n",
            "6/6 [==============================] - 0s 10ms/step - loss: 0.7129 - accuracy: 0.8441 - val_loss: 0.8037 - val_accuracy: 0.8287\n",
            "Epoch 78/150\n",
            "6/6 [==============================] - 0s 12ms/step - loss: 0.7197 - accuracy: 0.8386 - val_loss: 0.7939 - val_accuracy: 0.8502\n",
            "Epoch 79/150\n",
            "6/6 [==============================] - 0s 10ms/step - loss: 0.7052 - accuracy: 0.8541 - val_loss: 0.7836 - val_accuracy: 0.8440\n",
            "Epoch 80/150\n",
            "6/6 [==============================] - 0s 12ms/step - loss: 0.6955 - accuracy: 0.8505 - val_loss: 0.7882 - val_accuracy: 0.8440\n",
            "Epoch 81/150\n",
            "6/6 [==============================] - 0s 10ms/step - loss: 0.6902 - accuracy: 0.8784 - val_loss: 0.7825 - val_accuracy: 0.8471\n",
            "Epoch 82/150\n",
            "6/6 [==============================] - 0s 11ms/step - loss: 0.6953 - accuracy: 0.8628 - val_loss: 0.8031 - val_accuracy: 0.8257\n",
            "Epoch 83/150\n",
            "6/6 [==============================] - 0s 11ms/step - loss: 0.6990 - accuracy: 0.8494 - val_loss: 0.7861 - val_accuracy: 0.8440\n",
            "Epoch 84/150\n",
            "6/6 [==============================] - 0s 11ms/step - loss: 0.6864 - accuracy: 0.8691 - val_loss: 0.7813 - val_accuracy: 0.8471\n",
            "Epoch 85/150\n",
            "6/6 [==============================] - 0s 11ms/step - loss: 0.6839 - accuracy: 0.8637 - val_loss: 0.7768 - val_accuracy: 0.8471\n",
            "Epoch 86/150\n",
            "6/6 [==============================] - 0s 10ms/step - loss: 0.6970 - accuracy: 0.8551 - val_loss: 0.8004 - val_accuracy: 0.8349\n",
            "Epoch 87/150\n",
            "6/6 [==============================] - 0s 11ms/step - loss: 0.6854 - accuracy: 0.8660 - val_loss: 0.7806 - val_accuracy: 0.8379\n",
            "Epoch 88/150\n",
            "6/6 [==============================] - 0s 11ms/step - loss: 0.6949 - accuracy: 0.8381 - val_loss: 0.7744 - val_accuracy: 0.8440\n",
            "Epoch 89/150\n",
            "6/6 [==============================] - 0s 11ms/step - loss: 0.6700 - accuracy: 0.8584 - val_loss: 0.7878 - val_accuracy: 0.8471\n",
            "Epoch 90/150\n",
            "6/6 [==============================] - 0s 10ms/step - loss: 0.6780 - accuracy: 0.8848 - val_loss: 0.7844 - val_accuracy: 0.8410\n",
            "Epoch 91/150\n",
            "6/6 [==============================] - 0s 10ms/step - loss: 0.6572 - accuracy: 0.8941 - val_loss: 0.7696 - val_accuracy: 0.8654\n",
            "Epoch 92/150\n",
            "6/6 [==============================] - 0s 13ms/step - loss: 0.6595 - accuracy: 0.8725 - val_loss: 0.7832 - val_accuracy: 0.8318\n",
            "Epoch 93/150\n",
            "6/6 [==============================] - 0s 12ms/step - loss: 0.6544 - accuracy: 0.8744 - val_loss: 0.7704 - val_accuracy: 0.8654\n",
            "Epoch 94/150\n",
            "6/6 [==============================] - 0s 10ms/step - loss: 0.6548 - accuracy: 0.8890 - val_loss: 0.7739 - val_accuracy: 0.8502\n",
            "Epoch 95/150\n",
            "6/6 [==============================] - 0s 11ms/step - loss: 0.6756 - accuracy: 0.8852 - val_loss: 0.7728 - val_accuracy: 0.8471\n",
            "Epoch 96/150\n",
            "6/6 [==============================] - 0s 10ms/step - loss: 0.6766 - accuracy: 0.8726 - val_loss: 0.8061 - val_accuracy: 0.8410\n",
            "Epoch 97/150\n",
            "6/6 [==============================] - 0s 10ms/step - loss: 0.6825 - accuracy: 0.8485 - val_loss: 0.7854 - val_accuracy: 0.8379\n",
            "Epoch 98/150\n",
            "6/6 [==============================] - 0s 11ms/step - loss: 0.6555 - accuracy: 0.8531 - val_loss: 0.7727 - val_accuracy: 0.8654\n",
            "Epoch 99/150\n",
            "6/6 [==============================] - 0s 10ms/step - loss: 0.6723 - accuracy: 0.8832 - val_loss: 0.7745 - val_accuracy: 0.8624\n",
            "Epoch 100/150\n",
            "6/6 [==============================] - 0s 11ms/step - loss: 0.6772 - accuracy: 0.8740 - val_loss: 0.7798 - val_accuracy: 0.8471\n",
            "Epoch 101/150\n",
            "6/6 [==============================] - 0s 11ms/step - loss: 0.6500 - accuracy: 0.8633 - val_loss: 0.7845 - val_accuracy: 0.8410\n",
            "Epoch 102/150\n",
            "6/6 [==============================] - 0s 11ms/step - loss: 0.6325 - accuracy: 0.8860 - val_loss: 0.7775 - val_accuracy: 0.8440\n",
            "Epoch 103/150\n",
            "6/6 [==============================] - 0s 11ms/step - loss: 0.6347 - accuracy: 0.8909 - val_loss: 0.7609 - val_accuracy: 0.8685\n",
            "Epoch 104/150\n",
            "6/6 [==============================] - 0s 11ms/step - loss: 0.6548 - accuracy: 0.8715 - val_loss: 0.7846 - val_accuracy: 0.8410\n",
            "Epoch 105/150\n",
            "6/6 [==============================] - 0s 11ms/step - loss: 0.6268 - accuracy: 0.9014 - val_loss: 0.7741 - val_accuracy: 0.8440\n",
            "Epoch 106/150\n",
            "6/6 [==============================] - 0s 11ms/step - loss: 0.6252 - accuracy: 0.8645 - val_loss: 0.7592 - val_accuracy: 0.8563\n",
            "Epoch 107/150\n",
            "6/6 [==============================] - 0s 14ms/step - loss: 0.6279 - accuracy: 0.8788 - val_loss: 0.7754 - val_accuracy: 0.8532\n",
            "Epoch 108/150\n",
            "6/6 [==============================] - 0s 11ms/step - loss: 0.6165 - accuracy: 0.8964 - val_loss: 0.7586 - val_accuracy: 0.8593\n",
            "Epoch 109/150\n",
            "6/6 [==============================] - 0s 10ms/step - loss: 0.6318 - accuracy: 0.8773 - val_loss: 0.7658 - val_accuracy: 0.8593\n",
            "Epoch 110/150\n",
            "6/6 [==============================] - 0s 10ms/step - loss: 0.6164 - accuracy: 0.9020 - val_loss: 0.7665 - val_accuracy: 0.8563\n",
            "Epoch 111/150\n",
            "6/6 [==============================] - 0s 11ms/step - loss: 0.6226 - accuracy: 0.9001 - val_loss: 0.7513 - val_accuracy: 0.8654\n",
            "Epoch 112/150\n",
            "6/6 [==============================] - 0s 11ms/step - loss: 0.6177 - accuracy: 0.8816 - val_loss: 0.7577 - val_accuracy: 0.8624\n",
            "Epoch 113/150\n",
            "6/6 [==============================] - 0s 12ms/step - loss: 0.6133 - accuracy: 0.9001 - val_loss: 0.7771 - val_accuracy: 0.8410\n",
            "Epoch 114/150\n",
            "6/6 [==============================] - 0s 11ms/step - loss: 0.6098 - accuracy: 0.8994 - val_loss: 0.7590 - val_accuracy: 0.8593\n",
            "Epoch 115/150\n",
            "6/6 [==============================] - 0s 11ms/step - loss: 0.6273 - accuracy: 0.9000 - val_loss: 0.7636 - val_accuracy: 0.8471\n",
            "Epoch 116/150\n",
            "6/6 [==============================] - 0s 11ms/step - loss: 0.6171 - accuracy: 0.8979 - val_loss: 0.7637 - val_accuracy: 0.8593\n",
            "Epoch 117/150\n",
            "6/6 [==============================] - 0s 11ms/step - loss: 0.6309 - accuracy: 0.8704 - val_loss: 0.7741 - val_accuracy: 0.8502\n",
            "Epoch 118/150\n",
            "6/6 [==============================] - 0s 11ms/step - loss: 0.6142 - accuracy: 0.8837 - val_loss: 0.7671 - val_accuracy: 0.8502\n",
            "Epoch 119/150\n",
            "6/6 [==============================] - 0s 11ms/step - loss: 0.6135 - accuracy: 0.8909 - val_loss: 0.7517 - val_accuracy: 0.8593\n",
            "Epoch 120/150\n",
            "6/6 [==============================] - 0s 11ms/step - loss: 0.6143 - accuracy: 0.8860 - val_loss: 0.7702 - val_accuracy: 0.8532\n",
            "Epoch 121/150\n",
            "6/6 [==============================] - 0s 11ms/step - loss: 0.6079 - accuracy: 0.8799 - val_loss: 0.7568 - val_accuracy: 0.8654\n",
            "Epoch 122/150\n",
            "6/6 [==============================] - 0s 12ms/step - loss: 0.6069 - accuracy: 0.8984 - val_loss: 0.7684 - val_accuracy: 0.8502\n",
            "Epoch 123/150\n",
            "6/6 [==============================] - 0s 11ms/step - loss: 0.6046 - accuracy: 0.9083 - val_loss: 0.7718 - val_accuracy: 0.8532\n",
            "Epoch 124/150\n",
            "6/6 [==============================] - 0s 11ms/step - loss: 0.6077 - accuracy: 0.9122 - val_loss: 0.7645 - val_accuracy: 0.8532\n",
            "Epoch 125/150\n",
            "6/6 [==============================] - 0s 11ms/step - loss: 0.6060 - accuracy: 0.9019 - val_loss: 0.7811 - val_accuracy: 0.8440\n",
            "Epoch 126/150\n",
            "6/6 [==============================] - 0s 11ms/step - loss: 0.5983 - accuracy: 0.9008 - val_loss: 0.7641 - val_accuracy: 0.8532\n",
            "Epoch 127/150\n",
            "6/6 [==============================] - 0s 11ms/step - loss: 0.6090 - accuracy: 0.8866 - val_loss: 0.7535 - val_accuracy: 0.8593\n",
            "Epoch 128/150\n",
            "6/6 [==============================] - 0s 11ms/step - loss: 0.6023 - accuracy: 0.8963 - val_loss: 0.7520 - val_accuracy: 0.8624\n",
            "Epoch 129/150\n",
            "6/6 [==============================] - 0s 11ms/step - loss: 0.5856 - accuracy: 0.9098 - val_loss: 0.7596 - val_accuracy: 0.8563\n",
            "Epoch 130/150\n",
            "6/6 [==============================] - 0s 11ms/step - loss: 0.5933 - accuracy: 0.9055 - val_loss: 0.7605 - val_accuracy: 0.8654\n",
            "Epoch 131/150\n",
            "6/6 [==============================] - 0s 11ms/step - loss: 0.5823 - accuracy: 0.9177 - val_loss: 0.7613 - val_accuracy: 0.8563\n"
          ],
          "name": "stdout"
        }
      ]
    },
    {
      "cell_type": "code",
      "metadata": {
        "colab": {
          "base_uri": "https://localhost:8080/",
          "height": 573
        },
        "id": "APZxjIgMpWMj",
        "outputId": "5f7eecdc-4ba7-469e-e236-2cd70cc21ac4"
      },
      "source": [
        "plot_result(hist6)"
      ],
      "execution_count": null,
      "outputs": [
        {
          "output_type": "display_data",
          "data": {
            "image/png": "[encoded data removed]",
            "text/plain": [
              "<Figure size 432x288 with 1 Axes>"
            ]
          },
          "metadata": {
            "tags": [],
            "needs_background": "light"
          }
        },
        {
          "output_type": "display_data",
          "data": {
            "image/png": "[encoded data removed]",
            "text/plain": [
              "<Figure size 432x288 with 1 Axes>"
            ]
          },
          "metadata": {
            "tags": [],
            "needs_background": "light"
          }
        }
      ]
    },
    {
      "cell_type": "markdown",
      "metadata": {
        "id": "k3Vh7J3tpgxZ"
      },
      "source": [
        "#Test models"
      ]
    },
    {
      "cell_type": "code",
      "metadata": {
        "id": "LYwwek7IUOHi"
      },
      "source": [
        "def predict_model(sent, model):\n",
        "  # sent = ['چه بد']\n",
        "  vect = prepare_sentence_to_vector(sent)\n",
        "  result = model.predict(vect.reshape(1,X_t.shape[1]),batch_size=1,verbose = 2)\n",
        "  s = list_classes[np.around(result, decimals=0).argmax(axis=1)[0]]\n",
        "  print(\"our model predication: \", list_classes_name[s])"
      ],
      "execution_count": null,
      "outputs": []
    },
    {
      "cell_type": "code",
      "metadata": {
        "colab": {
          "base_uri": "https://localhost:8080/"
        },
        "id": "u7MYCdtep-Mn",
        "outputId": "8943386a-9d5d-417b-9265-80cd77db5ae6"
      },
      "source": [
        "sent = ['چه خوب']\n",
        "predict_model(sent, model1)"
      ],
      "execution_count": null,
      "outputs": [
        {
          "output_type": "stream",
          "text": [
            "1/1 - 1s\n",
            "our model predication:  Positive\n"
          ],
          "name": "stdout"
        }
      ]
    },
    {
      "cell_type": "code",
      "metadata": {
        "colab": {
          "base_uri": "https://localhost:8080/"
        },
        "id": "sm4dcqWmN4kL",
        "outputId": "8b9f657b-61a6-4eb7-c1ba-494cd0602a65"
      },
      "source": [
        "# i =58\n",
        "# print(data['review'].values[i])\n",
        "# # print(X_t[30])\n",
        "# print(\"The Label: \", data['label'].values[i])\n",
        "# result = model.predict(X_t[i].reshape(1,X_t.shape[1]),batch_size=1,verbose = 2)\n",
        "# s = list_classes[np.around(result, decimals=0).argmax(axis=1)[0]]\n",
        "# print(\"our model predication: \", list_classes_name[s])"
      ],
      "execution_count": null,
      "outputs": [
        {
          "output_type": "stream",
          "text": [
            "من هم اكنون در هتل اقامت دارم و با اينكه دربرخي هتل هاي لوكس ايران اقامت داشتم،نظافت و تميزي،برخورد كاركنان آموزش ديده،غذا،قيمت مناسب اقامت و رسيدگي رو در حد بسيار مطلوب ميدونم و براي سفرهاي بعدي حتما اين هتل رو انتخاب خواهم كرد..\n",
            "The Label:  2\n",
            "1/1 - 0s\n",
            "our model predication:  Positive\n"
          ],
          "name": "stdout"
        }
      ]
    },
    {
      "cell_type": "markdown",
      "metadata": {
        "id": "rT7lY8TL0NHR"
      },
      "source": [
        "biLSTM + !pretrain model"
      ]
    },
    {
      "cell_type": "markdown",
      "metadata": {
        "id": "C1QeOcc_cKA0"
      },
      "source": [
        "##training/validation loss plots"
      ]
    },
    {
      "cell_type": "code",
      "metadata": {
        "id": "kWIr9qYR4KQq"
      },
      "source": [
        "all_losses = {\n",
        "'one_lstm_loss': hist.history['loss'],\n",
        "'one_lstm_val_loss': hist.history['val_loss'],\n",
        "'two_lstm_loss': hist2.history['loss'],\n",
        "'two_lstm_val_loss': hist2.history['val_loss'],\n",
        "'four_lstm_loss': hist3.history['loss'],\n",
        "'four_lstm_val_loss': hist3.history['val_loss'],\n",
        "'six_lstm_loss': hist4.history['loss'],\n",
        "'six_lstm_val_loss': hist4.history['val_loss'],\n",
        "'bi_lstm_loss': hist5.history['loss'],\n",
        "'bi_lstm_val_loss': hist5.history['val_loss'],\n",
        "'cnn_loss': hist6.history['loss'],\n",
        "'cnn_val_loss': hist6.history['val_loss'],\n",
        "}"
      ],
      "execution_count": null,
      "outputs": []
    },
    {
      "cell_type": "code",
      "metadata": {
        "colab": {
          "base_uri": "https://localhost:8080/"
        },
        "id": "nfZtNF6C4KQ2",
        "outputId": "a604329b-fe1f-45f7-dbd0-17ee53155628"
      },
      "source": [
        "for a in all_losses:\n",
        "  print(len(all_losses[a]))\n",
        "  # print(len(all_losses[a]))"
      ],
      "execution_count": null,
      "outputs": [
        {
          "output_type": "stream",
          "text": [
            "50\n",
            "50\n",
            "50\n",
            "50\n",
            "50\n",
            "50\n",
            "50\n",
            "50\n",
            "50\n",
            "50\n",
            "50\n",
            "50\n"
          ],
          "name": "stdout"
        }
      ]
    },
    {
      "cell_type": "code",
      "metadata": {
        "colab": {
          "base_uri": "https://localhost:8080/",
          "height": 294
        },
        "id": "fsCDau1H4KQ2",
        "outputId": "b3458719-c45f-4945-cf93-9e1b50b3f6ea"
      },
      "source": [
        "epochRange = np.arange(1,51,1)\n",
        "plt.plot(epochRange,all_losses['one_lstm_loss'])\n",
        "plt.plot(epochRange,all_losses['two_lstm_loss'])\n",
        "plt.plot(epochRange,all_losses['four_lstm_loss'])\n",
        "plt.plot(epochRange,all_losses['six_lstm_loss'])\n",
        "plt.plot(epochRange,all_losses['bi_lstm_loss'])\n",
        "plt.plot(epochRange,all_losses['cnn_loss'])\n",
        "plt.title('Training loss for different models')\n",
        "plt.ylabel('loss')\n",
        "plt.xlabel('epoch')\n",
        "plt.legend(['one_lstm','two_lstm','four_lstm','six_lstm','bi_lstm','cnn'], loc='upper left')\n",
        "plt.show()"
      ],
      "execution_count": null,
      "outputs": [
        {
          "output_type": "display_data",
          "data": {
            "image/png": "[encoded data removed]",
            "text/plain": [
              "<Figure size 432x288 with 1 Axes>"
            ]
          },
          "metadata": {
            "tags": [],
            "needs_background": "light"
          }
        }
      ]
    },
    {
      "cell_type": "code",
      "metadata": {
        "colab": {
          "base_uri": "https://localhost:8080/",
          "height": 878
        },
        "id": "wsu5y7J94KQ3",
        "outputId": "91de3911-97b0-4e4f-fb9b-7b15ead90081"
      },
      "source": [
        "f, ((ax2,ax4), (ax1,  ax6), (ax12,  ax10)) = plt.subplots(3,2, sharex='col', sharey='row',figsize=(15, 15))\n",
        "\n",
        "plt.title('Training Vs Validation loss for all embeddings')\n",
        "\n",
        "\n",
        "ax2.plot(epochRange,all_losses['one_lstm_loss'])\n",
        "ax2.plot(epochRange,all_losses['one_lstm_val_loss'])\n",
        "ax2.set_title('one_lstm')\n",
        "ax2.set_ylim(0.3, 2)\n",
        "\n",
        "\n",
        "ax4.plot(epochRange,all_losses['two_lstm_loss'])\n",
        "ax4.plot(epochRange,all_losses['two_lstm_val_loss'])\n",
        "ax4.set_title('two_lstm')\n",
        "ax4.set_ylim(0.3, 2)\n",
        "\n",
        "ax1.plot(epochRange,all_losses['four_lstm_loss'])\n",
        "ax1.plot(epochRange,all_losses['four_lstm_val_loss'])\n",
        "ax1.set_title('four_lstm')\n",
        "ax1.set_ylim(0.3, 2)\n",
        "\n",
        "ax6.plot(epochRange,all_losses['six_lstm_loss'])\n",
        "ax6.plot(epochRange,all_losses['six_lstm_val_loss'])\n",
        "ax6.set_title('six_lstm')\n",
        "ax6.set_ylim(0.3, 2)\n",
        "\n",
        "\n",
        "ax10.plot(epochRange,all_losses['bi_lstm_loss'])\n",
        "ax10.plot(epochRange,all_losses['bi_lstm_val_loss'])\n",
        "ax10.set_title('bi_lstm')\n",
        "ax10.set_ylim(0.3, 2)\n",
        "\n",
        "\n",
        "ax12.plot(epochRange,all_losses['cnn_loss'])\n",
        "ax12.plot(epochRange,all_losses['cnn_val_loss'])\n",
        "ax12.set_title('cnn')\n",
        "ax12.set_ylim(0.3, 2)\n",
        "\n",
        "plt.show()"
      ],
      "execution_count": null,
      "outputs": [
        {
          "output_type": "display_data",
          "data": {
            "image/png": "[encoded data removed]",
            "text/plain": [
              "<Figure size 1080x1080 with 6 Axes>"
            ]
          },
          "metadata": {
            "tags": [],
            "needs_background": "light"
          }
        }
      ]
    }
  ]
}